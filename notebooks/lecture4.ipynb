{
 "cells": [
  {
   "cell_type": "markdown",
   "id": "4eabf4c9-8099-4d97-91a9-d86ecec9859c",
   "metadata": {},
   "source": [
    "## Python Programming For Chemistry - Dictionary, Sets & Functions\n",
    "\n",
    "This notebook covers:\n",
    "- Dictionaries and their operations\n",
    "- Sets and set operations\n",
    "- Functions and their properties\n",
    "- Error handling in Python\n",
    "\n",
    "Some of the examples can be found in Bill Lubanovic's book \"Introduction to Python\", O'Reilly Media, 2019."
   ]
  },
  {
   "cell_type": "markdown",
   "id": "b2c1bb7c",
   "metadata": {},
   "source": [
    "### Dictionaries\n",
    "\n",
    "A dictionary is a mutable, unordered collection of key-value pairs where each key is unique and can be used to efficiently retrieve its associated value."
   ]
  },
  {
   "cell_type": "code",
   "execution_count": null,
   "id": "4a51251a-2089-440f-8f39-774623f5ebf5",
   "metadata": {},
   "outputs": [],
   "source": [
    "elements = {} # empty dict"
   ]
  },
  {
   "cell_type": "code",
   "execution_count": null,
   "id": "d03ceb82-0dba-430e-a27f-40183441fc2e",
   "metadata": {},
   "outputs": [],
   "source": [
    "elements = {\n",
    "    \"Hydrogen\": 1,\n",
    "    \"Helium\": 2,\n",
    "    \"Carbon\": 6,\n",
    "    \"Oxygen\": 8,\n",
    "    \"Nitrogen\": 7\n",
    "}\n",
    "elements"
   ]
  },
  {
   "cell_type": "code",
   "execution_count": null,
   "id": "00bf8cab-ef32-4007-9270-17590d66b883",
   "metadata": {},
   "outputs": [],
   "source": [
    "# create with dict\n",
    "elements = dict(Hydrogen=1, Helium=2, Carbon=6, Oxygen=8, Nitrogen=7)\n",
    "elements\n"
   ]
  },
  {
   "cell_type": "code",
   "execution_count": null,
   "id": "7491cb1c-02b9-4a51-ab4c-0edf99e1c909",
   "metadata": {},
   "outputs": [],
   "source": [
    "elements_list = [\n",
    "    [\"Hydrogen\", 1],\n",
    "    [\"Helium\", 2],\n",
    "    [\"Carbon\", 6],\n",
    "    [\"Oxygen\", 8],\n",
    "    [\"Nitrogen\", 7]\n",
    "]\n",
    "\n",
    "elements = dict(elements_list) # converting list into dict\n",
    "elements\n"
   ]
  },
  {
   "cell_type": "code",
   "execution_count": null,
   "id": "a2cd8050-d214-4c3e-9804-8782741e80e3",
   "metadata": {},
   "outputs": [],
   "source": [
    "elements_tuples = [\n",
    "    (\"Hydrogen\", 1),\n",
    "    (\"Helium\", 2),\n",
    "    (\"Carbon\", 6),\n",
    "    (\"Oxygen\", 8),\n",
    "    (\"Nitrogen\", 7)\n",
    "]\n",
    "elements"
   ]
  },
  {
   "cell_type": "markdown",
   "id": "e7d217bb-cd99-43b3-a175-3dcbf7499f70",
   "metadata": {},
   "source": [
    "#### Adding items"
   ]
  },
  {
   "cell_type": "code",
   "execution_count": null,
   "id": "bfc67897-40be-468d-889d-4263c87feca8",
   "metadata": {},
   "outputs": [],
   "source": [
    "### Adding items (=key, value pair)\n",
    "pythons = {\n",
    "    \"Chapman\": \"Graham\",\n",
    "    \"Cleese\": \"John\",\n",
    "    \"Idle\": \"Eric\",\n",
    "    \"Jones\": \"Terry\",\n",
    "    \"Palin\": \"Michael\"\n",
    "}\n",
    "pythons"
   ]
  },
  {
   "cell_type": "code",
   "execution_count": null,
   "id": "d4719917-cc57-4963-b834-57637c02b77e",
   "metadata": {},
   "outputs": [],
   "source": [
    "pythons[\"Gilliam\"] = \"Gerry\"\n",
    "pythons"
   ]
  },
  {
   "cell_type": "code",
   "execution_count": null,
   "id": "94b0f10f-e91d-4399-bc1e-b0fd6d1bddaa",
   "metadata": {},
   "outputs": [],
   "source": [
    "pythons[\"Gilliam\"] = \"Terry\" # we can correct this entry "
   ]
  },
  {
   "cell_type": "code",
   "execution_count": null,
   "id": "ae36eada-660c-4374-b6a4-33c4fa9a9ddd",
   "metadata": {},
   "outputs": [],
   "source": [
    "# note thate keys must be unique, the last assignment wins\n",
    "pythons = {\n",
    "    \"Graham\": \"Chapman\",\n",
    "    \"John\": \"Cleese\",\n",
    "    \"Terry\": \"Gilliam\",\n",
    "    \"Eric\": \"Idle\",\n",
    "    \"Terry\": \"Jones\",\n",
    "    \"Michael\": \"Palin\"\n",
    "}\n",
    "pythons"
   ]
  },
  {
   "cell_type": "markdown",
   "id": "fc0a9876-bac3-4285-b9d7-9a534f9e095b",
   "metadata": {},
   "source": [
    "#### Getting items"
   ]
  },
  {
   "cell_type": "code",
   "execution_count": null,
   "id": "72d72159-574d-41c1-9c70-98630eb8b77e",
   "metadata": {},
   "outputs": [],
   "source": [
    "# Getting an Item\n",
    "pythons[\"John\"]"
   ]
  },
  {
   "cell_type": "code",
   "execution_count": null,
   "id": "6d19b0d5-57d4-40d3-a92f-7816478b2cd5",
   "metadata": {},
   "outputs": [],
   "source": [
    "pythons[\"Chris\"]"
   ]
  },
  {
   "cell_type": "code",
   "execution_count": null,
   "id": "3a9daa37-bcd8-4e54-8b44-0ec520326ae6",
   "metadata": {},
   "outputs": [],
   "source": [
    "pythons.get(\"Chris\") # return None"
   ]
  },
  {
   "cell_type": "code",
   "execution_count": null,
   "id": "d9295634-d38d-4102-bac7-1523a617069a",
   "metadata": {},
   "outputs": [],
   "source": [
    "pythons.get(\"Chris\",\"not at Python member\") # return default"
   ]
  },
  {
   "cell_type": "code",
   "execution_count": null,
   "id": "20c81e43-c32c-49e6-9617-387f6067c814",
   "metadata": {},
   "outputs": [],
   "source": [
    "\"Chris\" in pythons"
   ]
  },
  {
   "cell_type": "code",
   "execution_count": null,
   "id": "50d8a5d5-559c-4b66-b1f0-8a9c5fb086fa",
   "metadata": {},
   "outputs": [],
   "source": [
    "\"John\" in pythons"
   ]
  },
  {
   "cell_type": "code",
   "execution_count": null,
   "id": "b4f207cc-d417-4341-bb23-caa5971f8c25",
   "metadata": {},
   "outputs": [],
   "source": [
    "pythons.keys() # get all the keys"
   ]
  },
  {
   "cell_type": "code",
   "execution_count": null,
   "id": "aa654910-09f6-4b6b-aea3-af39750653c4",
   "metadata": {},
   "outputs": [],
   "source": [
    "pythons.values() # get all the values"
   ]
  },
  {
   "cell_type": "code",
   "execution_count": null,
   "id": "a423fcd8-3c54-4000-a874-4bfecd8eb8f1",
   "metadata": {},
   "outputs": [],
   "source": [
    "pythons.items()"
   ]
  },
  {
   "cell_type": "markdown",
   "id": "be676ef0-d0d0-473a-8e70-ccf05feff652",
   "metadata": {},
   "source": [
    "#### Other useful functions for dicts"
   ]
  },
  {
   "cell_type": "code",
   "execution_count": null,
   "id": "409546ba-f9a9-46e8-b38a-6c07933dfdf2",
   "metadata": {},
   "outputs": [],
   "source": [
    "# combine dicts with update\n",
    "molecules = {\n",
    "    \"Methane\": \"CH4\",\n",
    "    \"Ethane\": \"C2H6\",\n",
    "}\n",
    "new_molecules = {\n",
    "    \"Butane\": \"C4H10\",\n",
    "    \"Hexane\": \"C6H14\"\n",
    "}\n",
    "molecules.update(new_molecules)\n",
    "# The combined dictionary\n",
    "molecules"
   ]
  },
  {
   "cell_type": "code",
   "execution_count": null,
   "id": "fed9800d-656f-4125-9a83-99c81eb1b713",
   "metadata": {},
   "outputs": [],
   "source": [
    "molecules.update({\"Heptane\":\"C7H14\"})\n",
    "molecules"
   ]
  },
  {
   "cell_type": "code",
   "execution_count": null,
   "id": "e3b27921-9de8-49ad-b9f5-d091db1437e7",
   "metadata": {},
   "outputs": [],
   "source": [
    "# delete items by key\n",
    "del molecules[\"Ethane\"]\n",
    "molecules"
   ]
  },
  {
   "cell_type": "code",
   "execution_count": null,
   "id": "11b2abfa-1147-4501-b25d-43886fd5fe92",
   "metadata": {},
   "outputs": [],
   "source": [
    "# get an items by key and drop it also\n",
    "molecule = molecules.pop(\"Hexane\")\n",
    "molecule"
   ]
  },
  {
   "cell_type": "code",
   "execution_count": null,
   "id": "bcde11dc-35eb-4a4a-8a9a-ac9a00ae5bac",
   "metadata": {},
   "outputs": [],
   "source": [
    "len(molecules)"
   ]
  },
  {
   "cell_type": "code",
   "execution_count": null,
   "id": "6610776a-4634-4f77-9c2d-21c203d9d2a8",
   "metadata": {},
   "outputs": [],
   "source": [
    "molecules.clear()"
   ]
  },
  {
   "cell_type": "code",
   "execution_count": null,
   "id": "ae4ea3b1-e0a4-4bb3-a6f4-e6c5889ea954",
   "metadata": {},
   "outputs": [],
   "source": [
    "len(molecules)"
   ]
  },
  {
   "cell_type": "markdown",
   "id": "d2110e07-f639-4d8f-ae7d-c741402b7dec",
   "metadata": {},
   "source": [
    "#### Copying dicts"
   ]
  },
  {
   "cell_type": "code",
   "execution_count": null,
   "id": "358c870d-fe41-47ad-9fe0-aea01b73493a",
   "metadata": {},
   "outputs": [],
   "source": [
    "molecules = {\n",
    "    \"Methane\": \"CH4\",\n",
    "    \"Ethane\": \"C2H6\",\n",
    "}\n",
    "orig_molecules = molecules\n",
    "molecules[\"Ethane\"] = \"Hawk\"\n",
    "orig_molecules # the value is changed as well"
   ]
  },
  {
   "cell_type": "code",
   "execution_count": null,
   "id": "72043379-7baa-4f62-bf6e-b7957a74f1e0",
   "metadata": {},
   "outputs": [],
   "source": [
    "# copying a dictionary\n",
    "molecules = {\n",
    "    \"Methane\": \"CH4\",\n",
    "    \"Ethane\": \"C2H6\",\n",
    "}\n",
    "orig_molecules = molecules.copy() # create a new instance\n",
    "molecules[\"Ethane\"] = \"Hawk\"\n",
    "orig_molecules"
   ]
  },
  {
   "cell_type": "code",
   "execution_count": null,
   "id": "bff07094-baad-47d5-acf5-4e24567fafd9",
   "metadata": {},
   "outputs": [],
   "source": [
    "molecules = {\n",
    "    \"Methane\": [\"CH4\",1],\n",
    "    \"Ethane\": [\"C2H6\",2],\n",
    "}\n",
    "orig_molecules = molecules.copy()\n",
    "molecules[\"Ethane\"][0] = \"Hawk\" # the value is changed!!\n",
    "orig_molecules"
   ]
  },
  {
   "cell_type": "code",
   "execution_count": null,
   "id": "97b2addd-e132-4cb3-9c9e-b5ea0805e283",
   "metadata": {},
   "outputs": [],
   "source": [
    "import copy\n",
    "molecules = {\n",
    "    \"Methane\": [\"CH4\",1],\n",
    "    \"Ethane\": [\"C2H6\",2],\n",
    "}\n",
    "orig_molecules = copy.deepcopy(molecules) # we need a so-called deepcopy!\n",
    "molecules[\"Ethane\"][0] = \"Hawk\"\n",
    "orig_molecules"
   ]
  },
  {
   "cell_type": "markdown",
   "id": "238af064-baec-4ba7-977d-aeef609e3726",
   "metadata": {},
   "source": [
    "#### Iterating over dicts"
   ]
  },
  {
   "cell_type": "code",
   "execution_count": null,
   "id": "8d9dc978-baf7-41e3-84b6-875a0390e0a8",
   "metadata": {},
   "outputs": [],
   "source": [
    "eg_dict = {\n",
    "    \"Apple\": \"Apfel\",\n",
    "    \"House\": \"Haus\",\n",
    "    \"Book\": \"Buch\"\n",
    "}\n",
    "eg_dict "
   ]
  },
  {
   "cell_type": "code",
   "execution_count": null,
   "id": "4bba35fa-f6d9-4daf-8ada-3ee741947e1a",
   "metadata": {},
   "outputs": [],
   "source": [
    "for key in eg_dict:\n",
    "    print(key)"
   ]
  },
  {
   "cell_type": "code",
   "execution_count": null,
   "id": "17de42fc-3ed4-46d4-ba5b-e1126caa9638",
   "metadata": {},
   "outputs": [],
   "source": [
    "for value in eg_dict.values():\n",
    "    print(value)"
   ]
  },
  {
   "cell_type": "code",
   "execution_count": null,
   "id": "6498c5c2-694f-4f36-a79a-15bf2b905030",
   "metadata": {},
   "outputs": [],
   "source": [
    "for k,v in eg_dict.items():\n",
    "    print(f\"{k} - {v}\")"
   ]
  },
  {
   "cell_type": "code",
   "execution_count": null,
   "id": "a90b94b8-a455-4ed6-aa36-b21a57860555",
   "metadata": {},
   "outputs": [],
   "source": [
    "for i,(k,v) in enumerate(eg_dict.items()):\n",
    "    print(f\"{i}: {k} - {v}\")"
   ]
  },
  {
   "cell_type": "markdown",
   "id": "dfc26241-1eba-499f-aace-b45d9d80fae6",
   "metadata": {},
   "source": [
    "### Sets\n",
    "\n",
    "A Python set is an unordered, mutable collection of unique elements that supports mathematical set operations like union, intersection, and difference.\n"
   ]
  },
  {
   "cell_type": "code",
   "execution_count": null,
   "id": "9a4ce569-5ac3-489c-8921-9ffc6ec23cb9",
   "metadata": {},
   "outputs": [],
   "source": [
    "# create with set()\n",
    "empty_set = set() # note that {} creates an empy dictionary!!\n",
    "empty_set"
   ]
  },
  {
   "cell_type": "code",
   "execution_count": null,
   "id": "d591de50-3ca2-427f-b4e5-a467a590efe9",
   "metadata": {},
   "outputs": [],
   "source": [
    "odd_numbers = {1,3,5,7,9,11}\n",
    "odd_numbers"
   ]
  },
  {
   "cell_type": "code",
   "execution_count": null,
   "id": "afafcb24-fe06-45c9-a674-eeab09522f02",
   "metadata": {},
   "outputs": [],
   "source": [
    "# convert with set()\n",
    "set('letters') # sets are unordered and unique, e.g. only one e and one t!!"
   ]
  },
  {
   "cell_type": "code",
   "execution_count": null,
   "id": "a7015dad-aeea-409e-8d72-cd72080a7a0d",
   "metadata": {},
   "outputs": [],
   "source": [
    "# from a list\n",
    "colors = set([\"red\",\"blue\",\"orange\",\"black\",\"blue\"])\n",
    "colors"
   ]
  },
  {
   "cell_type": "code",
   "execution_count": null,
   "id": "7cf81c2d-bd0b-4ef6-8486-fa986983308c",
   "metadata": {},
   "outputs": [],
   "source": [
    "# from a tuple\n",
    "set((\"a\",\"b\",\"c\",\"d\",\"d\"))"
   ]
  },
  {
   "cell_type": "markdown",
   "id": "4a2c978a-c570-4882-b8d7-f017e556fd00",
   "metadata": {},
   "source": [
    "#### working with sets"
   ]
  },
  {
   "cell_type": "code",
   "execution_count": null,
   "id": "29edcade-5c0c-4075-aeac-110202ea4afd",
   "metadata": {},
   "outputs": [],
   "source": [
    "len(colors)"
   ]
  },
  {
   "cell_type": "code",
   "execution_count": null,
   "id": "cdcf1f74-b50b-4fa3-bcb6-4f7043adc649",
   "metadata": {},
   "outputs": [],
   "source": [
    "# add an item\n",
    "colors.add(\"yellow\")\n",
    "colors"
   ]
  },
  {
   "cell_type": "code",
   "execution_count": null,
   "id": "0e0c748c-88a4-499e-9519-3411d4d7cf16",
   "metadata": {},
   "outputs": [],
   "source": [
    "# remove an item \n",
    "colors.remove(\"blue\")\n",
    "colors"
   ]
  },
  {
   "cell_type": "code",
   "execution_count": null,
   "id": "9de10a75-9c4d-43b4-a48c-d42b199cf38d",
   "metadata": {},
   "outputs": [],
   "source": [
    "# iterations\n",
    "for color in colors:\n",
    "    print(color)"
   ]
  },
  {
   "cell_type": "code",
   "execution_count": null,
   "id": "680bc2d4-4153-4745-a468-037484ecd86b",
   "metadata": {},
   "outputs": [],
   "source": [
    "# test for values\n",
    "if 'blue' in colors:\n",
    "    print(\"do nothing...\")\n",
    "else:\n",
    "    print(\"add blue...\")\n",
    "    colors.add(\"blue\")"
   ]
  },
  {
   "cell_type": "markdown",
   "id": "5274f620-b848-4f81-bf16-81f40b7c29b3",
   "metadata": {},
   "source": [
    "#### combinations and operations\n",
    "\n",
    "The dict `copolymers` is a dict with a **string as key** and a **set as value**.   \n",
    "The key is the shortname for the polymer and the values are the monomer names."
   ]
  },
  {
   "cell_type": "code",
   "execution_count": null,
   "id": "5058e127-4905-4e16-8526-69dba0e80e3e",
   "metadata": {},
   "outputs": [],
   "source": [
    "copolymers = {\n",
    "    \"SBR\": {\"styrene\", \"butadiene\"},\n",
    "    \"ABS\": {\"acrylonitrile\", \"butadiene\", \"styrene\"},\n",
    "    \"PVC\": {\"vinyl chloride\", \"ethylene\"},\n",
    "    \"EVA\": {\"ethylene\", \"vinyl acetate\"},\n",
    "}\n",
    "copolymers"
   ]
  },
  {
   "cell_type": "code",
   "execution_count": null,
   "id": "d41aee1b-0f0b-4a8c-a869-8a57b56ce4a0",
   "metadata": {},
   "outputs": [],
   "source": [
    "# find copolymers with either ethylene or styrene as monomer\n",
    "# & (ampersand) is the intersection operator\n",
    "for name, monomers in copolymers.items():\n",
    "    if monomers & {'butadiene','styrene'}: # intersection\n",
    "        print(name)"
   ]
  },
  {
   "cell_type": "code",
   "execution_count": null,
   "id": "a8e0db04-02da-488a-aae8-ea0e73ebd669",
   "metadata": {},
   "outputs": [],
   "source": [
    "# get the sets from the dictionary\n",
    "SBR = copolymers['SBR']\n",
    "ABS = copolymers['ABS']\n",
    "EVA = copolymers['EVA']\n",
    "PVC = copolymers['PVC']\n",
    "SBR, ABS, EVA, PVC"
   ]
  },
  {
   "cell_type": "code",
   "execution_count": null,
   "id": "eb42785e-d492-4386-beca-79d90571bd88",
   "metadata": {},
   "outputs": [],
   "source": [
    "# intersection\n",
    "SBR & ABS"
   ]
  },
  {
   "cell_type": "code",
   "execution_count": null,
   "id": "ea7c14ec-375e-428e-a6a8-4012c35d56ab",
   "metadata": {},
   "outputs": [],
   "source": [
    "# intersection\n",
    "EVA & PVC"
   ]
  },
  {
   "cell_type": "code",
   "execution_count": null,
   "id": "2b0d29be-99a8-4171-865a-4fb8b1daca07",
   "metadata": {},
   "outputs": [],
   "source": [
    "# union\n",
    "SBR | ABS"
   ]
  },
  {
   "cell_type": "code",
   "execution_count": null,
   "id": "2bf3d960-5f45-467f-a06d-085672532b82",
   "metadata": {},
   "outputs": [],
   "source": [
    "# union\n",
    "EVA | PVC"
   ]
  },
  {
   "cell_type": "code",
   "execution_count": null,
   "id": "3027f486-48fe-4837-9920-bbd135701c39",
   "metadata": {},
   "outputs": [],
   "source": [
    "# difference\n",
    "ABS - SBR"
   ]
  },
  {
   "cell_type": "code",
   "execution_count": null,
   "id": "fa58de32-2f4d-41ce-9074-0cc1633b0f7f",
   "metadata": {},
   "outputs": [],
   "source": [
    "# difference\n",
    "SBR - ABS"
   ]
  },
  {
   "cell_type": "markdown",
   "id": "f32961a1-ee4d-4be2-b29f-6560f758e1dc",
   "metadata": {},
   "source": [
    "### Data Structures so far\n",
    "\n",
    "A data structure is a systematic format for organizing and storing data to enable efficient access and modification."
   ]
  },
  {
   "cell_type": "code",
   "execution_count": null,
   "id": "0cd8b61d-ecc9-436d-ad71-f7fc410b0713",
   "metadata": {},
   "outputs": [],
   "source": [
    "# List of cocktails\n",
    "cocktail_list = [\"Mojito\", \"Martini\", \"Margarita\", \"Pina Colada\", \"Daiquiri\"]\n",
    "\n",
    "# Tuple of cocktails\n",
    "cocktail_tuple = (\"Mojito\", \"Martini\", \"Margarita\", \"Pina Colada\", \"Daiquiri\")\n",
    "\n",
    "# Set of cocktails\n",
    "cocktail_set = {\"Mojito\", \"Martini\", \"Margarita\", \"Pina Colada\", \"Daiquiri\"}\n",
    "\n",
    "# dict of cocktails:\n",
    "cocktail_dict = {\n",
    "    \"Mojito\": [\"White Rum\", \"Sugar\", \"Lime Juice\", \"Soda Water\", \"Mint\"],\n",
    "    \"Martini\": [\"Gin\", \"Dry Vermouth\", \"Olive\"],\n",
    "    \"Margarita\": [\"Tequila\", \"Triple Sec\", \"Lime Juice\", \"Salt\"],\n",
    "    \"Daiquiri\": [\"White Rum\", \"Sugar\", \"Lime Juice\"]\n",
    "}"
   ]
  },
  {
   "cell_type": "code",
   "execution_count": null,
   "id": "8f6f285d-91cc-4d35-816a-edfb19b96d5c",
   "metadata": {},
   "outputs": [],
   "source": [
    "# accesssing list\n",
    "cocktail_list[2]"
   ]
  },
  {
   "cell_type": "code",
   "execution_count": null,
   "id": "e574e4d0-cd22-4742-b286-918662ba6093",
   "metadata": {},
   "outputs": [],
   "source": [
    "cocktail_tuple[2]"
   ]
  },
  {
   "cell_type": "code",
   "execution_count": null,
   "id": "9c56082c-3413-4b9c-9430-9a6b93a490d7",
   "metadata": {},
   "outputs": [],
   "source": [
    "cocktail_dict['Mojito']"
   ]
  },
  {
   "cell_type": "code",
   "execution_count": null,
   "id": "6bde1217-7e25-4c6f-8820-49e4ef3a600c",
   "metadata": {},
   "outputs": [],
   "source": [
    "'Daiquiri' in cocktail_tuple"
   ]
  },
  {
   "cell_type": "code",
   "execution_count": null,
   "id": "36bd3d7c-f5aa-4c47-a3df-2f1d8d1f79e4",
   "metadata": {},
   "outputs": [],
   "source": [
    "'Daiquiri' in cocktail_list"
   ]
  },
  {
   "cell_type": "code",
   "execution_count": null,
   "id": "172677a2-e265-49ad-8898-d5dcb710ba5e",
   "metadata": {},
   "outputs": [],
   "source": [
    "'Daiquiri' in cocktail_dict"
   ]
  },
  {
   "cell_type": "markdown",
   "id": "ebefa6de-eb63-407e-8524-bbe30fead8a3",
   "metadata": {},
   "source": [
    "### Composite Data Structures"
   ]
  },
  {
   "cell_type": "code",
   "execution_count": null,
   "id": "b80afd03-8c65-497a-832f-0d79a7fb8374",
   "metadata": {},
   "outputs": [],
   "source": [
    "a = [\"Lionel\", \"Cristiano\", \"Toni\", \"Bastian\", \"Manuel\"]\n",
    "b = [\"Leonardo\", \"Brad\", \"Charlize\", \"Scarlett\", \"Reese\"]\n",
    "c = [\"Beyoncé\", \"Elton\", \"Taylor\", \"James\", \"Bruce\"]"
   ]
  },
  {
   "cell_type": "code",
   "execution_count": null,
   "id": "b72eaaef-96e3-4ea5-ad87-330cc4ba78c7",
   "metadata": {},
   "outputs": [],
   "source": [
    "# get the type of a data structures\n",
    "type(a)"
   ]
  },
  {
   "cell_type": "code",
   "execution_count": null,
   "id": "cc6fe589-4997-4277-ab55-6147c9b92866",
   "metadata": {},
   "outputs": [],
   "source": [
    "# make a list of lists\n",
    "list_of_lists = [a,b,c]\n",
    "list_of_lists"
   ]
  },
  {
   "cell_type": "code",
   "execution_count": null,
   "id": "8db7d756-9db1-4ecf-b28a-22583b343a6e",
   "metadata": {},
   "outputs": [],
   "source": [
    "# tuple of lists\n",
    "tuple_of_lists = (a,b,c)\n",
    "tuple_of_lists"
   ]
  },
  {
   "cell_type": "code",
   "execution_count": null,
   "id": "0bad4c23-a33e-46f9-941e-a5876f33686c",
   "metadata": {},
   "outputs": [],
   "source": [
    "# dictionary of lists\n",
    "dict_of_lists = {'football': a, 'movie': b , 'music': c}\n",
    "dict_of_lists"
   ]
  },
  {
   "cell_type": "markdown",
   "id": "76ecc387-2b23-450a-ae63-2da22c944373",
   "metadata": {},
   "source": [
    "### Exercise\n",
    "\n",
    "You have a dictionary storing the atomic numbers of some chemical elements. Write a program to perform the following operations on the dictionary:\n",
    "\n",
    "```python\n",
    "elements = {\n",
    "    \"Hydrogen\": 1,\n",
    "    \"Helium\": 2,\n",
    "    \"Carbon\": 6,\n",
    "    \"Oxygen\": 8\n",
    "}\n",
    "```\n",
    "\n",
    "Tasks:\n",
    "- Add a new element, Nitrogen, with an atomic number of 7.\n",
    "- Update the atomic number of Carbon to 12.\n",
    "- Remove the element Helium.\n",
    "- Print the dictionary to check the changes.\n"
   ]
  },
  {
   "cell_type": "markdown",
   "id": "8406cc60-594e-422d-ae67-5380707e8807",
   "metadata": {},
   "source": [
    "### Functions\n",
    "\n",
    "A function is a **reusable** block of code that performs a specific task, optionally accepts inputs (arguments), and may return an output."
   ]
  },
  {
   "cell_type": "code",
   "execution_count": null,
   "id": "56efffd4-f6e9-4697-86d5-fa73d0b0c16d",
   "metadata": {},
   "outputs": [],
   "source": [
    "def add_numbers(a, b):\n",
    "    result = a + b\n",
    "    return result"
   ]
  },
  {
   "cell_type": "code",
   "execution_count": null,
   "id": "0663b757-4d31-441a-88a9-44f803826fe9",
   "metadata": {},
   "outputs": [],
   "source": [
    "sum = add_numbers(3, 5)\n",
    "print(sum)  # This will print 8\n"
   ]
  },
  {
   "cell_type": "code",
   "execution_count": null,
   "id": "09ea61dd-1327-4f18-a3bf-05a6063c5eb6",
   "metadata": {},
   "outputs": [],
   "source": [
    "def f(x):\n",
    "    y = x**2\n",
    "    return y"
   ]
  },
  {
   "cell_type": "code",
   "execution_count": null,
   "id": "9df0265b-552d-44e0-a386-7a0474e12aa7",
   "metadata": {},
   "outputs": [],
   "source": [
    "f(2)"
   ]
  },
  {
   "cell_type": "code",
   "execution_count": null,
   "id": "3997dcfa-1b87-45eb-8499-18eddfa4aed6",
   "metadata": {},
   "outputs": [],
   "source": [
    "for x in [0,1,2,3,4,5,6,7,8,9]:\n",
    "    print(f(x))"
   ]
  },
  {
   "cell_type": "markdown",
   "id": "8bb725e6-8385-47ea-ace7-1c5a0ac27e41",
   "metadata": {},
   "source": [
    "### outlook: numpy\n",
    "\n",
    "The python library `numpy` will be part of the next notebook"
   ]
  },
  {
   "cell_type": "code",
   "execution_count": null,
   "id": "4519818c-b3a0-40e6-8c1e-43c8073a3c56",
   "metadata": {},
   "outputs": [],
   "source": [
    "import numpy as np # library provides arrays for scientific computing \n",
    "x = np.asarray([0,1,2,3,4,5,6,7,8,9])\n",
    "f(x)"
   ]
  },
  {
   "cell_type": "markdown",
   "id": "a6ed96c4-81f9-4af8-b4f7-74170ecec20a",
   "metadata": {},
   "source": [
    "### Function calling"
   ]
  },
  {
   "cell_type": "code",
   "execution_count": null,
   "id": "bb703d51-cd7d-4427-9555-3cddf40dbaaf",
   "metadata": {},
   "outputs": [],
   "source": [
    "def say_hello():\n",
    "    print(\"Hello\")"
   ]
  },
  {
   "cell_type": "code",
   "execution_count": null,
   "id": "404d244c-dec0-4963-9262-2fee6ed5a873",
   "metadata": {},
   "outputs": [],
   "source": [
    "say_hello()"
   ]
  },
  {
   "cell_type": "code",
   "execution_count": null,
   "id": "4fd2b78d-9cde-4c9c-b5ce-bb7b51976d6e",
   "metadata": {},
   "outputs": [],
   "source": [
    "def say_something(a):\n",
    "    print(f\"Hello {a}\")"
   ]
  },
  {
   "cell_type": "code",
   "execution_count": null,
   "id": "270e61ac-7f8e-45e2-bd63-7e7f48205211",
   "metadata": {},
   "outputs": [],
   "source": [
    "say_something(\"all\")"
   ]
  },
  {
   "cell_type": "code",
   "execution_count": null,
   "id": "4538449e-f524-43a7-9d3a-eb5beb1faad4",
   "metadata": {},
   "outputs": [],
   "source": [
    "def larger_than_ten(x):\n",
    "    return x>10"
   ]
  },
  {
   "cell_type": "code",
   "execution_count": null,
   "id": "ec655fbd-58ec-4d30-a3fc-fb243d0ce5d4",
   "metadata": {},
   "outputs": [],
   "source": [
    "larger_than_ten(5)"
   ]
  },
  {
   "cell_type": "code",
   "execution_count": null,
   "id": "46daf12d-67b8-4a96-b03e-595f4555aaf6",
   "metadata": {},
   "outputs": [],
   "source": [
    "if not larger_than_ten(5): print(\"small!\")"
   ]
  },
  {
   "cell_type": "markdown",
   "id": "e797a8da-bcf0-42c2-b45c-2e4e8268fbff",
   "metadata": {},
   "source": [
    "### Arguments and Parameters"
   ]
  },
  {
   "cell_type": "code",
   "execution_count": null,
   "id": "00b4e489-260a-49aa-8883-0322f43daa66",
   "metadata": {},
   "outputs": [],
   "source": [
    "def say_something(a): # parameter a\n",
    "    s = f\"Hello {a}\"\n",
    "    return s"
   ]
  },
  {
   "cell_type": "code",
   "execution_count": null,
   "id": "c081c8b3-10da-427d-982a-5f72349aeaa5",
   "metadata": {},
   "outputs": [],
   "source": [
    "say_something(\"all\") # argument \"all\""
   ]
  },
  {
   "cell_type": "markdown",
   "id": "ff380ee7-2ddc-4a40-bf81-88e267c0c790",
   "metadata": {},
   "source": [
    "### None"
   ]
  },
  {
   "cell_type": "code",
   "execution_count": null,
   "id": "4c43c16b-b132-4dc5-984b-880bea15c480",
   "metadata": {},
   "outputs": [],
   "source": [
    "#Example 1: None as a return type\n",
    "def say_hello():\n",
    "    print(\"Hello\")"
   ]
  },
  {
   "cell_type": "code",
   "execution_count": null,
   "id": "2cad8c13-831e-44d1-a199-e0d0c0dc7b55",
   "metadata": {},
   "outputs": [],
   "source": [
    "print(say_hello()) # return value None"
   ]
  },
  {
   "cell_type": "code",
   "execution_count": null,
   "id": "d0ee74b7-603a-4d8b-85e4-b52dc7acae73",
   "metadata": {},
   "outputs": [],
   "source": [
    "None==False"
   ]
  },
  {
   "cell_type": "code",
   "execution_count": null,
   "id": "62b4390a-feb6-4186-9a18-1f37d81a143f",
   "metadata": {},
   "outputs": [],
   "source": [
    "def whatis(thing):\n",
    "    if thing is None:\n",
    "        print(thing,\" is None\")\n",
    "    elif thing:\n",
    "        print(thing,\" is True\")\n",
    "    else:\n",
    "        print(thing, \" is False\")"
   ]
  },
  {
   "cell_type": "code",
   "execution_count": null,
   "id": "338a18c4-349b-442c-8ff2-906518dd5757",
   "metadata": {},
   "outputs": [],
   "source": [
    "# Example 2: Function with optional arguments\n",
    "def greet(name=None):\n",
    "    if name is None:\n",
    "        return \"Hello, Stranger!\"\n",
    "    else:\n",
    "        return f\"Hello, {name}!\"\n"
   ]
  },
  {
   "cell_type": "code",
   "execution_count": null,
   "id": "f773e5ea-2df9-48c5-8b1d-df3ec0d468c9",
   "metadata": {},
   "outputs": [],
   "source": [
    "print(greet())         \n",
    "print(greet(\"Alice\"))"
   ]
  },
  {
   "cell_type": "code",
   "execution_count": null,
   "id": "5a2f3550-f02e-419d-a1ae-4ce29cdfec58",
   "metadata": {},
   "outputs": [],
   "source": [
    "# Example 3: Using None as a placeholder\n",
    "value = None\n",
    "if value is None:\n",
    "    print(\"No value assigned yet.\")  "
   ]
  },
  {
   "cell_type": "markdown",
   "id": "558ca058-79a4-46d1-8efc-eb223fd06bf0",
   "metadata": {},
   "source": [
    "### Positional Arguments"
   ]
  },
  {
   "cell_type": "code",
   "execution_count": null,
   "id": "d6e7e185-10a8-4010-be2d-e33bb61a9195",
   "metadata": {},
   "outputs": [],
   "source": [
    "def material(color,shape,density):\n",
    "    return {'color': color, 'shape': shape, 'density': density} # dictionary"
   ]
  },
  {
   "cell_type": "code",
   "execution_count": null,
   "id": "67238b72-31e2-4a0c-8510-b4f57521881a",
   "metadata": {},
   "outputs": [],
   "source": [
    "material( 'black', 'round', 1.1)"
   ]
  },
  {
   "cell_type": "code",
   "execution_count": null,
   "id": "e23242b5-67f0-4776-b113-2142e9e814f3",
   "metadata": {},
   "outputs": [],
   "source": [
    "material(1.1, 'black', 'round') # order!"
   ]
  },
  {
   "cell_type": "markdown",
   "id": "f993671f-1e84-43e3-afd7-03d0a521a12a",
   "metadata": {},
   "source": [
    "### Keyword Arguments"
   ]
  },
  {
   "cell_type": "code",
   "execution_count": null,
   "id": "6e6bcc2a-68ba-42d6-96f0-2a33a9a062e7",
   "metadata": {},
   "outputs": [],
   "source": [
    "material(density=1.1, color='black', shape='round') # note the difference!"
   ]
  },
  {
   "cell_type": "code",
   "execution_count": null,
   "id": "e3f817ee-d31c-4da8-ad29-45c0aa1493ee",
   "metadata": {},
   "outputs": [],
   "source": [
    "material('black',density=1.1, shape='round') "
   ]
  },
  {
   "cell_type": "code",
   "execution_count": null,
   "id": "a652a797-4cf4-44db-9774-49196ebeb6b0",
   "metadata": {},
   "outputs": [],
   "source": [
    "material(density=1.1, 'black','round') "
   ]
  },
  {
   "cell_type": "markdown",
   "id": "785ed20b-e6b2-4b74-a61a-57c5b57cca1e",
   "metadata": {},
   "source": [
    "### Default Parameter / Argument values"
   ]
  },
  {
   "cell_type": "code",
   "execution_count": null,
   "id": "999e1612-8990-4ac2-84e4-2ab4c77bff02",
   "metadata": {},
   "outputs": [],
   "source": [
    "def material(color,shape='sphere',density=1.0):\n",
    "    return {'color': color, 'shape': shape, 'density': density} # dictionary"
   ]
  },
  {
   "cell_type": "code",
   "execution_count": null,
   "id": "e996809f-ff24-4bb4-83f0-2f29603bdf44",
   "metadata": {},
   "outputs": [],
   "source": [
    "material('black') "
   ]
  },
  {
   "cell_type": "code",
   "execution_count": null,
   "id": "e9416b3c-6b6b-42d3-bbb6-59637beba9f4",
   "metadata": {},
   "outputs": [],
   "source": [
    "material('black',shape='cube',density=1.5) "
   ]
  },
  {
   "cell_type": "markdown",
   "id": "d2ddfac1-70cf-413c-9667-6dc22176750a",
   "metadata": {},
   "source": [
    "### Unpacking positional parameters with *"
   ]
  },
  {
   "cell_type": "code",
   "execution_count": null,
   "id": "475de3b1-5dba-43ee-a7d9-1f1e43b5495e",
   "metadata": {},
   "outputs": [],
   "source": [
    "def print_arguments(*args):\n",
    "    print('Positional tuple:',args)"
   ]
  },
  {
   "cell_type": "code",
   "execution_count": null,
   "id": "c2f397dc-98c7-42bd-954a-85d27a24d89e",
   "metadata": {},
   "outputs": [],
   "source": [
    "print_arguments()"
   ]
  },
  {
   "cell_type": "code",
   "execution_count": null,
   "id": "d0b0f6bf-64c0-42dd-88e4-55fe1e8c5a95",
   "metadata": {},
   "outputs": [],
   "source": [
    "print_arguments('black','sphere',1.1,555)"
   ]
  },
  {
   "cell_type": "code",
   "execution_count": null,
   "id": "fdb26c57-bce9-4428-aa70-389a115440b7",
   "metadata": {},
   "outputs": [],
   "source": [
    "def print_arguments(color, *args):\n",
    "    print('Required:',color)\n",
    "    print('Positional tuple:',args)"
   ]
  },
  {
   "cell_type": "code",
   "execution_count": null,
   "id": "f27464ef-d63f-48de-8018-3b2b22a3b617",
   "metadata": {},
   "outputs": [],
   "source": [
    "print_arguments('black','sphere',1.1,555)"
   ]
  },
  {
   "cell_type": "code",
   "execution_count": null,
   "id": "83b3a885-3104-4d9a-a1da-9212b2ed9539",
   "metadata": {},
   "outputs": [],
   "source": [
    "material = ('black','sphere',1.1,555)"
   ]
  },
  {
   "cell_type": "code",
   "execution_count": null,
   "id": "8677c637-e937-493b-a1a0-a92a7795e3b4",
   "metadata": {},
   "outputs": [],
   "source": [
    "print_arguments(*material)"
   ]
  },
  {
   "cell_type": "code",
   "execution_count": null,
   "id": "42387fb6-c68d-4559-86d1-15ed262a84dd",
   "metadata": {},
   "outputs": [],
   "source": [
    "print_arguments(material)"
   ]
  },
  {
   "cell_type": "markdown",
   "id": "0071f4c4-1623-4bca-a413-05d60ce946fc",
   "metadata": {},
   "source": [
    "### Unpacking keyword arguments with **"
   ]
  },
  {
   "cell_type": "code",
   "execution_count": null,
   "id": "6be780c9-d741-43bb-8816-97aaee9fe7e2",
   "metadata": {},
   "outputs": [],
   "source": [
    "# kwargs: keyword arguments\n",
    "def print_kwargs(**kwargs):\n",
    "    print('Keyword arguments:',kwargs)"
   ]
  },
  {
   "cell_type": "code",
   "execution_count": null,
   "id": "8c52765c-6cdf-482e-883b-9fa37bf4e3c6",
   "metadata": {},
   "outputs": [],
   "source": [
    "print_kwargs()"
   ]
  },
  {
   "cell_type": "code",
   "execution_count": null,
   "id": "682ae24d-6a43-4ad3-83b0-490f2f354139",
   "metadata": {},
   "outputs": [],
   "source": [
    "print_kwargs(color='green',shape='sphere',size=1.0)"
   ]
  },
  {
   "cell_type": "code",
   "execution_count": null,
   "id": "da577808-82fe-47d1-9294-0520716d8bb1",
   "metadata": {},
   "outputs": [],
   "source": [
    "test = {'a':1,'b':2}"
   ]
  },
  {
   "cell_type": "code",
   "execution_count": null,
   "id": "091e8bd2-0c3d-4761-bc70-3bfba9fb0d45",
   "metadata": {},
   "outputs": [],
   "source": [
    "print_kwargs(**test)"
   ]
  },
  {
   "cell_type": "code",
   "execution_count": null,
   "id": "59e4ac0f-1ad5-46e0-a6bd-2c964e3e036c",
   "metadata": {},
   "outputs": [],
   "source": [
    "# using ** is only valid for function calls / arguments\n",
    "**kwargs"
   ]
  },
  {
   "cell_type": "markdown",
   "id": "87b3334a-c71e-4774-9cb8-762a4562ec08",
   "metadata": {},
   "source": [
    "### Docstrings"
   ]
  },
  {
   "cell_type": "code",
   "execution_count": null,
   "id": "3f4315ba-8337-4e91-9ca8-782e77d9a9c5",
   "metadata": {},
   "outputs": [],
   "source": [
    "def calculate_molarity(moles_of_solute, liters_of_solution):\n",
    "    \"\"\"\n",
    "    Calculate the molarity of a solution.\n",
    "\n",
    "    Molarity (M) is defined as the number of moles of solute per liter of solution.\n",
    "\n",
    "    Parameters:\n",
    "    - moles_of_solute (float): The amount of solute in moles.\n",
    "    - liters_of_solution (float): The volume of the solution in liters.\n",
    "\n",
    "    Returns:\n",
    "    - float: The molarity of the solution.\n",
    "    \n",
    "    Example:\n",
    "    >>> calculate_molarity(0.5, 1.0)\n",
    "    0.5\n",
    "    >>> calculate_molarity(1.0, 2.0)\n",
    "    0.5\n",
    "    \"\"\"\n",
    "    return moles_of_solute / liters_of_solution"
   ]
  },
  {
   "cell_type": "code",
   "execution_count": null,
   "id": "397960a8-36ec-42c6-b7d5-19e77237d0a8",
   "metadata": {},
   "outputs": [],
   "source": [
    "help(calculate_molarity)"
   ]
  },
  {
   "cell_type": "markdown",
   "id": "1cbe59fd-e8d5-4bf9-939b-712b2b1c1185",
   "metadata": {},
   "source": [
    "### Functions are also objects"
   ]
  },
  {
   "cell_type": "code",
   "execution_count": null,
   "id": "d54cb0bf-35e1-4241-a68c-059edd68906d",
   "metadata": {},
   "outputs": [],
   "source": [
    "def answer():\n",
    "    print(42)"
   ]
  },
  {
   "cell_type": "code",
   "execution_count": null,
   "id": "9ee3e8d4-f32a-486e-a2ad-72fe53906490",
   "metadata": {},
   "outputs": [],
   "source": [
    "answer()"
   ]
  },
  {
   "cell_type": "code",
   "execution_count": null,
   "id": "4a23d99f-6b2d-46f3-997d-bb45e1eb3111",
   "metadata": {},
   "outputs": [],
   "source": [
    "def run_something(func):\n",
    "    func()"
   ]
  },
  {
   "cell_type": "code",
   "execution_count": null,
   "id": "712f4cc9-62e1-48b8-bfbb-24b8a7351c41",
   "metadata": {},
   "outputs": [],
   "source": [
    "# note the argument is \"answer\" not \"answer()\"\n",
    "run_something(answer)"
   ]
  },
  {
   "cell_type": "code",
   "execution_count": null,
   "id": "cab9d4e2-d2b4-4b0f-9d59-79c8097652f4",
   "metadata": {},
   "outputs": [],
   "source": [
    "type(answer)"
   ]
  },
  {
   "cell_type": "code",
   "execution_count": null,
   "id": "8d866c72-24bd-430d-994a-24216bf3e75c",
   "metadata": {},
   "outputs": [],
   "source": [
    "def add_args(arg1,arg2):\n",
    "    print(arg1 + arg2)"
   ]
  },
  {
   "cell_type": "code",
   "execution_count": null,
   "id": "98d0004b-a5c8-4707-8816-c731b63a91ed",
   "metadata": {},
   "outputs": [],
   "source": [
    "def run_something_with_args(func,arg1,arg2):\n",
    "    func(arg1,arg2)"
   ]
  },
  {
   "cell_type": "code",
   "execution_count": null,
   "id": "abcf2a73-ea29-40ce-ae31-997b4d9d6398",
   "metadata": {},
   "outputs": [],
   "source": [
    "run_something_with_args(add_args,5,9)"
   ]
  },
  {
   "cell_type": "markdown",
   "id": "387ad201-44c1-414a-9d9b-9f507afa9900",
   "metadata": {},
   "source": [
    "### Anonymous Functions: `lambda`"
   ]
  },
  {
   "cell_type": "code",
   "execution_count": null,
   "id": "e198b297-81ec-4b5b-b50e-1fb4551086d7",
   "metadata": {},
   "outputs": [],
   "source": [
    "# Example with standard function\n",
    "# List of SMILES strings\n",
    "smiles_list = [\"CCO\", \"CCC\", \"CCN\"]\n",
    "\n",
    "# Full function to append \"C\" to a SMILES string\n",
    "def append_carbon(smiles):\n",
    "    return smiles + \"C\"\n",
    "\n",
    "# Using map with the full function\n",
    "modified_smiles_list = list(map(append_carbon, smiles_list))\n",
    "print(modified_smiles_list)  # Output: ['CCOC', 'CCCC', 'CCNC']"
   ]
  },
  {
   "cell_type": "code",
   "execution_count": null,
   "id": "bcd9db1e-2461-40e9-887f-6cc7050c159c",
   "metadata": {},
   "outputs": [],
   "source": [
    "# Example with lambda function\n",
    "# List of SMILES strings\n",
    "smiles_list = [\"CCO\", \"CCC\", \"CCN\"]\n",
    "\n",
    "# Using map with a lambda function\n",
    "modified_smiles_list = list(map(lambda smiles: smiles + \"C\", smiles_list))\n",
    "print(modified_smiles_list)  # Output: ['CCOC', 'CCCC', 'CCNC']"
   ]
  },
  {
   "cell_type": "markdown",
   "id": "2fdb06d8-db6a-42d2-9feb-610c4d512eed",
   "metadata": {},
   "source": [
    "### Generators / generator functions"
   ]
  },
  {
   "cell_type": "code",
   "execution_count": null,
   "id": "5d1e6ebd-2e36-46b1-98f5-a07ec2125967",
   "metadata": {},
   "outputs": [],
   "source": [
    "def quantum_number_generator(n_max):\n",
    "    \"\"\"\n",
    "    Generator function to yield quantum numbers (excluding spin quantum number).\n",
    "    \n",
    "    Args:\n",
    "    n_max (int): The maximum principal quantum number to generate.\n",
    "    \n",
    "    Yields:\n",
    "    tuple: A tuple containing (n, l, m_l).\n",
    "    \"\"\"\n",
    "    for n in range(1, n_max + 1):\n",
    "        for l in range(n):\n",
    "            for m_l in range(-l, l + 1):\n",
    "                yield (n, l, m_l)"
   ]
  },
  {
   "cell_type": "code",
   "execution_count": null,
   "id": "f098106e-b141-4108-a8ed-4c945125dc30",
   "metadata": {},
   "outputs": [],
   "source": [
    "n_max = 2\n",
    "print(\"Quantum Numbers:\")\n",
    "print(\"n   l   m_l\")\n",
    "print(\"------------\")\n",
    "for n, l, m_l in quantum_number_generator(n_max):\n",
    "    print(f\"{n:<3} {l:<3} {m_l:<3}\")"
   ]
  },
  {
   "cell_type": "code",
   "execution_count": null,
   "id": "c1c8ceec-52cd-45e9-b077-b07775a4f5a5",
   "metadata": {},
   "outputs": [],
   "source": [
    "list(quantum_number_generator(2))"
   ]
  },
  {
   "cell_type": "markdown",
   "id": "cd69a71d-b2c8-4ccb-966d-c846ab646652",
   "metadata": {},
   "source": [
    "### Namespace / Variable Scope"
   ]
  },
  {
   "cell_type": "code",
   "execution_count": null,
   "id": "bd46f55d-f5f6-440a-9575-fa7429209d1b",
   "metadata": {},
   "outputs": [],
   "source": [
    "animal = 'lion'\n",
    "def print_global():\n",
    "    print('inside_global:',animal)\n",
    "print('at the top level:', animal)"
   ]
  },
  {
   "cell_type": "code",
   "execution_count": null,
   "id": "8dd1b55a-b66d-4794-88c8-75a361acd466",
   "metadata": {},
   "outputs": [],
   "source": [
    "print_global()"
   ]
  },
  {
   "cell_type": "code",
   "execution_count": null,
   "id": "a789bb90-5e75-4783-81d2-6e8631ef4e55",
   "metadata": {},
   "outputs": [],
   "source": [
    "def change_and_print_global():\n",
    "    print('inside change_and_print_global:', animal)\n",
    "    animal = 'cat' # this make animal a local variable!!!\n",
    "    print('after the change: ',animal)"
   ]
  },
  {
   "cell_type": "code",
   "execution_count": null,
   "id": "644694a3-de38-48ce-bfa7-59c9db43ec8c",
   "metadata": {},
   "outputs": [],
   "source": [
    "change_and_print_global()"
   ]
  },
  {
   "cell_type": "code",
   "execution_count": null,
   "id": "31013606-f450-469b-bec3-80517d942cd0",
   "metadata": {},
   "outputs": [],
   "source": [
    "def change_local():\n",
    "    animal = 'cat'\n",
    "    print('inside change local:',animal,id(animal))"
   ]
  },
  {
   "cell_type": "code",
   "execution_count": null,
   "id": "f0271af9-de97-435a-8599-e19a366410bf",
   "metadata": {},
   "outputs": [],
   "source": [
    "change_local()"
   ]
  },
  {
   "cell_type": "code",
   "execution_count": null,
   "id": "23dc8dd9-5762-4635-a1bc-f81f6b43057b",
   "metadata": {},
   "outputs": [],
   "source": [
    "animal"
   ]
  },
  {
   "cell_type": "code",
   "execution_count": null,
   "id": "fc487c7c-d479-48a6-a1a7-4ac276bbe272",
   "metadata": {},
   "outputs": [],
   "source": [
    "id(animal)"
   ]
  },
  {
   "cell_type": "code",
   "execution_count": null,
   "id": "f2932f34-3e99-45d0-9d65-15ec69365848",
   "metadata": {},
   "outputs": [],
   "source": [
    "def change_and_print_global():\n",
    "    global animal # use this to make animal global here!\n",
    "    print('inside change_and_print_global:', animal)\n",
    "    animal = 'cat' # this make animal a local variable!!!\n",
    "    print('after the change: ',animal)"
   ]
  },
  {
   "cell_type": "code",
   "execution_count": null,
   "id": "6fd4aafa-df1c-4c2e-b659-5b6cc71d2195",
   "metadata": {},
   "outputs": [],
   "source": [
    "change_and_print_global() # now it works again"
   ]
  },
  {
   "cell_type": "markdown",
   "id": "4fb95cf8-1115-4001-b6fa-8d30c04799e6",
   "metadata": {},
   "source": [
    "### Exceptions & Error Handling"
   ]
  },
  {
   "cell_type": "code",
   "execution_count": null,
   "id": "b8072377-cd72-41f8-99a0-ed694f32112c",
   "metadata": {},
   "outputs": [],
   "source": [
    "short_array = [1,2,3]\n",
    "position = 5\n",
    "short_array[position]"
   ]
  },
  {
   "cell_type": "code",
   "execution_count": null,
   "id": "5244afa0-6a14-4a6e-a2d9-3a915bea95dd",
   "metadata": {},
   "outputs": [],
   "source": [
    "short_array = [1,2,3]\n",
    "position = 5\n",
    "try:\n",
    "    short_array[position]\n",
    "except:\n",
    "    print('The index is wrong!')"
   ]
  },
  {
   "cell_type": "code",
   "execution_count": null,
   "id": "0158075f-af53-45ed-8a05-5b1d9226233a",
   "metadata": {},
   "outputs": [],
   "source": [
    "short_array()"
   ]
  },
  {
   "cell_type": "code",
   "execution_count": null,
   "id": "8489dbd0-f2e6-4440-aab9-7887376aaadb",
   "metadata": {},
   "outputs": [],
   "source": [
    "try:\n",
    "    short_array()\n",
    "except TypeError:\n",
    "    print('This is not a function!')\n",
    "except IndexError:\n",
    "    print('The index is wrong!')"
   ]
  },
  {
   "cell_type": "markdown",
   "id": "1bb8ef72",
   "metadata": {},
   "source": [
    "## Exercise: Debugging Unit conversion\n",
    "\n",
    "The following code is meant to convert a molar concentration (mol/L) to mass concentration (g/L) based on the molar mass of the solute.  \n",
    "Find the bug(s) and correct them. "
   ]
  },
  {
   "cell_type": "code",
   "execution_count": null,
   "id": "f429399d-1cf0-458c-a0b4-2d2192f25f85",
   "metadata": {},
   "outputs": [],
   "source": [
    "def convert_to_mass_concentration(molar_concentration, molar_mass):\n",
    "    \"\"\"\n",
    "    Convert molar concentration (mol/L) to mass concentration (g/L).\n",
    "    molar_mass: in g/mol.\n",
    "    \"\"\"\n",
    "    return molar_concentration / molar_mass\n",
    "\n",
    "# Function call (contains a bug)\n",
    "mass_concentration = convert_to_mass_concentration(molar_concentration=0.5, 18)\n",
    "print(f\"The mass concentration is: {mass_concentration} g/L\")\n",
    "\n"
   ]
  },
  {
   "cell_type": "markdown",
   "id": "f93ca840-5b4d-4f43-969c-ba10687287e2",
   "metadata": {},
   "source": [
    "## Exercise: Compute Spring Constant from IR Frequency (cm⁻¹)\n",
    "\n",
    "The vibrational frequency of a functional group  or specfic bond can be related to a spring constant using [Hooke's Law](https://www.chem.ucalgary.ca/courses/350/Carey5th/Ch13/ch13-ir-2.html).\n",
    "See also [this video](https://www.youtube.com/watch?v=ETdNsO7mKXM).\n",
    "\n",
    "\n",
    "$\\stackrel{\\small m_1}{\\phantom{...}}\\bigcirc\\!\\!\\sim\\!\\!\\sim\\!\\!\\sim\\!\\!\\sim\\!\\!\\sim\\!\\!\\bigcirc\\stackrel{\\small m_2}{\\phantom{.}}$  \n",
    "$\\phantom{.......}\\underbrace{\\hspace{3em}}_{x}$\n",
    "\n",
    "Hooke's Law: $F = -k(\\Delta x)$\n",
    "\n",
    "where:\n",
    "- $F$ is the restoring force\n",
    "- $k$ is the spring constant, stiffness of the bond/spring\n",
    "- $\\Delta x$ is the displacement\n",
    "\n",
    "\n",
    "The bond's spring constant ($k$) can be calculated from the wavenumber using the formula:\n",
    "\n",
    "$$\n",
    "\\tilde{\\nu} = \\frac{1}{2 \\pi c} \\sqrt{\\frac{k}{\\mu}}\n",
    "$$\n",
    "\n",
    "Where:\n",
    "- $\\tilde{\\nu}$ = frequency in $\\text{cm}^{-1}$,\n",
    "- $k$ = spring constant in N/m,\n",
    "- $\\mu = \\frac{m_1 m_2}{m_1 + m_2}$ = reduced mass in kg,\n",
    "- $c = 3.00 \\times 10^{10} \\, \\text{cm/s}$ is the speed of light.\n",
    "\n",
    "Rearranging for $k$:\n",
    "$$\n",
    "k = (2 \\pi c \\tilde{\\nu})^2 \\cdot \\mu\n",
    "$$\n",
    "\n",
    "---\n",
    "\n",
    "### Steps:\n",
    "1. Fix the Python function `compute_spring_constant(freq_cm, reduced_mass)`:\n",
    "   - Compute the spring constant ($k$) in N/m.\n",
    "2. Use the function to calculate the spring constant for:\n",
    "   - C-C single bond: $\\tilde{\\nu} = 1000 \\, \\text{cm}^{-1}, \\, \\mu = 9.96 \\times 10^{-27} \\, \\text{kg}$,\n",
    "   - C-C double bond: $\\tilde{\\nu} = 1600 \\, \\text{cm}^{-1}, \\, \\mu = 9.96 \\times 10^{-27} \\, \\text{kg}$.\n",
    "3. (Bonus)\n",
    "   - What shift in frequency would you expect for a CC triple bond?\n",
    "   - What shift in frequency would you expect for a C-Cl bond?\n",
    "\n",
    "\n"
   ]
  },
  {
   "cell_type": "code",
   "execution_count": null,
   "id": "6802a4a8-6881-421e-b4e6-2cb7c44983c2",
   "metadata": {},
   "outputs": [],
   "source": [
    "import math\n",
    "\n",
    "def compute_spring_constant(freq_cm, reduced_mass):\n",
    "    \"\"\"Calculate spring constant k from frequency and reduced mass.\"\"\"\n",
    "    c = 3.00e10  # Speed of light in cm/s\n",
    "    pi = math.pi\n",
    "\n",
    "    # Calculate spring constant\n",
    "    k = freq_cm # <- fix this \n",
    "    return k\n",
    "\n",
    "# Example usage\n",
    "mu_CC = 9.96e-27\n",
    "\n",
    "\n",
    "k_1000 # call function here\n",
    "k_1600  # call function here\n",
    "\n",
    "print(f\"Spring constant for 1000 cm⁻¹: {k_1000:.2e} N/m\")\n",
    "print(f\"Spring constant for 1600 cm⁻¹: {k_1600:.2e} N/m\")\n"
   ]
  }
 ],
 "metadata": {
  "kernelspec": {
   "display_name": "Python 3 (ipykernel)",
   "language": "python",
   "name": "python3"
  },
  "language_info": {
   "codemirror_mode": {
    "name": "ipython",
    "version": 3
   },
   "file_extension": ".py",
   "mimetype": "text/x-python",
   "name": "python",
   "nbconvert_exporter": "python",
   "pygments_lexer": "ipython3",
   "version": "3.10.13"
  }
 },
 "nbformat": 4,
 "nbformat_minor": 5
}
