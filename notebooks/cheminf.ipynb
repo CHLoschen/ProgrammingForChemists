{
 "cells": [
  {
   "cell_type": "markdown",
   "id": "492efa14-91e5-435c-81e1-a226e641cee1",
   "metadata": {},
   "source": [
    "##  Short Outlook: Cheminformatics with Python\n",
    "\n",
    "Cheminformatics is the application of computer science to the field of chemistry.\n",
    "RDKit is a free and open-source cheminformatics library: www.rdkit.org"
   ]
  },
  {
   "cell_type": "code",
   "execution_count": null,
   "id": "c3a1cc1d",
   "metadata": {},
   "outputs": [],
   "source": [
    "# install RDKit\n",
    "!pip install rdkit"
   ]
  },
  {
   "cell_type": "code",
   "execution_count": null,
   "id": "d9c4597a",
   "metadata": {},
   "outputs": [],
   "source": [
    "# import RDKit\n",
    "from rdkit import Chem\n",
    "smiles = \"NCCCCO\"  # SMILES are used to describe molecules via strings\n",
    "mol = Chem.MolFromSmiles(smiles) # A RDKit molecular object is created\n",
    "mol"
   ]
  },
  {
   "cell_type": "code",
   "execution_count": null,
   "id": "9066de1d",
   "metadata": {},
   "outputs": [],
   "source": [
    "# computing molecular descriptors\n",
    "from rdkit.Chem import Descriptors\n",
    "Descriptors.MolWt(mol)\n"
   ]
  },
  {
   "cell_type": "code",
   "execution_count": null,
   "id": "73dee25a",
   "metadata": {},
   "outputs": [],
   "source": [
    "Descriptors.MolLogP(mol), Descriptors.MolMR(mol)\n"
   ]
  },
  {
   "cell_type": "markdown",
   "id": "f0ceacd2",
   "metadata": {},
   "source": [
    "## Lipinski's Rule of 5\n",
    "\n",
    "Lipinski's Rule of 5 is a set of simple rules used to predict the drug-likeness of a molecule."
   ]
  },
  {
   "cell_type": "code",
   "execution_count": null,
   "id": "0c6f44c6",
   "metadata": {},
   "outputs": [],
   "source": [
    "def check_lipinski(mol):\n",
    "    \"\"\"Check Lipinski's Rule of 5 for drug-likeness\"\"\"\n",
    "    mw = Descriptors.ExactMolWt(mol)\n",
    "    logp = Descriptors.MolLogP(mol)\n",
    "    hbd = Descriptors.NumHDonors(mol)\n",
    "    hba = Descriptors.NumHAcceptors(mol)\n",
    "    \n",
    "    print(\"Lipinski's Rule of 5 Analysis:\")\n",
    "    print(f\"Molecular Weight: {mw:.2f} (<500)\")\n",
    "    print(f\"LogP: {logp:.2f} (<5)\")\n",
    "    print(f\"H-bond Donors: {hbd} (<5)\")\n",
    "    print(f\"H-bond Acceptors: {hba} (<10)\")\n",
    "    \n",
    "    violations = sum([\n",
    "        mw > 500,\n",
    "        logp > 5,\n",
    "        hbd > 5,\n",
    "        hba > 10\n",
    "    ])\n",
    "    print(f\"Number of violations: {violations}\")\n",
    "    return violations <= 1\n",
    "\n",
    "check_lipinski(mol)"
   ]
  },
  {
   "cell_type": "markdown",
   "id": "849aca9c",
   "metadata": {},
   "source": [
    "## Molecular fingerprints\n",
    "\n",
    "Molecular fingerprints are a way to represent the structure of a molecule in a way that can be used for machine learning.\n"
   ]
  },
  {
   "cell_type": "code",
   "execution_count": null,
   "id": "ce4ead53",
   "metadata": {},
   "outputs": [],
   "source": [
    "# computing \"fingerprints\n",
    "from rdkit.Chem import AllChem\n",
    "fp = AllChem.GetMorganFingerprintAsBitVect(mol, 2)\n",
    "fp.ToBitString()"
   ]
  },
  {
   "cell_type": "markdown",
   "id": "8d1359ed",
   "metadata": {},
   "source": [
    "## 3D visualization\n",
    "\n",
    "3D visualization is a way to visualize the structure of a molecule in 3D space.\n",
    "Usually, a 3D structure is optimized using a force field (e.g. MMFF: Merck Molecular Force Field) starting from an estimated structure.\n"
   ]
  },
  {
   "cell_type": "code",
   "execution_count": null,
   "id": "dc7872c8",
   "metadata": {},
   "outputs": [],
   "source": [
    "mol_3d = Chem.AddHs(mol)  # Add hydrogen atoms\n",
    "AllChem.EmbedMolecule(mol_3d)  # Estimate 3D coordinates\n",
    "AllChem.MMFFOptimizeMolecule(mol_3d)  # Optimize the structure\n"
   ]
  },
  {
   "cell_type": "code",
   "execution_count": null,
   "id": "7ef4f654",
   "metadata": {},
   "outputs": [],
   "source": [
    "#!pip install nglview\n",
    "import nglview as nv\n",
    "nv.show_rdkit(mol_3d)"
   ]
  }
 ],
 "metadata": {
  "kernelspec": {
   "display_name": "Python 3 (ipykernel)",
   "language": "python",
   "name": "python3"
  },
  "language_info": {
   "codemirror_mode": {
    "name": "ipython",
    "version": 3
   },
   "file_extension": ".py",
   "mimetype": "text/x-python",
   "name": "python",
   "nbconvert_exporter": "python",
   "pygments_lexer": "ipython3",
   "version": "3.10.13"
  }
 },
 "nbformat": 4,
 "nbformat_minor": 5
}
