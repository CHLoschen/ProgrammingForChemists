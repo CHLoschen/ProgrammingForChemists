{
 "cells": [
  {
   "cell_type": "markdown",
   "id": "4eabf4c9-8099-4d97-91a9-d86ecec9859c",
   "metadata": {},
   "source": [
    "## Python Programming For Chemists - Control Structures, Tuples and Lists"
   ]
  },
  {
   "cell_type": "markdown",
   "id": "c16646fb-85b3-49a9-a282-6bcdcaec40d5",
   "metadata": {},
   "source": [
    "### Comparison operators"
   ]
  },
  {
   "cell_type": "code",
   "execution_count": null,
   "id": "411c3f46-f570-4efd-85b9-5c54a017bf53",
   "metadata": {},
   "outputs": [],
   "source": [
    "7 == 7"
   ]
  },
  {
   "cell_type": "code",
   "execution_count": null,
   "id": "4e65d534-1e9a-4dd9-82ef-1f751f9539c8",
   "metadata": {},
   "outputs": [],
   "source": [
    "6!=5"
   ]
  },
  {
   "cell_type": "code",
   "execution_count": null,
   "id": "d1aaaa94-4400-4f68-aaec-20307dd00653",
   "metadata": {},
   "outputs": [],
   "source": [
    "7>8"
   ]
  },
  {
   "cell_type": "code",
   "execution_count": null,
   "id": "a1a568ba-6bcd-4984-b69c-aead2c473067",
   "metadata": {},
   "outputs": [],
   "source": [
    "1>=1"
   ]
  },
  {
   "cell_type": "code",
   "execution_count": null,
   "id": "9dcc7a90-3a49-4be8-a71c-4073e8a1728d",
   "metadata": {},
   "outputs": [],
   "source": [
    "1<1"
   ]
  },
  {
   "cell_type": "code",
   "execution_count": null,
   "id": "8b093610-569c-486d-81ed-27c09aec929d",
   "metadata": {},
   "outputs": [],
   "source": [
    "7>5 and 2>3"
   ]
  },
  {
   "cell_type": "code",
   "execution_count": null,
   "id": "e6bc6d84-d6bb-44de-967d-a199ccb6a0bd",
   "metadata": {},
   "outputs": [],
   "source": [
    "7>5 or 2>3"
   ]
  },
  {
   "cell_type": "markdown",
   "id": "5f857d7f-4070-4827-8318-5901793989e2",
   "metadata": {},
   "source": [
    "### if statement"
   ]
  },
  {
   "cell_type": "code",
   "execution_count": null,
   "id": "069eb1fc-6075-4b2e-bc51-b191379ff164",
   "metadata": {},
   "outputs": [],
   "source": [
    "number = 3\n",
    "if number>=0:\n",
    "    print(\"number is positive or zero\")\n",
    "else:\n",
    "    print(\"number is negative\")"
   ]
  },
  {
   "cell_type": "code",
   "execution_count": null,
   "id": "93c5e920-4202-427d-8839-bdba6a1c5456",
   "metadata": {},
   "outputs": [],
   "source": [
    "test_value = number>=0"
   ]
  },
  {
   "cell_type": "code",
   "execution_count": null,
   "id": "f90cfae7-71f6-4cd0-9c81-63182f52ee79",
   "metadata": {},
   "outputs": [],
   "source": [
    "if test_value:\n",
    "    print(\"number is positive or zero\")\n",
    "else:\n",
    "    print(\"number is negative\")"
   ]
  },
  {
   "cell_type": "code",
   "execution_count": null,
   "id": "be4191a0-2901-4d61-bfeb-b6f41b7b1371",
   "metadata": {},
   "outputs": [],
   "source": [
    "number = -2\n",
    "if number>0:\n",
    "    print(\"number is positive\")\n",
    "elif number==0:\n",
    "    print(\"number is 0\")\n",
    "else:\n",
    "    print(\"number is negative\")"
   ]
  },
  {
   "cell_type": "code",
   "execution_count": null,
   "id": "2d923835-d193-44a4-b3eb-0b3cc058a3e2",
   "metadata": {},
   "outputs": [],
   "source": [
    "element = \"F\""
   ]
  },
  {
   "cell_type": "code",
   "execution_count": null,
   "id": "8c7140df-79e4-4911-b9f8-2521879b9f78",
   "metadata": {},
   "outputs": [],
   "source": [
    "if element == \"F\" or element == \"Cl\" or element == \"Br\" or element == \"I\" or element == \"At\":\n",
    "    print(\"It's a halide\")"
   ]
  },
  {
   "cell_type": "code",
   "execution_count": null,
   "id": "cfa65383-14b2-489c-9a91-5d2c4b8817b2",
   "metadata": {},
   "outputs": [],
   "source": [
    "halides = \"F,Cl,Br,I,At\"\n",
    "if element in halides:\n",
    "    print(\"Its a halide\")"
   ]
  },
  {
   "cell_type": "markdown",
   "id": "95bdd640-6be9-4fe2-b953-fa9b67ce23fd",
   "metadata": {},
   "source": [
    "### For loops"
   ]
  },
  {
   "cell_type": "code",
   "execution_count": null,
   "id": "63555a5e-6d35-40b7-9513-004ab133c474",
   "metadata": {},
   "outputs": [],
   "source": [
    "halides = halides.split(\",\")\n",
    "halides"
   ]
  },
  {
   "cell_type": "code",
   "execution_count": null,
   "id": "b230c5bd-b2b8-4e9e-9254-ae38f64eae59",
   "metadata": {},
   "outputs": [],
   "source": [
    "for e in halides:\n",
    "    print(e)"
   ]
  },
  {
   "cell_type": "markdown",
   "id": "b89e0192-3d3f-47f9-a95f-6f0a5b97d6f1",
   "metadata": {},
   "source": [
    "### While loops"
   ]
  },
  {
   "cell_type": "code",
   "execution_count": null,
   "id": "3e08a6e9-5561-48c8-8847-2c645137f7b3",
   "metadata": {},
   "outputs": [],
   "source": [
    "b = 10"
   ]
  },
  {
   "cell_type": "code",
   "execution_count": null,
   "id": "11f78d96-e601-4b98-97d9-ecd1efa726eb",
   "metadata": {},
   "outputs": [],
   "source": [
    "while b>5:\n",
    "    b -=1\n",
    "    print(b)"
   ]
  },
  {
   "cell_type": "markdown",
   "id": "93e2c509-025d-409e-8b9d-0e3fe6d9d394",
   "metadata": {},
   "source": [
    "### range function"
   ]
  },
  {
   "cell_type": "code",
   "execution_count": null,
   "id": "92238995-b051-4276-85e8-e4f6f72f7ae8",
   "metadata": {},
   "outputs": [],
   "source": [
    "for x in range(0,20,4):\n",
    "    print(x)"
   ]
  },
  {
   "cell_type": "code",
   "execution_count": null,
   "id": "830382c7-e8df-4cc2-8c48-66c10d4faa38",
   "metadata": {},
   "outputs": [],
   "source": [
    "range(0,10,2)"
   ]
  },
  {
   "cell_type": "code",
   "execution_count": null,
   "id": "81694554-2380-46ee-82ce-e7ecb8d11196",
   "metadata": {},
   "outputs": [],
   "source": [
    "list(range(0,10,2))"
   ]
  },
  {
   "cell_type": "code",
   "execution_count": null,
   "id": "af97ffe1-9c99-4633-afd8-bdc1b6e64f5e",
   "metadata": {},
   "outputs": [],
   "source": [
    "list(range(5))"
   ]
  },
  {
   "cell_type": "markdown",
   "id": "620e0d3a-d3e7-47f8-b1e3-9768fd3e1f4b",
   "metadata": {},
   "source": [
    "### control inside for loops"
   ]
  },
  {
   "cell_type": "code",
   "execution_count": null,
   "id": "760a4b24-691d-48ca-ad80-47a1b2ae666b",
   "metadata": {},
   "outputs": [],
   "source": [
    "for x in [0,1,2,3,4]:\n",
    "    print(x**2)"
   ]
  },
  {
   "cell_type": "code",
   "execution_count": null,
   "id": "be80d954-6616-450d-978d-d1e6989e9bf2",
   "metadata": {},
   "outputs": [],
   "source": [
    "for x in [0,1,2,3,4]:\n",
    "    print(x**2)\n",
    "    if x==2: break"
   ]
  },
  {
   "cell_type": "code",
   "execution_count": null,
   "id": "3d4bb3a7-6932-4b84-a595-9e189cb93041",
   "metadata": {},
   "outputs": [],
   "source": [
    "for x in [0,1,2,3,4]:\n",
    "    if x<2: continue\n",
    "    print(x**2)"
   ]
  },
  {
   "cell_type": "markdown",
   "id": "393b047a-4d94-4f2d-9a0c-f3488771f9ff",
   "metadata": {},
   "source": [
    "### Tuples and Lists"
   ]
  },
  {
   "cell_type": "code",
   "execution_count": null,
   "id": "73db2517-d91c-42d8-8b10-175cc69c4e36",
   "metadata": {},
   "outputs": [],
   "source": [
    "example_tuple = ('hydrogen','oxygen','water')\n",
    "example_tuple"
   ]
  },
  {
   "cell_type": "code",
   "execution_count": null,
   "id": "d6624886-f213-46ef-a547-c4a298f399b0",
   "metadata": {},
   "outputs": [],
   "source": [
    "another_tuple = (2,4,6)\n",
    "another_tuple"
   ]
  },
  {
   "cell_type": "code",
   "execution_count": null,
   "id": "4346f114-0ba6-4b73-8d65-54ae42a69091",
   "metadata": {},
   "outputs": [],
   "source": [
    "type(another_tuple)"
   ]
  },
  {
   "cell_type": "code",
   "execution_count": null,
   "id": "5e25fc6b-fd46-4467-8b2f-0fc1b5911edb",
   "metadata": {},
   "outputs": [],
   "source": [
    "a,b,c = example_tuple"
   ]
  },
  {
   "cell_type": "code",
   "execution_count": null,
   "id": "e4162c14-5535-4631-99d5-8c44f49a8488",
   "metadata": {},
   "outputs": [],
   "source": [
    "a"
   ]
  },
  {
   "cell_type": "markdown",
   "id": "8bdd807f-29a7-4c52-b423-31ac43507f8a",
   "metadata": {},
   "source": [
    "### Working with tuples"
   ]
  },
  {
   "cell_type": "code",
   "execution_count": null,
   "id": "a58bf0a8-42fa-4ade-a70b-d2c7df40e5b1",
   "metadata": {},
   "outputs": [],
   "source": [
    "elements = ['hydrogen','oxygen','water']\n",
    "tuple_from_list = tuple(elements)\n",
    "tuple_from_list"
   ]
  },
  {
   "cell_type": "code",
   "execution_count": null,
   "id": "42532d6a-251d-4732-8ca2-d9ee252e0792",
   "metadata": {},
   "outputs": [],
   "source": [
    "('hydrogen',) + tuple_from_list # concatenation"
   ]
  },
  {
   "cell_type": "code",
   "execution_count": null,
   "id": "d2cbb55d-4ec0-4035-8579-be211fcbad28",
   "metadata": {},
   "outputs": [],
   "source": [
    "speech = ('bla',)*4 # duplication\n",
    "speech"
   ]
  },
  {
   "cell_type": "code",
   "execution_count": null,
   "id": "5a5af283-4195-41d0-b1b0-253597b7243e",
   "metadata": {},
   "outputs": [],
   "source": [
    "for w in speech: # iteration\n",
    "    print(w)"
   ]
  },
  {
   "cell_type": "code",
   "execution_count": null,
   "id": "9eb31034-e779-4725-a391-b35258df705d",
   "metadata": {},
   "outputs": [],
   "source": [
    "tuple_from_list[0]"
   ]
  },
  {
   "cell_type": "code",
   "execution_count": null,
   "id": "0c37d821-640d-4987-bc3a-460f905ba36c",
   "metadata": {},
   "outputs": [],
   "source": [
    "tuple_from_list[0] = 'sulfur'"
   ]
  },
  {
   "cell_type": "code",
   "execution_count": null,
   "id": "e00e8233-b595-42cf-87eb-2425f56a368e",
   "metadata": {},
   "outputs": [],
   "source": [
    "elements"
   ]
  },
  {
   "cell_type": "markdown",
   "id": "c8989df3-4295-4f0f-a44f-4cdb5bcdf89f",
   "metadata": {},
   "source": [
    "### Lists"
   ]
  },
  {
   "cell_type": "code",
   "execution_count": null,
   "id": "92b7f397-0b1d-4d3e-8bcf-930dcdd5c7ff",
   "metadata": {},
   "outputs": [],
   "source": [
    "drugs = ['aspirin','paracetamol','ibuprofen']\n",
    "drugs"
   ]
  },
  {
   "cell_type": "code",
   "execution_count": null,
   "id": "f00951a0-3906-41a7-9799-f0c25f541e51",
   "metadata": {},
   "outputs": [],
   "source": [
    "prime_numbers = [2,3,5,7,11,13]\n",
    "prime_numbers"
   ]
  },
  {
   "cell_type": "code",
   "execution_count": null,
   "id": "58965cfc-afcc-463d-bbc9-4bee2a7da043",
   "metadata": {},
   "outputs": [],
   "source": [
    "drugs_and_primes = drugs + prime_numbers\n",
    "drugs_and_primes"
   ]
  },
  {
   "cell_type": "code",
   "execution_count": null,
   "id": "952abaf4-5795-4390-9df2-0ee0413048dc",
   "metadata": {},
   "outputs": [],
   "source": [
    "list('aspirin')"
   ]
  },
  {
   "cell_type": "code",
   "execution_count": null,
   "id": "8f1f6339-b542-49fb-b620-d7c3b22f831b",
   "metadata": {},
   "outputs": [],
   "source": [
    "list((1,2,3,4))"
   ]
  },
  {
   "cell_type": "markdown",
   "id": "ee8f1238-afcc-45ca-b95c-b8c79c93d80a",
   "metadata": {},
   "source": [
    "### Working with lists"
   ]
  },
  {
   "cell_type": "code",
   "execution_count": null,
   "id": "c5a53bb4-7978-4718-ade7-dff644ca9dc7",
   "metadata": {},
   "outputs": [],
   "source": [
    "data_points = \"2.0,3.0,12.1,8.6,9.2,10.0,22.0,\"\n",
    "data_points"
   ]
  },
  {
   "cell_type": "code",
   "execution_count": null,
   "id": "7dddf99b-8840-4ac0-9739-590e24e33bfe",
   "metadata": {},
   "outputs": [],
   "source": [
    "data_points.split(\",\")"
   ]
  },
  {
   "cell_type": "code",
   "execution_count": null,
   "id": "a8ead484-c16a-46d0-bb93-3fabce1a09c7",
   "metadata": {},
   "outputs": [],
   "source": [
    "points = [1.9,4.0,11.2,8.4]\n",
    "points"
   ]
  },
  {
   "cell_type": "code",
   "execution_count": null,
   "id": "675fdd37-0183-40ac-ad42-1b8f7b661d56",
   "metadata": {},
   "outputs": [],
   "source": [
    "points[1]"
   ]
  },
  {
   "cell_type": "code",
   "execution_count": null,
   "id": "b1f6dd5d-e501-4621-91b0-aefae6694273",
   "metadata": {},
   "outputs": [],
   "source": [
    "points[2]"
   ]
  },
  {
   "cell_type": "code",
   "execution_count": null,
   "id": "3561522c-e59c-4db5-9076-70882d0dac45",
   "metadata": {},
   "outputs": [],
   "source": [
    "points[-2]"
   ]
  },
  {
   "cell_type": "markdown",
   "id": "8ab5f031-62be-4d0c-bbc8-ddff1321c507",
   "metadata": {},
   "source": [
    "### Slicing"
   ]
  },
  {
   "cell_type": "code",
   "execution_count": null,
   "id": "c7238fca-bf1b-420e-9cc9-87a0f77f0c1e",
   "metadata": {},
   "outputs": [],
   "source": [
    "elements = [\"H\",\"He\",\"Li\",\"Be\",\"B\",\"C\",\"N\",\"O\",\"F\",\"Ne\"]\n",
    "elements[0:2]"
   ]
  },
  {
   "cell_type": "code",
   "execution_count": null,
   "id": "fda642ef-fbc4-426e-8286-4f972ea2a952",
   "metadata": {},
   "outputs": [],
   "source": [
    "elements[::2]"
   ]
  },
  {
   "cell_type": "code",
   "execution_count": null,
   "id": "5f8e9506-3edc-4b60-a02b-9fa86352b873",
   "metadata": {},
   "outputs": [],
   "source": [
    "elements[::-2]"
   ]
  },
  {
   "cell_type": "code",
   "execution_count": null,
   "id": "d36ffd39-df48-43de-89e8-595f4032ca2d",
   "metadata": {},
   "outputs": [],
   "source": [
    "elements[::-1] # reverse a list"
   ]
  },
  {
   "cell_type": "code",
   "execution_count": null,
   "id": "9da5c6a7-1815-47b6-8179-d2a7d95ca9a6",
   "metadata": {},
   "outputs": [],
   "source": [
    "elements[10]"
   ]
  },
  {
   "cell_type": "code",
   "execution_count": null,
   "id": "4ce5e4bd-3f50-44df-8e3c-bc9214b86ed3",
   "metadata": {},
   "outputs": [],
   "source": [
    "elements[:10]"
   ]
  },
  {
   "cell_type": "markdown",
   "id": "4c7b7278-4db3-4fd9-9870-6e2d3c4c86ea",
   "metadata": {},
   "source": [
    "### Working with lists"
   ]
  },
  {
   "cell_type": "code",
   "execution_count": null,
   "id": "f793081b-13f9-4c2a-8607-872114364f72",
   "metadata": {},
   "outputs": [],
   "source": [
    "elements = [\"H\",\"He\",\"Li\",\"Be\",\"B\",\"C\",\"N\",\"O\",\"F\",\"Ne\"]\n",
    "elements.append('Mg') #appending\n",
    "elements"
   ]
  },
  {
   "cell_type": "code",
   "execution_count": null,
   "id": "ca587750-092b-4797-982b-800a4a0459a1",
   "metadata": {},
   "outputs": [],
   "source": [
    "elements.insert(10,'Na') #insert at position\n",
    "elements"
   ]
  },
  {
   "cell_type": "code",
   "execution_count": null,
   "id": "7d0c1666-f7b4-41ff-ab61-2d3e3c5d85bc",
   "metadata": {},
   "outputs": [],
   "source": [
    "list_of_ones = [1]*10 # duplicating\n",
    "list_of_ones"
   ]
  },
  {
   "cell_type": "code",
   "execution_count": null,
   "id": "1b9d09d7-2090-48fe-af5f-5cab3e5cbb1d",
   "metadata": {},
   "outputs": [],
   "source": [
    "new_elements = [\"Al\",\"Si\"]\n",
    "elements + new_elements # returns new list"
   ]
  },
  {
   "cell_type": "code",
   "execution_count": null,
   "id": "367dd4d4-11a5-41ec-b0df-10f0cf9a88f9",
   "metadata": {},
   "outputs": [],
   "source": [
    "elements.extend(new_elements) # in place\n",
    "elements"
   ]
  },
  {
   "cell_type": "code",
   "execution_count": null,
   "id": "8dc10ccb-61f8-448c-9de5-dd75c019cfef",
   "metadata": {},
   "outputs": [],
   "source": [
    "del elements[0] # remove by index\n",
    "elements"
   ]
  },
  {
   "cell_type": "code",
   "execution_count": null,
   "id": "07485fe5-351f-4210-9a91-5457b0c1cf93",
   "metadata": {},
   "outputs": [],
   "source": [
    "elements.remove('Si') # remove by value\n",
    "elements"
   ]
  },
  {
   "cell_type": "markdown",
   "id": "0155a1e3-be89-459e-b529-44fd39d1a76c",
   "metadata": {},
   "source": [
    "### More with lists"
   ]
  },
  {
   "cell_type": "code",
   "execution_count": null,
   "id": "7928ef80-42d0-4730-8698-54240425a2ca",
   "metadata": {},
   "outputs": [],
   "source": [
    "elements = [\"H\",\"He\",\"Li\",\"Be\",\"B\",\"C\",\"N\",\"O\",\"F\",\"Ne\"] # delete and return a value\n",
    "elements.pop(1)"
   ]
  },
  {
   "cell_type": "code",
   "execution_count": null,
   "id": "783be709-7294-42b6-80cc-2b18ea246f19",
   "metadata": {},
   "outputs": [],
   "source": [
    "elements"
   ]
  },
  {
   "cell_type": "code",
   "execution_count": null,
   "id": "75118742-4a6c-4072-8d32-77fab3ef64e0",
   "metadata": {},
   "outputs": [],
   "source": [
    "elements.clear() # delete all!\n",
    "elements"
   ]
  },
  {
   "cell_type": "code",
   "execution_count": null,
   "id": "02eb2432-fd07-4419-bebc-2317f1ce7309",
   "metadata": {},
   "outputs": [],
   "source": [
    "elements = [\"H\",\"He\",\"Li\",\"Be\",\"B\",\"C\",\"N\",\"O\",\"F\",\"Ne\"] # find a value\n",
    "elements.index(\"Be\")"
   ]
  },
  {
   "cell_type": "code",
   "execution_count": null,
   "id": "46b6e870-5fa0-4b21-85ed-a696081bfa62",
   "metadata": {},
   "outputs": [],
   "source": [
    "\"B\" in elements # test for a value"
   ]
  },
  {
   "cell_type": "code",
   "execution_count": null,
   "id": "208da0b2-58ac-4be9-b154-ff1df7773da8",
   "metadata": {},
   "outputs": [],
   "source": [
    "elements.count(\"F\") # counting values"
   ]
  },
  {
   "cell_type": "code",
   "execution_count": null,
   "id": "ae33e76c-5f7d-422e-b62d-ddf6af4d0fa9",
   "metadata": {},
   "outputs": [],
   "source": [
    "elements.sort() # sorting\n",
    "elements"
   ]
  },
  {
   "cell_type": "code",
   "execution_count": null,
   "id": "fa669825-3ab0-46d1-9305-3c250168473a",
   "metadata": {},
   "outputs": [],
   "source": [
    "len(elements) # get length"
   ]
  },
  {
   "cell_type": "markdown",
   "id": "9490d795-8ade-435b-82a1-9c68646c26d8",
   "metadata": {},
   "source": [
    "### Assignment and copy"
   ]
  },
  {
   "cell_type": "code",
   "execution_count": null,
   "id": "545a9dc7-41c8-4940-8de4-9ddf1dfc8dd2",
   "metadata": {},
   "outputs": [],
   "source": [
    "a = [1,2,3]\n",
    "a"
   ]
  },
  {
   "cell_type": "code",
   "execution_count": null,
   "id": "6f5a4331-802d-4778-9879-d0d2f47b8593",
   "metadata": {},
   "outputs": [],
   "source": [
    "b = a\n",
    "c = a.copy()"
   ]
  },
  {
   "cell_type": "code",
   "execution_count": null,
   "id": "2a943772-1846-475f-92d3-2ef1b4d91e9b",
   "metadata": {},
   "outputs": [],
   "source": [
    "b,c "
   ]
  },
  {
   "cell_type": "code",
   "execution_count": null,
   "id": "ece768d5-d3f1-440f-9508-85fdfd2aed93",
   "metadata": {},
   "outputs": [],
   "source": [
    "a[1] = 'surprise'"
   ]
  },
  {
   "cell_type": "code",
   "execution_count": null,
   "id": "06bd7331-2b26-4154-a59b-85573663ce9f",
   "metadata": {},
   "outputs": [],
   "source": [
    "b"
   ]
  },
  {
   "cell_type": "code",
   "execution_count": null,
   "id": "e66c9a55-4da3-4d1f-a689-8b94efc6fb15",
   "metadata": {},
   "outputs": [],
   "source": [
    "c"
   ]
  },
  {
   "cell_type": "markdown",
   "id": "18ff8029-5e37-4995-aecf-b27040287028",
   "metadata": {},
   "source": [
    "### Lists of lists and deepcopy"
   ]
  },
  {
   "cell_type": "code",
   "execution_count": null,
   "id": "00135bff-10ef-41de-9d45-0b2d05a3010d",
   "metadata": {},
   "outputs": [],
   "source": [
    "a =[[1,2],[3,4]]  # think as 2x2 matrix\n",
    "a"
   ]
  },
  {
   "cell_type": "code",
   "execution_count": null,
   "id": "df4c1bf9-0ead-4c9a-92d1-0d04bb3ef277",
   "metadata": {},
   "outputs": [],
   "source": [
    "a[1][0]"
   ]
  },
  {
   "cell_type": "code",
   "execution_count": null,
   "id": "d312aa3a-e2d3-43d8-a187-39ea0d7e40c0",
   "metadata": {},
   "outputs": [],
   "source": [
    "a[1:] # get second row"
   ]
  },
  {
   "cell_type": "code",
   "execution_count": null,
   "id": "328312cc-b7e4-4f14-bb28-ff8b8cbcdd09",
   "metadata": {},
   "outputs": [],
   "source": [
    "import copy\n",
    "b = a.copy()\n",
    "c = copy.deepcopy(a)\n",
    "a,b,c"
   ]
  },
  {
   "cell_type": "code",
   "execution_count": null,
   "id": "04fb4729-ef2d-43c9-af38-ade0607939d4",
   "metadata": {},
   "outputs": [],
   "source": [
    "a[1][0] = 99"
   ]
  },
  {
   "cell_type": "code",
   "execution_count": null,
   "id": "c9c990b4-14ec-489c-8657-c3fe80ebb64b",
   "metadata": {},
   "outputs": [],
   "source": [
    "a,b,c"
   ]
  },
  {
   "cell_type": "markdown",
   "id": "c00ba073-1475-406a-a714-51315cf79e12",
   "metadata": {},
   "source": [
    "### Iterating over lists"
   ]
  },
  {
   "cell_type": "code",
   "execution_count": null,
   "id": "dcc6c6a2-30bb-4af6-bf87-b4cbd31fb88b",
   "metadata": {},
   "outputs": [],
   "source": [
    "elements = [\"H\",\"He\",\"Li\",\"Be\"]\n",
    "for e in elements:\n",
    "    print(e)"
   ]
  },
  {
   "cell_type": "code",
   "execution_count": null,
   "id": "3ffd7728-fc75-4851-9d92-14df0272e084",
   "metadata": {},
   "outputs": [],
   "source": [
    "for idx,e in enumerate(elements):\n",
    "    print(idx,e)"
   ]
  },
  {
   "cell_type": "code",
   "execution_count": null,
   "id": "6c962206-7d77-4b84-8045-30446f29500a",
   "metadata": {},
   "outputs": [],
   "source": [
    "atomic_number = [1,2,3,4]\n",
    "for an,e in zip(atomic_number,elements):\n",
    "    print(an,e)"
   ]
  },
  {
   "cell_type": "markdown",
   "id": "2572623b-5241-4be0-959b-7e0d950c1dbc",
   "metadata": {},
   "source": [
    "### List comprehension"
   ]
  },
  {
   "cell_type": "code",
   "execution_count": null,
   "id": "6dcbeaed-c923-4dc9-81b5-b45410f75b83",
   "metadata": {},
   "outputs": [],
   "source": [
    "new_list = []\n",
    "for x in range(6):\n",
    "    new_list.append(x)\n",
    "new_list"
   ]
  },
  {
   "cell_type": "code",
   "execution_count": null,
   "id": "c789591c-7f2e-48c3-a588-b11c501bbab9",
   "metadata": {},
   "outputs": [],
   "source": [
    "new_list = [x for x in range(6)]\n",
    "new_list"
   ]
  },
  {
   "cell_type": "code",
   "execution_count": null,
   "id": "3a28f185-200f-4590-9a28-17ec90d7e3cd",
   "metadata": {},
   "outputs": [],
   "source": [
    "new_list = [x for x in range(10) if x%2==0] # only even numbers\n",
    "new_list"
   ]
  },
  {
   "cell_type": "markdown",
   "id": "7f99fe90-73e4-490a-969a-e187f96abc0d",
   "metadata": {},
   "source": [
    "### Sorting Lists & Arrays"
   ]
  },
  {
   "cell_type": "code",
   "execution_count": null,
   "id": "86c38bee-009e-4762-9273-65a72cbe4f0b",
   "metadata": {},
   "outputs": [],
   "source": [
    "def bubble_sort(arr):\n",
    "    n = len(arr)\n",
    "    # Traverse through all elements in the array\n",
    "    for i in range(n):\n",
    "        # Traverse through all elements except the already sorted ones, usually the largest one at the right\n",
    "        for j in range(0, n - i - 1):\n",
    "            # Swap if the element found is greater than the next element\n",
    "            if arr[j] > arr[j + 1]:\n",
    "                arr[j], arr[j + 1] = arr[j + 1], arr[j]\n",
    "    return arr\n",
    "\n",
    "# Example usage\n",
    "arr = [64, 34, 25, 12, 22, 11, 90]\n",
    "sorted_arr = bubble_sort(arr)\n",
    "print(\"Sorted array:\", sorted_arr)"
   ]
  },
  {
   "cell_type": "markdown",
   "id": "8dbcfdfb-2486-4bc1-9688-20fc3c47565d",
   "metadata": {},
   "source": [
    "### Complexity"
   ]
  },
  {
   "cell_type": "code",
   "execution_count": null,
   "id": "c6bc65b5-57d6-4451-8aa6-3cfe76904367",
   "metadata": {},
   "outputs": [],
   "source": [
    "import time\n",
    "import random\n",
    "\n",
    "# O(n) - Linear Time Complexity\n",
    "def linear_time(n):\n",
    "    total = 0\n",
    "    for i in range(n):\n",
    "        total += i\n",
    "    return total"
   ]
  },
  {
   "cell_type": "code",
   "execution_count": null,
   "id": "e050a545-1896-40e3-bb1e-730489005ea7",
   "metadata": {},
   "outputs": [],
   "source": [
    "# O(n^2) - Quadratic Time Complexity\n",
    "def quadratic_time(n):\n",
    "    total = 0\n",
    "    for i in range(n):\n",
    "        for j in range(n):\n",
    "            total += i * j\n",
    "    return total\n"
   ]
  },
  {
   "cell_type": "code",
   "execution_count": null,
   "id": "3e46dfb8-d71e-4a2b-b899-486ededc0424",
   "metadata": {},
   "outputs": [],
   "source": [
    "# O(2^n) - Exponential Time Complexity\n",
    "def fibonacci_plain(n):\n",
    "    if n <= 1:\n",
    "        return n\n",
    "    return fibonacci_plain(n - 1) + fibonacci_plain(n - 2)"
   ]
  },
  {
   "cell_type": "code",
   "execution_count": null,
   "id": "78df9bc9-b868-4087-80ab-6af443f41ac3",
   "metadata": {},
   "outputs": [],
   "source": [
    "N = 100"
   ]
  },
  {
   "cell_type": "code",
   "execution_count": null,
   "id": "00fef36f-fb39-4fc2-b4ad-0a7239795437",
   "metadata": {},
   "outputs": [],
   "source": [
    "%%time\n",
    "linear_time(N)"
   ]
  },
  {
   "cell_type": "code",
   "execution_count": null,
   "id": "26aff4c1-d870-4b17-aefe-501a941f13c2",
   "metadata": {},
   "outputs": [],
   "source": [
    "%%time\n",
    "quadratic_time(N)"
   ]
  },
  {
   "cell_type": "code",
   "execution_count": null,
   "id": "a32e0e78-1807-4cd5-a488-26e6c11a6d01",
   "metadata": {},
   "outputs": [],
   "source": [
    "# be carefull not to enter too large numbers here!!\n",
    "%%time \n",
    "N = 40\n",
    "fibonacci_plain(N)"
   ]
  },
  {
   "cell_type": "markdown",
   "id": "badc844f-1298-4573-b5bb-055c226a9844",
   "metadata": {},
   "source": [
    "## Exercise: Correct the Reaction Simulation\n",
    "\n",
    "**Task**: The code below is meant to simulate a chemical reaction where reactants are consumed, and products are formed. However, it contains errors. Fix the issues so that the simulation runs correctly.\n"
   ]
  },
  {
   "cell_type": "code",
   "execution_count": null,
   "id": "ca090b0d-61a9-44f8-a345-505aa11d77a3",
   "metadata": {},
   "outputs": [],
   "source": [
    "reactants = 100  # Initial reactant amount\n",
    "products = 0\n",
    "reaction_rate = 10\n",
    "\n",
    "while reactants >= 0:  \n",
    "    reactants -= reaction_rate\n",
    "    products += reaction_rate\n",
    "    print(\"Reactants left:\", reactant)  \n",
    "    print(\"Products formed:\", products)"
   ]
  },
  {
   "cell_type": "markdown",
   "id": "15d590c2-2ef5-4e6e-95e4-48aaec35db09",
   "metadata": {},
   "source": [
    "## Exercise: pH Classification Debugging\n",
    "\n",
    "**Task**: The program should classify the solution based on pH, but it contains errors. Debug and fix it.\n"
   ]
  },
  {
   "cell_type": "code",
   "execution_count": null,
   "id": "ac78b5ec-a712-43b1-a119-e8eb8bc57771",
   "metadata": {},
   "outputs": [],
   "source": [
    "def classify_ph(pH):\n",
    "    if pH < 7:\n",
    "        print(\"Neutral\") \n",
    "    elif pH >= 7:\n",
    "        \"Basic\"\n",
    "    elif pH == 7:\n",
    "        return(\"Acidic\")  \n",
    "\n",
    "pH_value = 7.1\n",
    "classify_ph(pH_value)"
   ]
  },
  {
   "cell_type": "code",
   "execution_count": null,
   "id": "72185da5-37d4-451b-8fbe-35597c32e32e",
   "metadata": {},
   "outputs": [],
   "source": []
  }
 ],
 "metadata": {
  "kernelspec": {
   "display_name": "Python 3 (ipykernel)",
   "language": "python",
   "name": "python3"
  },
  "language_info": {
   "codemirror_mode": {
    "name": "ipython",
    "version": 3
   },
   "file_extension": ".py",
   "mimetype": "text/x-python",
   "name": "python",
   "nbconvert_exporter": "python",
   "pygments_lexer": "ipython3",
   "version": "3.10.13"
  }
 },
 "nbformat": 4,
 "nbformat_minor": 5
}
