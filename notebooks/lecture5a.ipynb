{
 "cells": [
  {
   "cell_type": "markdown",
   "id": "6a772192-b2e7-40d3-a1d4-6842c12cd30c",
   "metadata": {},
   "source": [
    "## Reading & Writing Files, Working with Strings\n",
    "\n",
    "- Reading and writing files (File IO: Input/Output) is a common task in scientific computing.\n",
    "- In Python, files are handled using the built-in `open()` function.\n",
    "- This function returns a file object, which can be used to read from or write to the file.\n",
    "- Strings are the most common data type to be written to files.\n",
    "\n",
    "---\n",
    " - **Regular Expressions** are useful tools to work with texts."
   ]
  },
  {
   "cell_type": "markdown",
   "id": "dee74895-dd7a-4ffc-a71a-282f92d69c9a",
   "metadata": {},
   "source": [
    "### writing a text file"
   ]
  },
  {
   "cell_type": "code",
   "execution_count": 1,
   "id": "adc2ed06-3648-4232-9ab5-05c99274bcb6",
   "metadata": {},
   "outputs": [],
   "source": [
    "content = \"\"\"The optimist sees the glass half full.\n",
    "The pessimist sees the glass half empty.\\n\n",
    "The chemist see the glass completely full, half in the liquid state and half in the vapor state.\"\"\""
   ]
  },
  {
   "cell_type": "code",
   "execution_count": 2,
   "id": "a9d1faaa-85e4-4621-938e-f3f909fe0da5",
   "metadata": {},
   "outputs": [],
   "source": [
    "# open the file\n",
    "fout = open('joke.txt','w')\n",
    "fout.write(content)\n",
    "# do not forget to close the file!\n",
    "fout.close()"
   ]
  },
  {
   "cell_type": "code",
   "execution_count": 3,
   "id": "2c72dc14-8908-405e-ab50-764c8780e80e",
   "metadata": {},
   "outputs": [
    {
     "name": "stdout",
     "output_type": "stream",
     "text": [
      "The optimist sees the glass half full.\n",
      "The pessimist sees the glass half empty.\n",
      "\n",
      "The chemist see the glass completely full, half in the liquid state and half in the vapor state."
     ]
    }
   ],
   "source": [
    "# Note the effect of newline character \\n\n",
    "!cat joke.txt"
   ]
  },
  {
   "cell_type": "markdown",
   "id": "89626338-8d6c-458e-bb5e-e48197ddc141",
   "metadata": {},
   "source": [
    "### reading a text file"
   ]
  },
  {
   "cell_type": "code",
   "execution_count": 4,
   "id": "499051d8-2787-4918-978f-52fb2c08017e",
   "metadata": {},
   "outputs": [
    {
     "data": {
      "text/plain": [
       "177"
      ]
     },
     "execution_count": 4,
     "metadata": {},
     "output_type": "execute_result"
    }
   ],
   "source": [
    "# open the file at once\n",
    "fin = open('joke.txt','r')\n",
    "content = fin.read()\n",
    "fin.close() \n",
    "len(content)"
   ]
  },
  {
   "cell_type": "code",
   "execution_count": 5,
   "id": "f963444d-f7d4-4a98-ae23-0ed8a12adc61",
   "metadata": {},
   "outputs": [
    {
     "data": {
      "text/plain": [
       "'The optimist sees the glass half full.\\nThe pessimist sees the glass half empty.\\n\\nThe chemist see the glass completely full, half in the liquid state and half in the vapor state.'"
      ]
     },
     "execution_count": 5,
     "metadata": {},
     "output_type": "execute_result"
    }
   ],
   "source": [
    "content"
   ]
  },
  {
   "cell_type": "code",
   "execution_count": 6,
   "id": "8cff9eaa-6fed-4641-ab39-3127306f0007",
   "metadata": {},
   "outputs": [],
   "source": [
    "# open the file line by line with an iterator\n",
    "content = ''\n",
    "fin = open('joke.txt','r')\n",
    "for line in fin:\n",
    "    content += line\n",
    "fin.close()"
   ]
  },
  {
   "cell_type": "code",
   "execution_count": 7,
   "id": "9a2f723c-bb95-49a9-b212-53439cb3aca5",
   "metadata": {},
   "outputs": [],
   "source": [
    "# closing files automatically using with \n",
    "with open('joke.txt','r') as fin:\n",
    "    content = fin.read()"
   ]
  },
  {
   "cell_type": "markdown",
   "id": "6d27cb43-d2b2-4198-acd4-97138bee2b8b",
   "metadata": {},
   "source": [
    "### working with files & directories"
   ]
  },
  {
   "cell_type": "code",
   "execution_count": 8,
   "id": "ed060ffd-9084-4bdb-96ef-cf84a8b1d095",
   "metadata": {},
   "outputs": [
    {
     "data": {
      "text/plain": [
       "True"
      ]
     },
     "execution_count": 8,
     "metadata": {},
     "output_type": "execute_result"
    }
   ],
   "source": [
    "# check existence with exists()\n",
    "import os\n",
    "os.path.exists('joke.txt')"
   ]
  },
  {
   "cell_type": "code",
   "execution_count": 9,
   "id": "d21e33f1-a0fb-4161-bad1-80388f02bcf1",
   "metadata": {},
   "outputs": [
    {
     "data": {
      "text/plain": [
       "True"
      ]
     },
     "execution_count": 9,
     "metadata": {},
     "output_type": "execute_result"
    }
   ],
   "source": [
    "# . (single dot) Unix for the actual directory\n",
    "# .. (double dot) for the parent directory\n",
    "os.path.exists('./joke.txt')"
   ]
  },
  {
   "cell_type": "code",
   "execution_count": 10,
   "id": "405fd1da-04aa-4b03-b14d-e6df2a5908f0",
   "metadata": {},
   "outputs": [
    {
     "data": {
      "text/plain": [
       "True"
      ]
     },
     "execution_count": 10,
     "metadata": {},
     "output_type": "execute_result"
    }
   ],
   "source": [
    "# checking the type with isfile()\n",
    "os.path.isfile('joke.txt')"
   ]
  },
  {
   "cell_type": "code",
   "execution_count": 11,
   "id": "85ea1987-a400-4aae-ba86-dd6d0aa0bfde",
   "metadata": {},
   "outputs": [
    {
     "data": {
      "text/plain": [
       "False"
      ]
     },
     "execution_count": 11,
     "metadata": {},
     "output_type": "execute_result"
    }
   ],
   "source": [
    "os.path.isdir('joke.txt')"
   ]
  },
  {
   "cell_type": "code",
   "execution_count": 12,
   "id": "d31120c0-4897-4df1-9ffd-0c81fa18ffdd",
   "metadata": {},
   "outputs": [
    {
     "data": {
      "text/plain": [
       "'bad_joke.txt'"
      ]
     },
     "execution_count": 12,
     "metadata": {},
     "output_type": "execute_result"
    }
   ],
   "source": [
    "# copying with shutil (shell utils)\n",
    "import shutil\n",
    "shutil.copy('joke.txt','bad_joke.txt')"
   ]
  },
  {
   "cell_type": "code",
   "execution_count": 13,
   "id": "8322f87a-4f12-4184-9d09-097866ee6dc8",
   "metadata": {},
   "outputs": [],
   "source": [
    "# renaming\n",
    "os.rename('bad_joke.txt','good_joke.txt')"
   ]
  },
  {
   "cell_type": "code",
   "execution_count": 14,
   "id": "814c0538-72d4-4000-986d-ea0e9967f749",
   "metadata": {},
   "outputs": [
    {
     "data": {
      "text/plain": [
       "False"
      ]
     },
     "execution_count": 14,
     "metadata": {},
     "output_type": "execute_result"
    }
   ],
   "source": [
    "# delete a file with remove\n",
    "os.remove('good_joke.txt')\n",
    "os.path.exists('good_joke.txt')"
   ]
  },
  {
   "cell_type": "markdown",
   "id": "a8730589-6bd6-4c56-b87c-270b821a19e5",
   "metadata": {},
   "source": [
    "### pathlib module"
   ]
  },
  {
   "cell_type": "code",
   "execution_count": 15,
   "id": "7bc6e36d-2ff4-44f3-a936-37cfeee0b6de",
   "metadata": {},
   "outputs": [
    {
     "data": {
      "text/plain": [
       "PosixPath('joke.txt')"
      ]
     },
     "execution_count": 15,
     "metadata": {},
     "output_type": "execute_result"
    }
   ],
   "source": [
    "from pathlib import Path\n",
    "file_path = Path('.') / Path('joke.txt') \n",
    "# the slash comes from the \"magic methods\" in Python\n",
    "file_path # this is an object of the Path class"
   ]
  },
  {
   "cell_type": "code",
   "execution_count": 16,
   "id": "d207ab32-5f3a-448f-97a2-85fd8a840198",
   "metadata": {},
   "outputs": [
    {
     "data": {
      "text/plain": [
       "'joke.txt'"
      ]
     },
     "execution_count": 16,
     "metadata": {},
     "output_type": "execute_result"
    }
   ],
   "source": [
    "file_path.name"
   ]
  },
  {
   "cell_type": "code",
   "execution_count": 17,
   "id": "c852740e-be39-4b68-ae31-8b1d640aaafa",
   "metadata": {},
   "outputs": [
    {
     "data": {
      "text/plain": [
       "'.txt'"
      ]
     },
     "execution_count": 17,
     "metadata": {},
     "output_type": "execute_result"
    }
   ],
   "source": [
    "file_path.suffix"
   ]
  },
  {
   "cell_type": "code",
   "execution_count": 18,
   "id": "a9bbed0b-c709-4a7c-9ad5-3302972ee797",
   "metadata": {},
   "outputs": [
    {
     "data": {
      "text/plain": [
       "True"
      ]
     },
     "execution_count": 18,
     "metadata": {},
     "output_type": "execute_result"
    }
   ],
   "source": [
    "file_path.is_file()"
   ]
  },
  {
   "cell_type": "code",
   "execution_count": 19,
   "id": "d9cab49a-678b-426e-80db-73ae7df29c03",
   "metadata": {},
   "outputs": [],
   "source": [
    "# the object can be used with open\n",
    "with open(file_path,'r') as fin:\n",
    "    content = fin.read()"
   ]
  },
  {
   "cell_type": "markdown",
   "id": "f8a5af72-1984-4e4f-9d75-fa86748a54ce",
   "metadata": {},
   "source": [
    "## Exercise: File I/O \n",
    "\n",
    "### Objective\n",
    "Read a file containing molecular weights of chemical compounds, calculate the total and average molecular weight, and write the results to a new file.\n",
    "\n",
    "---\n",
    "\n",
    "### Steps\n",
    "\n",
    "### 1. Input File\n",
    "Create a text file named `molecular_weights.txt` with the following content:\n",
    "\n",
    "`18.015 # Water (H2O)`  \n",
    "`28.014 # Nitrogen (N2)`    \n",
    "`44.009 # Carbon Dioxide (CO2)`    \n",
    "`58.443 # Sodium Chloride (NaCl)`    \n",
    "`16.042 # Methane (CH4)`  \n",
    "\n",
    "The file contains molecular weights of some common chemical compounds.\n",
    "\n",
    "### 2. Tasks\n",
    "- Open and read the content of `molecular_weights.txt`.\n",
    "- Parse the molecular weights (ignore the comments in the file).\n",
    "- Perform the following calculations:\n",
    "  - **Total Molecular Weight**: The sum of all molecular weights.\n",
    "  - **Average Molecular Weight**: The mean molecular weight.\n",
    "- Write the results to a new file named `results.txt` in the format:\n",
    "\n",
    "Total Molecular Weight: 164.52 Average Molecular Weight: 32.90\n",
    "\n",
    "### Hints\n",
    "- Use the `open()` function with appropriate modes (`'r'` for reading and `'w'` for writing).\n",
    "- Use Python's string manipulation methods to  skip comments and extract numeric values: `split()` and `float`.\n",
    "- Utilize Python's built-in functions like `sum()` and `len()` for calculations.\n",
    "\n",
    "\n",
    "### 3. Bonus Tasks\n",
    "- **Handle Errors Gracefully**:\n",
    "- If the input file is missing or contains invalid data, display an error message and exit gracefully.   \n",
    " (Use error handling (`try` and `except`) for robust code.)\n",
    "- **Include Metadata**:\n",
    "- Add a timestamp to the output file indicating when the calculations were performed with `time` module\n",
    "- For example:\n",
    "  ```\n",
    "  Results computed on: 2024-12-19 15:30:00"
   ]
  },
  {
   "cell_type": "markdown",
   "id": "af7788c5-11e0-42b8-b8cd-ae154bc0f666",
   "metadata": {},
   "source": [
    "## Regular expressions\n",
    "\n",
    "A regular expression (RegEx) is used to identify and manipulate patterns in text, such as validating formats, searching, or replacing substrings.\n"
   ]
  },
  {
   "cell_type": "code",
   "execution_count": 20,
   "id": "f8d324ef-a3d5-410d-bfca-33e500514f12",
   "metadata": {},
   "outputs": [
    {
     "data": {
      "text/plain": [
       "['ATCG', 'AAGG']"
      ]
     },
     "execution_count": 20,
     "metadata": {},
     "output_type": "execute_result"
    }
   ],
   "source": [
    "import re\n",
    "\n",
    "# Example DNA sequence\n",
    "dna_sequence = \"ATCGTTAGGCAAGGCGTTA\"\n",
    "\n",
    "# Regular expression pattern to find \"A\" followed by any two nucleotides and then \"G\"\n",
    "pattern = r'A..G'\n",
    "\n",
    "# Finding all matches in the DNA sequence\n",
    "matches = re.findall(pattern, dna_sequence)\n",
    "matches"
   ]
  },
  {
   "cell_type": "code",
   "execution_count": 21,
   "id": "0ff00e0f-e382-42a4-836f-4eed3a9ca988",
   "metadata": {},
   "outputs": [
    {
     "name": "stdout",
     "output_type": "stream",
     "text": [
      "This sequence starts with the start codon 'ATG'!\n"
     ]
    }
   ],
   "source": [
    "# find exact beginning with match():\n",
    "dna_sequence = \"ATGATTACA\"\n",
    "\n",
    "# Regex pattern to match if the DNA sequence starts with \"ATG\" (start codon)\n",
    "if re.match(r'ATG', dna_sequence):\n",
    "    print(\"This sequence starts with the start codon 'ATG'!\")"
   ]
  },
  {
   "cell_type": "code",
   "execution_count": 22,
   "id": "badfa709-f3a1-4d09-b358-29209557d906",
   "metadata": {},
   "outputs": [
    {
     "name": "stdout",
     "output_type": "stream",
     "text": [
      "Start codon 'GAT' found somewhere in the sequence!\n"
     ]
    }
   ],
   "source": [
    "# search anywhere with search\n",
    "# Regex pattern to search for \"GAT\" (start codon) as first match anywhere in the sequence\n",
    "if re.search(r'GAT', dna_sequence):\n",
    "    print(\"Start codon 'GAT' found somewhere in the sequence!\")"
   ]
  },
  {
   "cell_type": "code",
   "execution_count": 23,
   "id": "b67d60c5-0e79-4719-a218-332a63357acc",
   "metadata": {},
   "outputs": [
    {
     "data": {
      "text/plain": [
       "['C', 'H', 'O']"
      ]
     },
     "execution_count": 23,
     "metadata": {},
     "output_type": "execute_result"
    }
   ],
   "source": [
    "# finding all matches with findall\n",
    "# Example elemental analysis (e.g., for glucose: C6H12O6)\n",
    "elemental_analysis = \"C6H12O6\"\n",
    "\n",
    "# Regex pattern to find all element symbols\n",
    "# (capital letter followed by optional lowercase letter)\n",
    "elements = re.findall(r'[A-Z][a-z]?', elemental_analysis)\n",
    "elements"
   ]
  },
  {
   "cell_type": "code",
   "execution_count": 24,
   "id": "9cd223d0-6918-4469-91ee-8f30e4d63b81",
   "metadata": {},
   "outputs": [
    {
     "data": {
      "text/plain": [
       "['6', '12', '6']"
      ]
     },
     "execution_count": 24,
     "metadata": {},
     "output_type": "execute_result"
    }
   ],
   "source": [
    "integers = re.findall(r'\\d+', elemental_analysis)\n",
    "integers"
   ]
  },
  {
   "cell_type": "code",
   "execution_count": 25,
   "id": "35446a95-1355-48b8-b900-a2283d9d4202",
   "metadata": {},
   "outputs": [
    {
     "name": "stdout",
     "output_type": "stream",
     "text": [
      "Modified analysis: CxHxOx\n"
     ]
    }
   ],
   "source": [
    "elemental_analysis = \"C6H12O6\"\n",
    "\n",
    "# Using sub() to replace all integers with \"x\"\n",
    "modified_analysis = re.sub(r'\\d+', 'x', elemental_analysis)\n",
    "\n",
    "print(f\"Modified analysis: {modified_analysis}\")"
   ]
  },
  {
   "cell_type": "code",
   "execution_count": 26,
   "id": "c68bb652-3f46-4c0f-b969-b52fac71c43f",
   "metadata": {},
   "outputs": [
    {
     "name": "stdout",
     "output_type": "stream",
     "text": [
      "Split formula: ['C', '6', 'H', '12', 'O', '6', '']\n"
     ]
    }
   ],
   "source": [
    "chemical_formula = \"C6H12O6\"\n",
    "\n",
    "# Using split() to separate elements and their quantities\n",
    "split_formula = re.split(r'(\\d+)', chemical_formula)\n",
    "\n",
    "# The result will alternate between elements and their corresponding quantities\n",
    "print(f\"Split formula: {split_formula}\")"
   ]
  },
  {
   "cell_type": "markdown",
   "id": "cc889c74-055c-41b0-bd95-89999a0bc1d2",
   "metadata": {},
   "source": [
    "### Special characters\n",
    "\n",
    "- **`.`**: Matches any single character except newline.\n",
    "- **`\\d`**: Matches any digit (equivalent to `[0-9]`).\n",
    "- **`\\D`**: Matches any non-digit character.\n",
    "- **`\\w`**: Matches any word character (alphanumeric or underscore, `[A-Za-z0-9_]`).\n",
    "- **`\\W`**: Matches any non-word character.\n",
    "- **`\\s`**: Matches any whitespace character (spaces, tabs, newlines).\n",
    "- **`\\S`**: Matches any non-whitespace character."
   ]
  },
  {
   "cell_type": "code",
   "execution_count": 27,
   "id": "d8c5c0fc-1900-4b58-9af3-ab87cf42ea8b",
   "metadata": {},
   "outputs": [
    {
     "data": {
      "text/plain": [
       "100"
      ]
     },
     "execution_count": 27,
     "metadata": {},
     "output_type": "execute_result"
    }
   ],
   "source": [
    "import string\n",
    "# contains 100 printable ASCII characters\n",
    "printable = string.printable\n",
    "len(printable)"
   ]
  },
  {
   "cell_type": "code",
   "execution_count": 28,
   "id": "f5251076-1438-4e73-aadc-4d935b845750",
   "metadata": {},
   "outputs": [
    {
     "data": {
      "text/plain": [
       "'0123456789abcdefghijklmnopqrstuvwxyzABCDEFGHIJKLMNOPQRSTUVWXYZ!\"#$%&\\'()*+,-./:;<=>?@[\\\\]^_`{|}~ \\t\\n\\r\\x0b\\x0c'"
      ]
     },
     "execution_count": 28,
     "metadata": {},
     "output_type": "execute_result"
    }
   ],
   "source": [
    "printable"
   ]
  },
  {
   "cell_type": "code",
   "execution_count": 29,
   "id": "a4d810e8-b388-4da4-9154-3e68ef775e0e",
   "metadata": {},
   "outputs": [
    {
     "data": {
      "text/plain": [
       "['0', '1', '2', '3', '4', '5', '6', '7', '8', '9']"
      ]
     },
     "execution_count": 29,
     "metadata": {},
     "output_type": "execute_result"
    }
   ],
   "source": [
    "# Which characters in printable are digits:\n",
    "re.findall(\"\\d\",printable)"
   ]
  },
  {
   "cell_type": "code",
   "execution_count": 30,
   "id": "6cf3ccc7-dd95-4498-897a-24352010ec8f",
   "metadata": {},
   "outputs": [
    {
     "data": {
      "text/plain": [
       "[' ', '\\t', '\\n', '\\r', '\\x0b', '\\x0c']"
      ]
     },
     "execution_count": 30,
     "metadata": {},
     "output_type": "execute_result"
    }
   ],
   "source": [
    "# which are space like characters?\n",
    "re.findall(\"\\s\",printable)"
   ]
  },
  {
   "cell_type": "markdown",
   "id": "3ec41d63-72d2-416b-8faf-44db7ddb38fa",
   "metadata": {},
   "source": [
    "### Regex specifiers\n",
    "\n",
    "- **`^`**: Anchors the match to the start of the string.\n",
    "- **`$`**: Anchors the match to the end of the string.\n",
    "- **`*`**: Matches 0 or more of the preceding character or group.\n",
    "- **`+`**: Matches 1 or more of the preceding character or group.\n",
    "- **`?`**: Matches 0 or 1 of the preceding character or group (makes it optional).\n",
    "- **`\\`**: Escapes a special character (e.g., `\\.` to match a literal dot).\n",
    "- **`|`**: Alternation (acts as \"or\"; matches either the expression before or after it).\n",
    "- **`()`**: Groups characters together, allowing you to apply quantifiers or capture groups.\n",
    "- **`[]`**: Character class, matches any one character inside the brackets (e.g., `[abc]` matches 'a', 'b', or 'c').\n",
    "- **`{}`**: Specifies a number or range of repetitions (e.g., `a{2}` matches exactly two 'a's)."
   ]
  },
  {
   "cell_type": "markdown",
   "id": "bdd1a0c9-dca9-4923-90a2-b1644855b10d",
   "metadata": {},
   "source": [
    "### Examples"
   ]
  },
  {
   "cell_type": "code",
   "execution_count": 31,
   "id": "0feb4614-712e-4c6e-ad46-2248cfb53579",
   "metadata": {},
   "outputs": [
    {
     "name": "stdout",
     "output_type": "stream",
     "text": [
      "Hydrocarbon matches: ['CH4', 'C2H6', 'C6H12']\n"
     ]
    }
   ],
   "source": [
    "# Example using the anchors ^ and $\n",
    "chemical_formulas = [\"CH4\", \"C2H6\", \"C6H12\", \"C2HO\", \"H2O\", \"C2H5OH\"]\n",
    "\n",
    "# Regex pattern: starts with C, ends with H, with any number of digits in between\n",
    "pattern = r\"^C\\d*H\\d*$\"\n",
    "\n",
    "# Apply the regex pattern\n",
    "matches = [formula for formula in chemical_formulas if re.match(pattern, formula)]\n",
    "\n",
    "print(f\"Hydrocarbon matches: {matches}\")"
   ]
  },
  {
   "cell_type": "code",
   "execution_count": 32,
   "id": "c8b356f0-c338-45f6-897f-ce8203386c95",
   "metadata": {},
   "outputs": [
    {
     "name": "stdout",
     "output_type": "stream",
     "text": [
      "Alcohol matches: ['C2H5OH', 'CH3OH', 'C3H7OH']\n"
     ]
    }
   ],
   "source": [
    "# Example finding alcohol\n",
    "chemical_formulas = [\"C2H5OH\", \"CH3OH\", \"C3H7OH\", \"C6H12O\", \"C2HO\",\"KOH\"]\n",
    "\n",
    "# Regex pattern: a hydrocarbon chain (C and H) followed by OH group\n",
    "pattern = r\"C\\d*H\\d*(OH)+\"\n",
    "\n",
    "# Apply the regex pattern\n",
    "matches = [formula for formula in chemical_formulas if re.match(pattern, formula)]\n",
    "\n",
    "print(f\"Alcohol matches: {matches}\")"
   ]
  },
  {
   "cell_type": "code",
   "execution_count": 33,
   "id": "23ca300f-aed3-48d8-ac69-2a11765a11be",
   "metadata": {},
   "outputs": [
    {
     "name": "stdout",
     "output_type": "stream",
     "text": [
      "Matches: ['SO4^2-', 'SO4^-']\n"
     ]
    }
   ],
   "source": [
    "# Example text containing ions with different charges\n",
    "text = \"The solution contains sulfate (SO4^2-) and hydrogensulfate (HSO4^-).\"\n",
    "\n",
    "# Regex pattern to match both SO4^2- and SO4^-\n",
    "pattern = r\"SO4\\^2?-\"\n",
    "\n",
    "# Find all matches\n",
    "matches = re.findall(pattern, text)\n",
    "\n",
    "print(f\"Matches: {matches}\")"
   ]
  },
  {
   "cell_type": "code",
   "execution_count": 34,
   "id": "2a9771fe-5db3-425a-a6a2-d8eb32615712",
   "metadata": {},
   "outputs": [
    {
     "name": "stdout",
     "output_type": "stream",
     "text": [
      "Floating-point numbers: ['-23.45', '7.05']\n"
     ]
    }
   ],
   "source": [
    "# finding a floating point number in a text\n",
    "pattern = r\"[-+]?\\d*\\.\\d+\"\n",
    "\n",
    "text = \"The temperature is -23.45°C, and the pH value is 7.05.\"\n",
    "\n",
    "# Find all floating point numbers\n",
    "matches = re.findall(pattern, text)\n",
    "\n",
    "print(f\"Floating-point numbers: {matches}\")\n"
   ]
  }
 ],
 "metadata": {
  "kernelspec": {
   "display_name": "Python 3 (ipykernel)",
   "language": "python",
   "name": "python3"
  },
  "language_info": {
   "codemirror_mode": {
    "name": "ipython",
    "version": 3
   },
   "file_extension": ".py",
   "mimetype": "text/x-python",
   "name": "python",
   "nbconvert_exporter": "python",
   "pygments_lexer": "ipython3",
   "version": "3.11.11"
  }
 },
 "nbformat": 4,
 "nbformat_minor": 5
}
