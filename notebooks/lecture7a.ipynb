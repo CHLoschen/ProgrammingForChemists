{
 "cells": [
  {
   "cell_type": "markdown",
   "id": "4f28038a-ff43-40ee-aac9-76c656cd2206",
   "metadata": {},
   "source": [
    "## Python Programming for Chemists\n",
    "### Floating Point Representation: Mantissa, Sign, and Exponent\n",
    "\n",
    "Floating-point numbers are a way to represent real numbers that can support a wide range of values. A floating-point number is typically represented in scientific notation and consists of three main components: the mantissa (or significand), the sign, and the exponent.  \n",
    "\n",
    "#### Mantissa \n",
    "The mantissa (or significand or fraction) represents the significant digits of the number. In scientific notation, it is the part of the number that contains its precision. For example, in the number $ 6.022 \\times 10^3$, the mantissa is 6.022.\n",
    "\n",
    "In binary floating-point representation, the mantissa is a binary fraction. For instance, in IEEE 754 single-precision format, the mantissa is stored in 23 bits.\n",
    "\n",
    "#### References \n",
    "[Python floating points](https://docs.python.org/3/tutorial/floatingpoint.html)  \n",
    "[Number Representations in Computer Hardware](https://www.techspot.com/article/2630-number-representation-in-hardware/)  "
   ]
  },
  {
   "cell_type": "markdown",
   "id": "8c03553c-dd41-4915-8db8-3217d6e58e1c",
   "metadata": {},
   "source": [
    "\n",
    "#### Sign\n",
    "The sign bit indicates whether the number is positive or negative. In binary floating-point representation, a single bit is used:\n",
    "- `0` for positive numbers\n",
    "- `1` for negative numbers\n",
    "\n",
    "#### Exponent\n",
    "The exponent part represents the power of the base (usually 2 in binary representation) by which the mantissa is multiplied. It allows the floating-point number to represent a wide range of values. \n",
    "\n",
    "In IEEE 754 single-precision format, the exponent is stored in 8 bits and is biased to allow for both positive and negative exponents. The bias for single-precision is 127. Therefore, the actual exponent is calculated as follows:\n",
    "$ \\text{Exponent} = \\text{Exponent Bits} - 127 $\n",
    "\n",
    "#### Encoding in IEEE 754 Single-Precision Format\n",
    "\n",
    "A 32-bit floating-point number in IEEE 754 single-precision format is encoded as follows:\n",
    "- **1 bit** for the sign\n",
    "- **8 bits** for the exponent\n",
    "- **23 bits** for the mantissa \n",
    "\n",
    "The binary representation is:  \n",
    "$ \\text{Sign bit} \\ |\\ \\text{Exponent bits} \\ |\\ \\text{Mantissa bits} $  \n",
    "\n",
    "![Alt text](https://upload.wikimedia.org/wikipedia/commons/thumb/e/e8/IEEE_754_Single_Floating_Point_Format.svg/1920px-IEEE_754_Single_Floating_Point_Format.svg.png)"
   ]
  },
  {
   "cell_type": "code",
   "execution_count": null,
   "id": "ecbf2e9a-a240-481f-81e7-3c3f50201cec",
   "metadata": {},
   "outputs": [],
   "source": [
    "# Be careful when comparing floats!\n",
    "a = 0.1 + 0.2\n",
    "a == 0.3\n"
   ]
  },
  {
   "cell_type": "code",
   "execution_count": null,
   "id": "3987a6e1-c968-46a2-a00e-d5996aad2bda",
   "metadata": {},
   "outputs": [],
   "source": [
    "# issue can be resolved by rounding\n",
    "round(a,ndigits=1) == 0.3"
   ]
  },
  {
   "cell_type": "code",
   "execution_count": null,
   "id": "ac401c32-9913-403d-a89d-ecf49572dcfd",
   "metadata": {},
   "outputs": [],
   "source": [
    "# Or by comparison using a tolerance\n",
    "tolerance = 1e-15\n",
    "tolerant_comparison = abs(0.1+0.2 - 0.3) < tolerance\n",
    "tolerant_comparison"
   ]
  },
  {
   "cell_type": "code",
   "execution_count": null,
   "id": "7cc30550-0213-4b4b-a4e5-cad44cc646a7",
   "metadata": {},
   "outputs": [],
   "source": [
    "# Or better with built-in functions\n",
    "import math\n",
    "import numpy as np\n",
    "math.isclose(0.1+0.2,0.3), np.isclose(0.1+0.2,0.3)\n"
   ]
  },
  {
   "cell_type": "code",
   "execution_count": null,
   "id": "79eb39bb-189d-4a1b-8db9-97445b87f07f",
   "metadata": {},
   "outputs": [],
   "source": [
    "from decimal import Decimal\n",
    "a = 0.1 + 0.2\n",
    "b = Decimal('0.1') + Decimal('0.2')\n",
    "print(a)  \n",
    "print(b)      \n"
   ]
  },
  {
   "cell_type": "code",
   "execution_count": null,
   "id": "0fe5f218-b424-49f1-b26b-a81fd0f0a1b7",
   "metadata": {},
   "outputs": [],
   "source": [
    "# overflow\n",
    "large_number = 1e308\n",
    "print(type(large_number))\n",
    "\n",
    "overflow_result = large_number * 10.0\n",
    "\n",
    "print(\"Large Number:\", large_number)\n",
    "print(\"Overflow Result:\", overflow_result)"
   ]
  },
  {
   "cell_type": "markdown",
   "id": "71a408cb-14b6-4a72-8d5d-ba54baa401f5",
   "metadata": {},
   "source": [
    "## Linear Least Squares Fitting\n",
    "\n",
    "For the case of a straight line fit to n data points $(x_i,y_i)$ we can write:\n",
    "$\n",
    "\\begin{cases}\n",
    "y_1 = \\beta_0 + \\beta_1 x_{1}   \\\\\n",
    "y_2 = \\beta_0 + \\beta_1 x_{2}  \\\\\n",
    "y_3 = \\beta_0 + \\beta_1 x_{3}   \\\\\n",
    "\\vdots \\\\\n",
    "y_m = \\beta_0 + \\beta_1 x_{m} \n",
    "\\end{cases}\n",
    "$\n",
    "\n",
    "in matrix notation:\n",
    "\n",
    "$ \\mathbf{y} = \\mathbf{X} \\boldsymbol{\\beta}  $\n",
    "\n",
    "where:\n",
    "- $ \\mathbf{y} $ is the $ m \\times 1 $ vector of the dependent variable.\n",
    "- $ \\mathbf{X} $ is the  $ m \\times 2 $matrix of the independent variable vector and a column of ones for the intercept.\n",
    "- $ \\boldsymbol{\\beta} $ is the vector of coefficients (including the intercept): $\\boldsymbol{\\beta}=[\\beta_0 , \\beta_1]$\n",
    "\n",
    "The [normal equation](https://scipython.com/chem/normal-equations/) provides a way to compute the coefficients $\\boldsymbol{\\beta} $ that minimize the sum of squared residuals:\n",
    "\n",
    "$ \\boldsymbol{\\beta} = (\\mathbf{X}^\\top \\mathbf{X})^{-1} \\mathbf{X}^\\top \\mathbf{y} $\n",
    "\n",
    "where:\n",
    "- $ \\mathbf{X}^\\top $ is the transpose of the matrix $ \\mathbf{X} $.\n",
    "- $ (\\mathbf{X}^\\top \\mathbf{X})^{-1} $ is the inverse of the matrix $ \\mathbf{X}^\\top \\mathbf{X} $.\n",
    "- $ \\mathbf{X}^\\top \\mathbf{y} $ is the matrix product of $ \\mathbf{X}^\\top $ and $ \\mathbf{y} $.\n",
    "\n",
    "This formulation allows us to find the optimal coefficients for the linear regression model by solving the above equation.\n"
   ]
  },
  {
   "cell_type": "markdown",
   "id": "8a1e95dd-5f49-4e4a-8f1f-1b10e49fd676",
   "metadata": {},
   "source": [
    "### Example \n",
    "\n",
    "The rate constant $ k  $ as a function of temperature  $ T  $ with parameters  $ A  $ and  $ E_a  $ can be expressed using the Arrhenius equation:\n",
    "\n",
    " $ k(T) = A e^{-\\frac{E_a}{RT}} $\n",
    "\n",
    "where:\n",
    "-  $ k(T)  $ is the rate constant at temperature $ T  $\n",
    "-  $ A  $ is the pre-exponential factor (also known as the frequency factor)\n",
    "-  $ E_a $ is the activation energy\n",
    "-  $ R  $ is the universal gas constant\n",
    "-  $ T  $ is the absolute temperature\n",
    "\n",
    "E.g. Isomerization of cyclopropane to propene:\n",
    "\n",
    "| T (K) | k       |\n",
    "|-------|---------|\n",
    "| 700   | 1.5E-5  |\n",
    "| 750   | 4.9E-4  |\n",
    "| 800   | 5.9E-3  |\n",
    "| 850   | 4.7E-2  |\n",
    "| 900   | 5.5E-1  |  \n",
    "\n",
    "We assum the kinetics follow the Arrhenius equation and that we can fit $y = \\ln k$ against $x = 1/T$ via a straight line:\n",
    "\n",
    " $ \\ln k = \\ln A -\\frac{E_a}{RT} $\n"
   ]
  },
  {
   "cell_type": "code",
   "execution_count": null,
   "id": "0824913e-db80-455c-940c-9f5d7a19cf33",
   "metadata": {},
   "outputs": [],
   "source": [
    "import numpy as np\n",
    "import matplotlib.pyplot as plt\n",
    "from scipy.constants import R\n",
    "\n",
    "# Create numpy arrays for temperatures and rate constants\n",
    "T = np.array([700, 750, 800, 850, 900])\n",
    "k = np.array([1.5e-5, 4.9e-4, 5.9e-3, 4.7e-2, 5.5e-1])\n",
    "\n",
    "# Display the arrays\n",
    "print(\"Temperatures (K):\", T)\n",
    "print(\"Rate constants:\", k)"
   ]
  },
  {
   "cell_type": "code",
   "execution_count": null,
   "id": "c7ba4fe5-3e9d-495c-aa28-890590741950",
   "metadata": {},
   "outputs": [],
   "source": [
    "y = np.log(k)\n",
    "y"
   ]
  },
  {
   "cell_type": "code",
   "execution_count": null,
   "id": "1900af67-bf93-474f-a152-79d4ce00d7cf",
   "metadata": {},
   "outputs": [],
   "source": [
    "T_inv = 1/T\n",
    "X = np.vstack((np.ones(len(T)),T_inv)).T\n",
    "X"
   ]
  },
  {
   "cell_type": "code",
   "execution_count": null,
   "id": "0dfbf61f-c6d2-4468-9304-0877cc556314",
   "metadata": {},
   "outputs": [],
   "source": [
    "coefficients, residuals, rank, sing_values = np.linalg.lstsq(X,y)\n",
    "a,b = coefficients\n",
    "print(f\"a (slope)      : {a:.1f}\")\n",
    "print(f\"b (intercept)  : {b:.1f}\")\n",
    "print(f\"Residuals      : {residuals}\")\n",
    "print(f\"Rank           : {rank}\")\n",
    "print(f\"Singular values: {sing_values}\")"
   ]
  },
  {
   "cell_type": "code",
   "execution_count": null,
   "id": "d9add9f8-efd5-488e-8198-9bb962cd2adc",
   "metadata": {},
   "outputs": [],
   "source": [
    "A, Ea = np.exp(a), -b*R\n",
    "print(f\"A = {A:.1e} s-1\\nEa = {Ea/1000:.1f} kJ/mol-1\")"
   ]
  },
  {
   "cell_type": "code",
   "execution_count": null,
   "id": "6e510546-3637-4392-8834-db3b813a2da2",
   "metadata": {},
   "outputs": [],
   "source": [
    "plt.plot(1/T,y,'x')\n",
    "\n",
    "temperatures = np.linspace(650,950,100)\n",
    "y_predicted = np.log(A)- Ea / (R*temperatures)\n",
    "plt.plot(1/temperatures,y_predicted)\n",
    "\n",
    "plt.xlabel('$1/T\\;/K^{-1}$')\n",
    "plt.ylabel(\"$\\ln (k/\\mathrm{s^{-1}})$\")"
   ]
  },
  {
   "cell_type": "markdown",
   "id": "71f9fb79-3700-4ac3-9073-4bf169b60d3f",
   "metadata": {},
   "source": [
    "### Numerical Integration\n",
    "\n",
    "For example, the definite integral of $ f(x) = x^2 $ from 0 to 2 is:\n",
    "\n",
    "$ \\int_{0}^{2} x^2 \\, dx $\n"
   ]
  },
  {
   "cell_type": "code",
   "execution_count": null,
   "id": "478066dc-385f-4a71-9b7a-78648cee091f",
   "metadata": {},
   "outputs": [],
   "source": [
    "from scipy.integrate import quad\n",
    "\n",
    "def my_function(x):\n",
    "    return x**2"
   ]
  },
  {
   "cell_type": "code",
   "execution_count": null,
   "id": "6592bf6e-df23-4050-a27a-82cf8bc8dbc2",
   "metadata": {},
   "outputs": [],
   "source": [
    "integral_value, error = quad(my_function, 0 ,2)\n",
    "integral_value, error"
   ]
  },
  {
   "cell_type": "markdown",
   "id": "3c022574-b40f-484c-9fba-b13d2179d79d",
   "metadata": {},
   "source": [
    "#### Singularities\n",
    "Functions with singularities or discontinouities can cause problems in numerical integration'\n",
    "\n",
    "$ \\int_{-1}^{1} \\frac{dx}{\\sqrt{|1-4x^2|}} \\, dx $\n",
    "\n",
    "Due to the singularities at $x=0.5$ and $x=-0.5$ we have to split the integral"
   ]
  },
  {
   "cell_type": "code",
   "execution_count": null,
   "id": "1eb7cc9a-eb16-4dee-9cd4-0bd955e331cf",
   "metadata": {},
   "outputs": [],
   "source": [
    "def my_function2(x):\n",
    "    return  1 / (np.sqrt(np.abs(1-4*x**2)))"
   ]
  },
  {
   "cell_type": "code",
   "execution_count": null,
   "id": "88259a37-d7f8-452f-a9bd-972d4f6c916b",
   "metadata": {},
   "outputs": [],
   "source": [
    "quad(my_function2, -1 ,1, points=(0.5,-0.5))"
   ]
  },
  {
   "cell_type": "markdown",
   "id": "a19afd1c-59a2-48d5-8c2f-eea54b44d393",
   "metadata": {},
   "source": [
    "#### Infinite integrals\n",
    "Infinite integrals can be specified using `np.inf`, e.g.: \n",
    "\n",
    "$\\int_{0}^{\\infty}e^{x^2}dx = \\sqrt(\\pi) \\approx 1.772$\n"
   ]
  },
  {
   "cell_type": "code",
   "execution_count": null,
   "id": "a9cabfb5-06da-4f69-9af5-7292613e9398",
   "metadata": {},
   "outputs": [],
   "source": [
    "quad(lambda x: np.exp(-(x**2)),-np.inf,np.inf)"
   ]
  },
  {
   "cell_type": "markdown",
   "id": "4ac7f4a0-97d1-4916-be2b-100fcf9f8a28",
   "metadata": {},
   "source": [
    "#### Using parameters\n",
    "e.g. for $\\int_0^\\infty e^{-a t}\\cos kt \\mathrm{d}t = \\frac{a}{a^2+k^2}$ integrated over $t$ with parameters $a=5/2$ and $k=\\pi/8$\n"
   ]
  },
  {
   "cell_type": "code",
   "execution_count": null,
   "id": "e4fc6f54-e033-490d-8049-7b6d6dabee46",
   "metadata": {},
   "outputs": [],
   "source": [
    "def func(t,a,k):\n",
    "    return np.exp(-a*t)*np.cos(k*t)\n",
    "a, k = 2.5, np.pi / 8"
   ]
  },
  {
   "cell_type": "code",
   "execution_count": null,
   "id": "eff36aa0-5b77-480b-bca1-937694e034db",
   "metadata": {},
   "outputs": [],
   "source": [
    "quad(func,0,np.inf,args=(a,k))\n"
   ]
  },
  {
   "cell_type": "code",
   "execution_count": null,
   "id": "978582aa-e43d-4c62-8531-aca6637a9f5d",
   "metadata": {},
   "outputs": [],
   "source": [
    "a / (a**2+k**2)"
   ]
  },
  {
   "cell_type": "markdown",
   "id": "d0d0d72d-2c16-44ac-8c51-600eeca32f96",
   "metadata": {
    "jp-MarkdownHeadingCollapsed": true
   },
   "source": [
    "### Van der Waals Equation \n",
    "\n",
    "We use the Van der Waals euqation whichon is an equation of state for real gases. It extends the ideal gas law to account for the finite size of molecules and the attractive forces between them. The equation is given by:\n",
    "\n",
    "$$ \\left( p + a \\frac{n^2}{V^2} \\right) (V - nb) = nRT $$\n",
    "\n",
    "or\n",
    "\n",
    "$$  p = \\frac{nRT}{V-nb}-\\frac{n^2a}{V^2} $$\n",
    "\n",
    "\n",
    "where:\n",
    "- $ p $ is the pressure of the gas,\n",
    "- $ V $ is the volume of the gas,\n",
    "- $ n $ is the number of moles of the gas,\n",
    "- $ R $ is the universal gas constant,\n",
    "- $ T $ is the temperature of the gas,\n",
    "- $ a $ is a measure of the attraction between the particles,\n",
    "- $ b $ is the volume occupied by one mole of the particles.\n",
    "\n",
    "When the constants $ a $ and $ b $  are set to zero, the van der Waals equation reduces to the ideal gas law:\n",
    "\n",
    "$$ PV = nRT $$\n",
    "\n",
    "### Applications\n",
    "\n",
    "The van der Waals equation is used to describe the behavior of real gases, especially under conditions of high pressure and low temperature where deviations from the ideal gas law are most significant.\n",
    "\n",
    "#### References:\n",
    "[van der Waals equation](https://youtu.be/NQNGpQeJuyw)\n",
    "\n"
   ]
  },
  {
   "cell_type": "markdown",
   "id": "e67e835b-996c-436b-bf34-5486dfa4ca04",
   "metadata": {},
   "source": [
    "### Example\n",
    "How much work is done in compressing gaseous nitrogen, initally at 1 atm, isothermally at 298K to 100 bar into a 15L scuba diving cylinder?   \n",
    "Using parameters: $ a = 0.137\\,m^6\\,Pa\\,mol^{-2}$ and  $b = 3.87\\;10^{-5}\\,m^3\\,mol^{-1} $\n",
    "\n",
    "First, obtain V1 and then use the following expression to obtain the work done by compression:\n",
    "\n",
    "$$ w = - \\int_{V1}^{V2} p \\mathrm{d}V $$\n",
    "\n",
    "Note that the temperature $ T = 298 \\text{K}$  is constant.\n",
    "- The initial pressure $ p_1 = 101325 \\text{ Pa} $.  \n",
    "  The initial volume $V1$ is to be determined.  \n",
    "- The final pressure $ p_2 = 2 \\times 10^7 \\text{ Pa} $.  \n",
    "- The final volume $V_2 = 15 \\text{L} = 0.015 \\text{ m}^3 $.  "
   ]
  },
  {
   "cell_type": "code",
   "execution_count": null,
   "id": "e3303b9a-b007-4ad2-b2a4-5b09635d3dea",
   "metadata": {},
   "outputs": [],
   "source": [
    "import numpy as np\n",
    "from numpy.polynomial import Polynomial\n",
    "from scipy.integrate import quad\n",
    "from scipy.constants import R"
   ]
  },
  {
   "cell_type": "code",
   "execution_count": null,
   "id": "89fae800-e7dc-4ea9-af72-f2d12a28f13a",
   "metadata": {},
   "outputs": [],
   "source": [
    "# Define quantities\n",
    "T = 298               # temperature in K\n",
    "p1 = 101325           # initial pressure in Pa\n",
    "p2, V2 = 2.e7, 1.5e-2 # final pressure in Pa and volume in m^3\n",
    "a,b = 0.137, 3.87e-5  # Van der Waals parameter in SI units"
   ]
  },
  {
   "cell_type": "code",
   "execution_count": null,
   "id": "74785ceb-3ce1-4345-8038-c6fb6a407a0e",
   "metadata": {},
   "outputs": [],
   "source": [
    "# Lets find the number of moles at the final pressure and Volume according to the ideal gas law\n",
    "n_ideal = p2*V2 / (R*T)\n",
    "n_ideal # n at the final state p2 and V2, according to ideal gas law"
   ]
  },
  {
   "cell_type": "code",
   "execution_count": null,
   "id": "cf080ea4-b0bb-42f7-bd7b-7dd03684b4ad",
   "metadata": {},
   "outputs": [],
   "source": [
    "# The volume of this amount of nitrogen (does not change!) at the initial conditions\n",
    "V1 = n_ideal * R *T /p1\n",
    "V1"
   ]
  },
  {
   "cell_type": "markdown",
   "id": "892f188d-5efa-499a-b5de-c4103eca8599",
   "metadata": {},
   "source": [
    "We can not solve directly for n in the case of the van der Waals equation equation, but it can be rearranged to a cubic equation in n:\n",
    "$$ (ab)n^3 - (aV)n^2 + V^2(bp+RT)n-(pV^3)*1 = 0$$\n",
    "\n",
    "which can be solved numerically (or analytically) by finding its roots. We use the numpy [Polynomial](https://numpy.org/doc/stable/reference/generated/numpy.polynomial.polynomial.Polynomial.html) class. The individual terms of the polynomial\n",
    "are specified as arguments in a list."
   ]
  },
  {
   "cell_type": "code",
   "execution_count": null,
   "id": "05506ed5-457f-40ff-aa9e-c91838b3e4eb",
   "metadata": {},
   "outputs": [],
   "source": [
    "poly = Polynomial([-p2*V2**3,V2**2*(b*p2+R*T),-a*V2,a*b]) \n",
    "roots = poly.roots()\n",
    "roots"
   ]
  },
  {
   "cell_type": "markdown",
   "id": "b8711a13-f386-41cc-af77-8f4bc1686945",
   "metadata": {},
   "source": [
    "This polynomial has one real and 2 imaginary roots, we can drop the imaginary solutions."
   ]
  },
  {
   "cell_type": "code",
   "execution_count": null,
   "id": "a0bd6184-a804-4f7e-80a1-eda89a0f2dea",
   "metadata": {},
   "outputs": [],
   "source": [
    "n = roots[0].real # n at p2 and V2 according to vdW equation: we have 120 mol of gas in total\n",
    "n"
   ]
  },
  {
   "cell_type": "markdown",
   "id": "09bc9832-df22-4343-8572-994071de8a6c",
   "metadata": {},
   "source": [
    "### Work Done by a Gas Using the Van der Waals Equation\n",
    "\n",
    "The work done by a gas during an isothermal (constant temperature) expansion or compression can be calculated using the van der Waals equation. The work $ W $ is given by the integral of pressure with respect to volume:\n"
   ]
  },
  {
   "cell_type": "markdown",
   "id": "2f96da54-3aa3-480d-9184-48f21c1914b7",
   "metadata": {},
   "source": [
    "$ W = -\\int_{V_1}^{V_2} p \\, dV = -\\int_{V_1}^{V_2} \\left( \\frac{nRT}{V - nb} - \\frac{n^2a}{V^2} \\right) dV $\n",
    "\n",
    "This integral can be separated into two integrals:\n",
    "$ W = -nRT \\int_{V_1}^{V_2} \\frac{dV}{V - nb} - n^2a \\int_{V_1}^{V_2} \\frac{dV}{V^2} $\n",
    "\n",
    "The final expression for the work done by the gas during an isothermal process using the van der Waals equation is:\n",
    "\n",
    "$  W = -nRT \\ln \\left( \\frac{V_2 - nb}{V_1 - nb} \\right) + n^2a \\left( \\frac{1}{V_2} - \\frac{1}{V_1} \\right) $ "
   ]
  },
  {
   "cell_type": "code",
   "execution_count": null,
   "id": "6ef05df7-bdfa-4e2a-8177-67fa12f6a7f4",
   "metadata": {},
   "outputs": [],
   "source": [
    "# analytical approach vdW equation\n",
    "term1 = -n*R*T*np.log((V2-n*b)/(V1-n*b))\n",
    "term2 = -n**2*a*(1/V2-1/V1)\n",
    "work = term1 + term2\n",
    "work"
   ]
  },
  {
   "cell_type": "code",
   "execution_count": null,
   "id": "eea9bb2d-fde7-4f0b-8d33-5302a0d753fc",
   "metadata": {},
   "outputs": [],
   "source": [
    "# compare with the analytical result for the ideal work\n",
    "work_ideal = - n*R*T*np.log(V2/V1)\n",
    "work_ideal # work is greate because there are not attractive forces in the ideal gas"
   ]
  },
  {
   "cell_type": "code",
   "execution_count": null,
   "id": "c2a1fd35-83db-467d-ba06-a03853a52a58",
   "metadata": {},
   "outputs": [],
   "source": [
    "# numerical approach for the vdW equation, integrate p = f(V) from V1 to V2 \n",
    "def p(V,n,R,T,a,b):\n",
    "    return n* R*T /(V- n*b)-n**2*a/(V**2)\n",
    "work_numerical, err = quad(p,V2,V1, args =(n,R,T,a,b))\n",
    "work_numerical # close agreement with analytical result"
   ]
  },
  {
   "cell_type": "code",
   "execution_count": null,
   "id": "bd96dce1-9f1a-4d88-95cf-145b4850c043",
   "metadata": {},
   "outputs": [],
   "source": [
    "print(f\"The work done by compressing N2 into a 15L cylinder with 200 bar at 298K is {work_numerical/1000:.1f} kJ\")"
   ]
  },
  {
   "cell_type": "markdown",
   "id": "1fa57569-fbc0-4ca6-8185-5d28cb766d82",
   "metadata": {},
   "source": [
    "### Optimization\n",
    "\n",
    "E.g. using the simple function: $f(x) = 2x^2-8x+16$"
   ]
  },
  {
   "cell_type": "code",
   "execution_count": null,
   "id": "eb870de1-bb2f-4703-8746-0a669606af51",
   "metadata": {},
   "outputs": [],
   "source": [
    "from scipy.optimize import minimize\n",
    "def f(x):\n",
    "    y = 2*x**2 -8*x +16\n",
    "    return y\n",
    "result = minimize(f,(0,))  # initial guess at x=2\n",
    "# Print individual results\n",
    "print(\"Optimization Results:\")\n",
    "print(f\"Success: {result.success}\")\n",
    "print(f\"Message: {result.message}\")\n",
    "print(f\"Optimal Value of x: {result.x}\")\n",
    "print(f\"Function Value at Minimum: {result.fun}\")\n",
    "print(f\"Number of Iterations: {result.nit}\")\n",
    "print(f\"Number of Function Evaluations: {result.nfev}\")"
   ]
  },
  {
   "cell_type": "code",
   "execution_count": null,
   "id": "60482842-03d3-461a-9580-482daf5da818",
   "metadata": {},
   "outputs": [],
   "source": [
    "x = np.linspace(-4, 8,100)\n",
    "plt.plot(x,f(x))   \n",
    "plt.title('Plot of the Function $f(x) = 2x^2-8x+16$')"
   ]
  },
  {
   "cell_type": "code",
   "execution_count": null,
   "id": "e8bc4a7f-3e58-4349-8ae6-f04b405e838a",
   "metadata": {},
   "outputs": [],
   "source": [
    "from scipy.constants import pi\n",
    "# for a function with multiple minima things can go wrong\n",
    "def f2(phi):\n",
    "    return 2*np.cos(phi)\n",
    "x = np.linspace(-2*pi, 2*pi,100)\n",
    "plt.plot(x,f2(x))   \n",
    "plt.title('Plot of the Function $f(x) = 2cos(x)$')"
   ]
  },
  {
   "cell_type": "code",
   "execution_count": null,
   "id": "851c6518-216c-42ee-b5fe-fae942bc4fda",
   "metadata": {},
   "outputs": [],
   "source": [
    "minimize(f2,(0,)) # algorithm actually stuck on a maximum!!"
   ]
  },
  {
   "cell_type": "code",
   "execution_count": null,
   "id": "da93df11-7de6-45ff-93dc-a26911034180",
   "metadata": {},
   "outputs": [],
   "source": [
    "minimize(f2,(1,)) # use another guess "
   ]
  },
  {
   "cell_type": "code",
   "execution_count": null,
   "id": "cf18eefa-3c1d-48bc-9566-71c7509779ba",
   "metadata": {},
   "outputs": [],
   "source": [
    "minimize(f2,(0,),method=\"nelder-mead\") # use another method (one without relying on derivatives)"
   ]
  },
  {
   "cell_type": "markdown",
   "id": "9ad13255-34a9-45b2-8a5e-43323c6404c6",
   "metadata": {},
   "source": [
    "#### Minimization with multiple variables\n",
    "Consider the a function with 2 variables (multivariate), e.g.:\n",
    "$f(x)=x^2-a*x-xy+b*y+4*y^2$\n",
    "\n",
    "Note that scipy needs the variables for the minimization as a sequences (tuple or list) as first argument,\n",
    "the other parameters follow hereafter:"
   ]
  },
  {
   "cell_type": "code",
   "execution_count": null,
   "id": "e8bd1bc1-0a49-49c8-b0e1-d889d702e3c0",
   "metadata": {},
   "outputs": [],
   "source": [
    "def f(X,a,b):\n",
    "    x,y = X # unpacking\n",
    "    return x**2 - a*x -x*y+b*y+4*y**2"
   ]
  },
  {
   "cell_type": "code",
   "execution_count": null,
   "id": "4a1b1cf5-d432-4191-ba43-d048cfbc60ea",
   "metadata": {},
   "outputs": [],
   "source": [
    "# using a = 4 and b= 10\n",
    "X0 = (0,0) # initial guess as tuple: x0=0 and y0=0\n",
    "res = minimize(f,X0,args=(4,10))\n",
    "res"
   ]
  },
  {
   "cell_type": "code",
   "execution_count": null,
   "id": "79477bdf-54b0-4f68-81fc-24ef1328a698",
   "metadata": {},
   "outputs": [],
   "source": [
    "print(f\"The minimum is at (x,y) = {res.x[0]} {res.x[1]}\") # x=44/30 any y = -16/15"
   ]
  },
  {
   "cell_type": "code",
   "execution_count": null,
   "id": "913e0335-1dca-42ee-b74a-635c3e475853",
   "metadata": {},
   "outputs": [],
   "source": [
    "# Create a grid of x and y values\n",
    "x = np.linspace(-10, 10, 400)\n",
    "y = np.linspace(-10, 10, 400)\n",
    "X, Y = np.meshgrid(x, y)\n",
    "\n",
    "# Calculate Z values on the grid\n",
    "Z = f((X, Y), a=4, b=10)  # You can adjust the values of a and b\n",
    "\n",
    "# Plotting the 3D surface\n",
    "fig = plt.figure()\n",
    "ax = fig.add_subplot(111, projection='3d')\n",
    "\n",
    "# Create the surface plot\n",
    "ax.plot_surface(X, Y, Z, cmap='viridis')\n",
    "\n",
    "# Add labels and a title\n",
    "ax.set_xlabel('X axis')\n",
    "ax.set_ylabel('Y axis')\n",
    "ax.set_zlabel('Z axis')\n",
    "ax.set_title('Surface Plot of the Function $f(x)=x^2-a*x-xy+b*y+4*y^2$')\n",
    "\n",
    "# Show the plot\n",
    "plt.show()"
   ]
  },
  {
   "cell_type": "markdown",
   "id": "134b511f-7391-47e2-9a95-975584d0c380",
   "metadata": {},
   "source": [
    "### Flory-Huggins Equation\n",
    "\n",
    "The Flory-Huggins equation describes the Gibbs free energy of mixing for polymer solutions. The equation is given by:\n",
    "\n",
    "$\n",
    "\\Delta G_m = RT\\left( \\frac{\\phi_1}{n} \\ln \\phi_1 + \\phi_2 \\ln \\phi_2 + \\chi \\phi_1 \\phi_2 \\right)\n",
    "$\n",
    "\n",
    "### Parameters:\n",
    "\n",
    "- $\\Delta G_m$: Gibbs free energy of mixing per mole of solution.\n",
    "- $R$: Gas constant (8.314 J/mol/K).\n",
    "- $T$: Temperature in Kelvin.\n",
    "- $\\phi_1$: Volume fraction of the polymer.\n",
    "- $\\phi_2$: Volume fraction of the solvent: ($\\phi_2 = 1 - \\phi_1$).\n",
    "- $\\chi$: Flory-Huggins interaction parameter.\n",
    "- $n$: Number of monomer units in the polymer chain.\n",
    "\n",
    "### Description:\n",
    "\n",
    "The Flory-Huggins equation models the free energy change associated with mixing a polymer (with \\( n \\) monomer units) with a solvent. The equation takes into account the entropy of mixing, which is reduced for large polymer chains, and the enthalpic interactions between the polymer and solvent, described by the interaction parameter $chi$. The term $\\frac{\\phi_1}{n} \\ln \\phi_1$ reflects the reduced entropy of mixing for polymers compared to small molecules."
   ]
  },
  {
   "cell_type": "code",
   "execution_count": null,
   "id": "7791b14b-9204-43ed-933f-867daec5c517",
   "metadata": {},
   "outputs": [],
   "source": [
    "import numpy as np\n",
    "from scipy.optimize import minimize_scalar\n",
    "from scipy.constants import R\n",
    "import matplotlib.pyplot as plt\n",
    "\n",
    "# Given constants\n",
    "T = 298.15  # K (Room temperature)\n",
    "chi = -0.5  # Flory-Huggins interaction parameter \n",
    "n = 1000  # Number of monomer units in the polymer\n",
    "\n",
    "# Flory-Huggins free energy of mixing function\n",
    "def flory_huggins(phi1):\n",
    "    phi2 = 1 - phi1\n",
    "    if phi1 == 0 or phi2 == 0:\n",
    "        return np.inf  # Avoid log(0)\n",
    "    return (R * T ) * (phi1/n * np.log(phi1) + phi2 * np.log(phi2) + chi * phi1 * phi2)\n",
    "\n",
    "# Use minimize_scalar to find the volume fraction that minimizes the free energy\n",
    "result = minimize_scalar(flory_huggins, bounds=(0, 1), method='bounded') # lets use bounds to avoid problems with ln\n",
    "print(result)\n",
    "\n",
    "# Extract the optimal volume fraction and the minimum free energy, of course this can be done analytically\n",
    "phi1_opt = result.x\n",
    "min_free_energy = result.fun\n",
    "\n"
   ]
  },
  {
   "cell_type": "code",
   "execution_count": null,
   "id": "a29435a0-67b6-47b3-aec2-70de5d76b783",
   "metadata": {},
   "outputs": [],
   "source": [
    "# Display the optimal volume fraction and minimum free energy\n",
    "print(f\"The optimal volume fraction φ1 is {phi1_opt:.4f}\")\n",
    "print(f\"The minimum Gibbs free energy of mixing is {min_free_energy:.4f} J/mol\")\n",
    "\n",
    "# Plotting the free energy of mixing as a function of φ1\n",
    "phi1_values = np.linspace(0.01, 0.99, 500)\n",
    "free_energy_values = [flory_huggins(phi1) for phi1 in phi1_values]\n",
    "\n",
    "plt.figure(figsize=(8, 5))\n",
    "plt.plot(phi1_values, free_energy_values, label='ΔGm(φ1)', color='blue')\n",
    "plt.scatter([phi1_opt], [min_free_energy], color='red', zorder=5, label=f'Minimum at φ1={phi1_opt:.4f}')\n",
    "plt.xlabel('Volume Fraction of Polymer, φ1')\n",
    "plt.ylabel('Gibbs Free Energy of Mixing, ΔGm (J/mol)')\n",
    "plt.title('Flory-Huggins Free Energy of Mixing')\n",
    "plt.legend()\n",
    "plt.grid(True)\n",
    "plt.show()\n"
   ]
  },
  {
   "cell_type": "markdown",
   "id": "5323b3de-e8c4-4ab5-b520-c0581e4491b6",
   "metadata": {},
   "source": [
    "### Fourier Series Expansion"
   ]
  },
  {
   "cell_type": "code",
   "execution_count": null,
   "id": "95a5f773-0a53-4634-8f7a-cb8bd57c6a30",
   "metadata": {},
   "outputs": [],
   "source": [
    "import numpy as np\n",
    "import matplotlib.pyplot as plt\n",
    "\n",
    "# Define the number of sample points and sample spacing\n",
    "num_points = 500   # Number of points\n",
    "sample_spacing = 0.01  # Time interval between samples\n",
    "\n",
    "# Generate a time array\n",
    "time = np.linspace(0.0, num_points * sample_spacing, num_points)\n",
    "\n",
    "# Create a sample signal with two frequencies for demonstration (e.g., a mix of two sine waves)\n",
    "frequency1 = 5    # 5 Hz component\n",
    "frequency2 = 20   # 20 Hz component\n",
    "signal = (np.sin(2 * np.pi * frequency1 * time) + 0.5 * np.sin(2 * np.pi * frequency2 * time)) * np.exp(-time)\n",
    "\n",
    "# Perform the Fourier Transform\n",
    "fft_values = np.fft.fft(signal)\n",
    "frequencies = np.fft.fftfreq(num_points, sample_spacing)\n",
    "\n",
    "# Plot the original signal\n",
    "plt.figure()\n",
    "plt.plot(time, signal)\n",
    "plt.title(\"Original Signal in Time Domain\")\n",
    "plt.xlabel(\"Time [s]\")\n",
    "plt.ylabel(\"Amplitude\")\n",
    "plt.show()\n",
    "\n",
    "# Plot the magnitude of the Fourier Transform\n",
    "plt.figure()\n",
    "plt.plot(frequencies[:num_points // 2], np.abs(fft_values[:num_points // 2]))  # Only plot positive frequencies\n",
    "plt.title(\"Fourier Transform in Frequency Domain\")\n",
    "plt.xlabel(\"Frequency [Hz]\")\n",
    "plt.ylabel(\"Magnitude\")\n",
    "plt.show()"
   ]
  },
  {
   "cell_type": "code",
   "execution_count": null,
   "id": "dc11521e-3ea9-4288-8f1d-0aecce0c6ba2",
   "metadata": {},
   "outputs": [],
   "source": []
  }
 ],
 "metadata": {
  "kernelspec": {
   "display_name": "Python 3 (ipykernel)",
   "language": "python",
   "name": "python3"
  },
  "language_info": {
   "codemirror_mode": {
    "name": "ipython",
    "version": 3
   },
   "file_extension": ".py",
   "mimetype": "text/x-python",
   "name": "python",
   "nbconvert_exporter": "python",
   "pygments_lexer": "ipython3",
   "version": "3.11.11"
  }
 },
 "nbformat": 4,
 "nbformat_minor": 5
}
