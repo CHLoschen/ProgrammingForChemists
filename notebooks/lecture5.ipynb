{
 "cells": [
  {
   "cell_type": "markdown",
   "id": "ff7ba47b-da80-4138-a798-d17183c2cbf3",
   "metadata": {},
   "source": [
    "## NumPy & SciPy"
   ]
  },
  {
   "cell_type": "markdown",
   "id": "fffc223c-f770-460c-bc25-f95d2b5b780a",
   "metadata": {},
   "source": [
    "Computing the values for \n",
    "$ y = sin(x)$ for  10 values of x between 0 and 2$\\pi$ \n",
    "\n"
   ]
  },
  {
   "cell_type": "markdown",
   "id": "acd568f5-fccb-43e2-986a-fd494e3d7a2f",
   "metadata": {},
   "source": [
    "### Standard Python "
   ]
  },
  {
   "cell_type": "code",
   "execution_count": 6,
   "id": "88849386-93a9-4a49-8963-13afdc4c7ef0",
   "metadata": {},
   "outputs": [],
   "source": [
    "# pure python\n",
    "import math\n",
    "xvals, yvals = [],[]\n",
    "n = 4\n",
    "x = 0\n",
    "dx = 2* math.pi / (n-1) \n",
    "for i in range(n):\n",
    "    x = i *dx\n",
    "    xvals.append(x)\n",
    "    yvals.append(math.sin(x))"
   ]
  },
  {
   "cell_type": "code",
   "execution_count": 7,
   "id": "a08c8ceb-b153-4857-8b04-2fe5f92cb2e9",
   "metadata": {},
   "outputs": [
    {
     "data": {
      "text/plain": [
       "([0.0, 2.0943951023931953, 4.1887902047863905, 6.283185307179586],\n",
       " [0.0, 0.8660254037844387, -0.8660254037844384, -2.4492935982947064e-16])"
      ]
     },
     "execution_count": 7,
     "metadata": {},
     "output_type": "execute_result"
    }
   ],
   "source": [
    "xvals, yvals"
   ]
  },
  {
   "cell_type": "markdown",
   "id": "9b9bd986-15a1-4d5c-92c9-c695c1b3608d",
   "metadata": {},
   "source": [
    "### Numpy arrays\n",
    "\n",
    "A **NumPy array** is a list (1D) or grid (2D, nD) of values indexed by integers. \n",
    "It is optimized for numerical computations.\n",
    "\n",
    "- Supports **multi-dimensional** arrays (1D, 2D, etc.).\n",
    "- **Faster** than Python lists for numerical operations because it is implemented in C.\n",
    "- Supports **vectorized operations**, meaning operations apply to the entire array without explicit loops.\n",
    "\n",
    "  \n",
    "A 1D NumPy array can be thought of as a mathematical vector:\n",
    "\n",
    "$\n",
    "\\mathbf{v} = \\begin{bmatrix} 1 \\\\ 2 \\\\ 3\\\\ 4 \\\\5\\end{bmatrix}\n",
    "$\n",
    "\n",
    "In Python:\n",
    "\n",
    "```python\n",
    "import numpy as np\n",
    "\n",
    "# Define a 1D array\n",
    "vector = np.array([1, 2, 3, 4, 5])\n",
    "\n",
    "print(vector)\n",
    "# Output: [1 2 3 4 5]\n",
    "\n"
   ]
  },
  {
   "cell_type": "code",
   "execution_count": 8,
   "id": "a057b1f1-72ac-4c8e-81d0-6dbc89f32320",
   "metadata": {},
   "outputs": [
    {
     "data": {
      "text/plain": [
       "array([0.        , 0.6981317 , 1.3962634 , 2.0943951 , 2.7925268 ,\n",
       "       3.4906585 , 4.1887902 , 4.88692191, 5.58505361, 6.28318531])"
      ]
     },
     "execution_count": 8,
     "metadata": {},
     "output_type": "execute_result"
    }
   ],
   "source": [
    "# using numpy\n",
    "import numpy as np\n",
    "x = np.linspace(0,2*np.pi,10)\n",
    "x # numpy array created"
   ]
  },
  {
   "cell_type": "code",
   "execution_count": 9,
   "id": "ac239383-df46-4428-b207-6adde3de94f4",
   "metadata": {
    "scrolled": true
   },
   "outputs": [
    {
     "data": {
      "text/plain": [
       "array([ 0.00000000e+00,  6.42787610e-01,  9.84807753e-01,  8.66025404e-01,\n",
       "        3.42020143e-01, -3.42020143e-01, -8.66025404e-01, -9.84807753e-01,\n",
       "       -6.42787610e-01, -2.44929360e-16])"
      ]
     },
     "execution_count": 9,
     "metadata": {},
     "output_type": "execute_result"
    }
   ],
   "source": [
    "y = np.sin(x) # vectorized operation (no for loop!)\n",
    "y"
   ]
  },
  {
   "cell_type": "code",
   "execution_count": 10,
   "id": "c2c617d8-ac5d-4b8f-8bc5-7c2140b46354",
   "metadata": {},
   "outputs": [
    {
     "data": {
      "text/plain": [
       "<matplotlib.collections.PathCollection at 0x75cc449d6b50>"
      ]
     },
     "execution_count": 10,
     "metadata": {},
     "output_type": "execute_result"
    },
    {
     "data": {
      "image/png": "[encoded data removed]",
      "text/plain": [
       "<Figure size 640x480 with 1 Axes>"
      ]
     },
     "metadata": {},
     "output_type": "display_data"
    }
   ],
   "source": [
    "import matplotlib.pyplot as plt # we will look into matplotlib later!\n",
    "plt.scatter(x,y)"
   ]
  },
  {
   "cell_type": "code",
   "execution_count": 11,
   "id": "a406ba8c-43dc-45c7-a8ca-ca3c8bd314cb",
   "metadata": {},
   "outputs": [
    {
     "data": {
      "text/plain": [
       "array([1, 2, 3, 4, 5])"
      ]
     },
     "execution_count": 11,
     "metadata": {},
     "output_type": "execute_result"
    }
   ],
   "source": [
    "import numpy as np\n",
    "\n",
    "# Create a NumPy array\n",
    "array = np.array([1, 2, 3, 4, 5])\n",
    "array"
   ]
  },
  {
   "cell_type": "code",
   "execution_count": 12,
   "id": "4a40c4ee-8231-4f99-9fd2-ae8b8161ca6f",
   "metadata": {},
   "outputs": [
    {
     "name": "stdout",
     "output_type": "stream",
     "text": [
      "[ 1  4  9 16 25]\n"
     ]
    }
   ],
   "source": [
    "# Perform a (vectorized) operation (no for loop!)\n",
    "squared_array = array ** 2\n",
    "print(squared_array) "
   ]
  },
  {
   "cell_type": "markdown",
   "id": "0c13bf87-5d43-415a-8d6e-709bace12977",
   "metadata": {},
   "source": [
    "### Creating arrays"
   ]
  },
  {
   "cell_type": "code",
   "execution_count": 13,
   "id": "3de42f36-5c14-4ebd-b4fb-7012fb78fa83",
   "metadata": {},
   "outputs": [
    {
     "data": {
      "text/plain": [
       "array([0.        , 0.33333333, 0.66666667, 1.        ])"
      ]
     },
     "execution_count": 13,
     "metadata": {},
     "output_type": "execute_result"
    }
   ],
   "source": [
    "# Using linspace\n",
    "arr = np.linspace(start=0,stop=1,num=4)\n",
    "arr"
   ]
  },
  {
   "cell_type": "code",
   "execution_count": 14,
   "id": "7391e917-c70d-457e-aff2-a600c07ae125",
   "metadata": {},
   "outputs": [
    {
     "data": {
      "text/plain": [
       "array([1, 9, 7, 5])"
      ]
     },
     "execution_count": 14,
     "metadata": {},
     "output_type": "execute_result"
    }
   ],
   "source": [
    "# From a Python list, like a vector\n",
    "numbers = [1,9,7,5]\n",
    "arr = np.array(numbers)\n",
    "arr"
   ]
  },
  {
   "cell_type": "code",
   "execution_count": 13,
   "id": "c9531a4b-002a-47c6-aa52-e96a6fc0ee67",
   "metadata": {},
   "outputs": [
    {
     "data": {
      "text/plain": [
       "array([[1, 9, 7, 5],\n",
       "       [2, 3, 9, 8]])"
      ]
     },
     "execution_count": 13,
     "metadata": {},
     "output_type": "execute_result"
    }
   ],
   "source": [
    "# From a Python list of lists with 2 rows and 4 columns, like a matrix\n",
    "numbers = [[1,9,7,5],[2,3,9,8]]\n",
    "arr = np.array(numbers)\n",
    "arr"
   ]
  },
  {
   "cell_type": "code",
   "execution_count": 14,
   "id": "6105d156-cc87-474c-9fc6-6c7f1ce1d93b",
   "metadata": {},
   "outputs": [
    {
     "data": {
      "text/plain": [
       "array([[0., 0., 0.],\n",
       "       [0., 0., 0.]])"
      ]
     },
     "execution_count": 14,
     "metadata": {},
     "output_type": "execute_result"
    }
   ],
   "source": [
    "# creating all 0's with 2 rows and 3 columns\n",
    "arr = np.zeros((2,3))\n",
    "arr"
   ]
  },
  {
   "cell_type": "code",
   "execution_count": 15,
   "id": "12374aad-7898-4886-80e3-1e835f1c5fc2",
   "metadata": {},
   "outputs": [
    {
     "data": {
      "text/plain": [
       "array([[1., 1., 1.],\n",
       "       [1., 1., 1.]])"
      ]
     },
     "execution_count": 15,
     "metadata": {},
     "output_type": "execute_result"
    }
   ],
   "source": [
    "# creating all 1's with 2 rows and 3 columns\n",
    "arr = np.ones((2,3))\n",
    "arr"
   ]
  },
  {
   "cell_type": "markdown",
   "id": "6ff88da0-ee8a-4420-99d4-28d99997e8a6",
   "metadata": {},
   "source": [
    "### Vectorization"
   ]
  },
  {
   "cell_type": "code",
   "execution_count": null,
   "id": "4d757964-9ccb-4622-98f0-961e206a9de5",
   "metadata": {},
   "outputs": [],
   "source": [
    "arr = np.array([[1,9,7,5],[2,3,9,8]])\n",
    "arr"
   ]
  },
  {
   "cell_type": "code",
   "execution_count": null,
   "id": "c209df41-cce8-4d93-927b-558fbdc58f4b",
   "metadata": {},
   "outputs": [],
   "source": [
    "arr * 2"
   ]
  },
  {
   "cell_type": "code",
   "execution_count": null,
   "id": "48356a24-3b48-48eb-b115-d64509810475",
   "metadata": {},
   "outputs": [],
   "source": [
    "1 / arr"
   ]
  },
  {
   "cell_type": "code",
   "execution_count": null,
   "id": "56cec293-6e77-40a0-90f0-eed9104d5a0f",
   "metadata": {},
   "outputs": [],
   "source": [
    "np.log(arr)"
   ]
  },
  {
   "cell_type": "code",
   "execution_count": null,
   "id": "efe5abd4-eda7-462e-8c7d-688aabb60ad1",
   "metadata": {},
   "outputs": [],
   "source": [
    "# giving the data type of an array\n",
    "arr.dtype"
   ]
  },
  {
   "cell_type": "code",
   "execution_count": null,
   "id": "802865e6-15b8-4917-85a8-692769284b35",
   "metadata": {},
   "outputs": [],
   "source": [
    "np.log(arr).dtype"
   ]
  },
  {
   "cell_type": "markdown",
   "id": "ad4d6be2-dd0e-4c50-8074-82558b39073c",
   "metadata": {},
   "source": [
    "### Indexing "
   ]
  },
  {
   "cell_type": "code",
   "execution_count": null,
   "id": "e51179ad-c6d0-46c9-950c-fae0db0d91cc",
   "metadata": {},
   "outputs": [],
   "source": [
    "# 1D array\n",
    "arr = np.array([2,3,9,8])\n",
    "arr[1]"
   ]
  },
  {
   "cell_type": "code",
   "execution_count": null,
   "id": "01a9f16c-68f7-450d-a229-f4571f397431",
   "metadata": {},
   "outputs": [],
   "source": [
    "# 2D array\n",
    "arr = np.array([[1,9,7,5],[2,3,9,8]])\n",
    "arr[1]"
   ]
  },
  {
   "cell_type": "code",
   "execution_count": null,
   "id": "685c426f-a5af-4a99-a494-d19ffefe0a9d",
   "metadata": {},
   "outputs": [],
   "source": [
    "arr[0,2]"
   ]
  },
  {
   "cell_type": "markdown",
   "id": "cd9fdcf8-d13e-4632-92fb-4e45560756f2",
   "metadata": {},
   "source": [
    "### Reshaping"
   ]
  },
  {
   "cell_type": "code",
   "execution_count": null,
   "id": "e2878ac0-f5cd-4f4f-8d1b-df4d04b36460",
   "metadata": {},
   "outputs": [],
   "source": [
    "arr = np.array([[1,9,7,5],[2,3,9,8]])\n",
    "arr.shape # gives the shape of an array: 2 rows 4 columns"
   ]
  },
  {
   "cell_type": "code",
   "execution_count": null,
   "id": "a5085503-b55d-4ad5-bac4-df816b17ff60",
   "metadata": {},
   "outputs": [],
   "source": [
    "arr "
   ]
  },
  {
   "cell_type": "code",
   "execution_count": null,
   "id": "b7ee0061-bd46-40ef-ac36-c5d149677999",
   "metadata": {},
   "outputs": [],
   "source": [
    "arr.reshape((4,2)) # now 4 rows 2 columns"
   ]
  },
  {
   "cell_type": "markdown",
   "id": "37a8e005-7993-4921-9b05-fa95ea4efebe",
   "metadata": {},
   "source": [
    "### Slicing"
   ]
  },
  {
   "cell_type": "code",
   "execution_count": null,
   "id": "685a89b7-50aa-4c3d-94d4-40e59f39040f",
   "metadata": {},
   "outputs": [],
   "source": [
    "# Slicing\n",
    "A = np.array([[1,1,1,1],[2,2,2,2],[3,3,3,3]])\n",
    "A"
   ]
  },
  {
   "cell_type": "code",
   "execution_count": null,
   "id": "e7c02075-e9a5-41a3-9254-2b1f8e5418ef",
   "metadata": {},
   "outputs": [],
   "source": [
    "A[:2] # first two rows and all columns"
   ]
  },
  {
   "cell_type": "code",
   "execution_count": null,
   "id": "616cd84e-d990-4e2a-a6f4-5dc73a64b695",
   "metadata": {},
   "outputs": [],
   "source": [
    "A[:,:2] # all rows and first 2 columns"
   ]
  },
  {
   "cell_type": "code",
   "execution_count": null,
   "id": "cd4d5afe-c2ec-4cc6-83f3-a2670c5c9e10",
   "metadata": {},
   "outputs": [],
   "source": [
    "A[:-1,:-1] # all elements except the last row and column"
   ]
  },
  {
   "cell_type": "code",
   "execution_count": null,
   "id": "0e824817-b426-4614-8ae0-4eca60c4bc33",
   "metadata": {},
   "outputs": [],
   "source": [
    "# striding with ::\n",
    "b = np.array([1,2,3,4,5,6,7,8])\n",
    "b[::2]"
   ]
  },
  {
   "cell_type": "code",
   "execution_count": null,
   "id": "68b2d9e3-d53d-4bbf-bd52-588c2c9304ac",
   "metadata": {},
   "outputs": [],
   "source": [
    "B = A[:,1] # Slicing just creates a view\n",
    "B"
   ]
  },
  {
   "cell_type": "code",
   "execution_count": null,
   "id": "018e0ebc-e8fd-4d18-b23c-e01ba9619db0",
   "metadata": {},
   "outputs": [],
   "source": [
    "A[0,1] = 5\n",
    "A"
   ]
  },
  {
   "cell_type": "code",
   "execution_count": null,
   "id": "3cedc4f5-3302-40a2-be22-b5b84217fd85",
   "metadata": {},
   "outputs": [],
   "source": [
    "B # the element in B was also changed!"
   ]
  },
  {
   "cell_type": "markdown",
   "id": "0045c362-c623-4584-b363-08d1ee21e73e",
   "metadata": {},
   "source": [
    "### Array aggregation / summarization"
   ]
  },
  {
   "cell_type": "code",
   "execution_count": null,
   "id": "e8f85e8c-2cb7-4715-badf-fc38765836c5",
   "metadata": {},
   "outputs": [],
   "source": [
    "A = np.array([1,2,3,4,5])\n",
    "A.sum() # or np.sum(A)"
   ]
  },
  {
   "cell_type": "code",
   "execution_count": null,
   "id": "e1b041d2-b349-4f8a-a72b-3abe598de002",
   "metadata": {},
   "outputs": [],
   "source": [
    "A.mean() # or np.mean(A)"
   ]
  },
  {
   "cell_type": "code",
   "execution_count": null,
   "id": "802c24c3-4751-4049-8fe9-405b8074739b",
   "metadata": {},
   "outputs": [],
   "source": [
    "A.max() # or np.max(A)"
   ]
  },
  {
   "cell_type": "code",
   "execution_count": null,
   "id": "63ac60db-1578-4149-87d5-01889718e36c",
   "metadata": {},
   "outputs": [],
   "source": [
    "# For getting the index of the max argument\n",
    "np.argmax(A)"
   ]
  },
  {
   "cell_type": "code",
   "execution_count": null,
   "id": "b8b7fda8-189f-4d9c-9a58-1917485ea58c",
   "metadata": {},
   "outputs": [],
   "source": [
    "A = np.array([[1,3,5,7,9],[2,4,6,8,10]])\n",
    "A,np.min(A)"
   ]
  },
  {
   "cell_type": "code",
   "execution_count": null,
   "id": "e41b8cf0-78ba-4a1d-8578-a1d5f6ec95c9",
   "metadata": {},
   "outputs": [],
   "source": [
    "# For N-dimensional arrays specify the axis\n",
    "np.min(A,axis=0) # min along cols"
   ]
  },
  {
   "cell_type": "code",
   "execution_count": null,
   "id": "07730d7d-7ec5-41dc-a940-6b4503348a2b",
   "metadata": {},
   "outputs": [],
   "source": [
    "np.min(A,axis=1) # min along rows"
   ]
  },
  {
   "cell_type": "markdown",
   "id": "82a9a08c-6d60-4908-af64-bf51f91c1ddc",
   "metadata": {},
   "source": [
    "### NaN (Not a Number)"
   ]
  },
  {
   "cell_type": "code",
   "execution_count": null,
   "id": "01032cdb-926a-4d47-a60d-079eda17d362",
   "metadata": {},
   "outputs": [],
   "source": [
    "a = np.log(-1) # log shoud always be >0\n",
    "a"
   ]
  },
  {
   "cell_type": "code",
   "execution_count": null,
   "id": "dee16b7b-1f47-43e3-887f-2cd1ed20f676",
   "metadata": {},
   "outputs": [],
   "source": [
    "arr = [4,16,25,-1] # sqrt of -1 is nan here\n",
    "arr = np.sqrt(arr)"
   ]
  },
  {
   "cell_type": "code",
   "execution_count": null,
   "id": "e6d45e06-ba85-4ba0-9689-2bbe101ba041",
   "metadata": {},
   "outputs": [],
   "source": [
    "np.max(arr) # does not work!"
   ]
  },
  {
   "cell_type": "code",
   "execution_count": null,
   "id": "6774341b-4da9-4c8c-af82-1c84760c4f0d",
   "metadata": {},
   "outputs": [],
   "source": [
    "np.nanmax(arr)"
   ]
  },
  {
   "cell_type": "code",
   "execution_count": null,
   "id": "0d2737dc-0195-43eb-9c15-057e88f3c701",
   "metadata": {},
   "outputs": [],
   "source": [
    "np.nanmean(arr)"
   ]
  },
  {
   "cell_type": "code",
   "execution_count": null,
   "id": "bc656e2d-6072-4521-ab8d-9ee17b2de9b6",
   "metadata": {},
   "outputs": [],
   "source": [
    "np.isnan(a)"
   ]
  },
  {
   "cell_type": "markdown",
   "id": "58dfb8b3-0ac9-4d71-a122-6fb111027cbd",
   "metadata": {},
   "source": [
    "### Boolean arrays"
   ]
  },
  {
   "cell_type": "code",
   "execution_count": null,
   "id": "39ae528f-c9a6-4936-84d3-b985bacafa24",
   "metadata": {},
   "outputs": [],
   "source": [
    "arr = np.asarray([1 , 5, -1 , 3, -10, 0])\n",
    "arr>0"
   ]
  },
  {
   "cell_type": "code",
   "execution_count": null,
   "id": "6d4b34c8-cee9-473d-a82f-8c1456008b1e",
   "metadata": {},
   "outputs": [],
   "source": [
    "arr==5"
   ]
  },
  {
   "cell_type": "code",
   "execution_count": null,
   "id": "8150b8bf-2f71-4ecd-8059-2cb55866c7bf",
   "metadata": {},
   "outputs": [],
   "source": [
    "arr**2 > 0 "
   ]
  },
  {
   "cell_type": "code",
   "execution_count": null,
   "id": "7ffc119e-94b9-43fd-9112-9f3962a83e6a",
   "metadata": {},
   "outputs": [],
   "source": [
    "(arr > 1) & (arr <5)"
   ]
  },
  {
   "cell_type": "code",
   "execution_count": null,
   "id": "1e6ecda9-3731-4940-a316-2d3c2e4dfaff",
   "metadata": {},
   "outputs": [],
   "source": [
    "(arr < 1) | (arr >5)"
   ]
  },
  {
   "cell_type": "code",
   "execution_count": null,
   "id": "aebb1ab3-211b-4333-873f-ba9f72b9aac1",
   "metadata": {},
   "outputs": [],
   "source": [
    "~(arr == 1)"
   ]
  },
  {
   "cell_type": "code",
   "execution_count": null,
   "id": "493ca90e-14ef-4a5b-ba5c-ae412b4526b9",
   "metadata": {},
   "outputs": [],
   "source": [
    "np.sum(arr<0)  # can be summed: True = 1 False = 0"
   ]
  },
  {
   "cell_type": "markdown",
   "id": "2dcc6926-3b87-4837-a7cd-2a6948bc68bf",
   "metadata": {},
   "source": [
    "## Example Molecular Weight Distribution\n",
    "\n",
    "Assume we have a molecular weight distribution of a polymer sample e.g. polyethylene: \n",
    "\n",
    "\n",
    "| Mw$_{i}$ g/mol | mole fraction (x$_{i}$) |\n",
    "|-----------------------------|--------------------|\n",
    "| 0    - 4000                 | 0.00             |\n",
    "| 4000 - 8000                 | 0.05              |\n",
    "| 8000 - 12000                 | 0.15               |\n",
    "| 12000 - 16000                 | 0.20              |\n",
    "| 16000 - 20000                 | 0.30               |\n",
    "| 20000 - 24000                 | 0.20               |\n",
    "| 24000 - 28000                 | 0.10               |\n",
    "| 28000 - 32000                 | 0.03               |\n",
    "\n",
    "\n",
    "\n",
    "We would like to estimate: \n",
    "\n",
    "* Number Average Molecular Weight $\\overline{M}_n$:\n",
    "\n",
    "$$\n",
    "\\overline{M}_n = \\sum{x_i M_i}\n",
    "$$\n",
    "\n",
    "* Weight Average Molecular Weight $\\overline{M}_w$):\n",
    "\n",
    "$$\n",
    "\\overline{M}_w= \\frac{\\sum x_i M_i^2}{\\sum x_i M_i} \n",
    "$$\n",
    "\n",
    "* Polydispersity Index (PDI):\n",
    "\n",
    "$$\n",
    "\\text{PDI} = \\frac{\\overline{M}_w}{\\overline{M}_n}\n",
    "$$\n",
    "\n",
    "* Degree of Polymerization (DP) and the degree of polymerization from the monomer weight:\n",
    " \n",
    "$$\n",
    "\\text{DP} = \\frac{\\overline{M}_n}{M_0}\n",
    "$$\n",
    "\n",
    "where:\n",
    "- $ x_i=N_i / N_{total} $ is the mole fraction\n",
    "- $ N_i $ is the number of molecules with molecular weight $ M_i $.\n",
    "- $ M_0 $ is the molecular weight of the repeating unit (monomer), in this case 56 g/mol."
   ]
  },
  {
   "cell_type": "code",
   "execution_count": 1,
   "id": "71662749-df00-4ea6-8d82-5c83e9b80c2e",
   "metadata": {},
   "outputs": [
    {
     "name": "stdout",
     "output_type": "stream",
     "text": [
      "M: [ 2000.  6000. 10000. 14000. 18000. 22000. 26000. 30000.]\n",
      "x: [0.   0.05 0.15 0.2  0.3  0.2  0.1  0.03]\n"
     ]
    }
   ],
   "source": [
    "import numpy as np\n",
    "# Use the center of the molecular weight ranges (Mw_i)\n",
    "M = np.array([\n",
    "    (0 + 4000) / 2,\n",
    "    (4000 + 8000) / 2,\n",
    "    (8000 + 12000) / 2,\n",
    "    (12000 + 16000) / 2,\n",
    "    (16000 + 20000) / 2,\n",
    "    (20000 + 24000) / 2,\n",
    "    (24000 + 28000) / 2,\n",
    "    (28000 + 32000) / 2,\n",
    "])\n",
    "\n",
    "# Mole fractions (x_i)\n",
    "x = np.array([0.0, 0.05, 0.15, 0.20, 0.30, 0.20, 0.10, 0.03])\n",
    "\n",
    "print(\"M:\", M)\n",
    "print(\"x:\", x)"
   ]
  },
  {
   "cell_type": "code",
   "execution_count": 2,
   "id": "ef32f8bc-ced1-43d0-a0c6-0cfe5bd69585",
   "metadata": {},
   "outputs": [
    {
     "data": {
      "image/png": "[encoded data removed]",
      "text/plain": [
       "<Figure size 1000x600 with 1 Axes>"
      ]
     },
     "metadata": {},
     "output_type": "display_data"
    }
   ],
   "source": [
    "import matplotlib.pyplot as plt\n",
    "\n",
    "# Plotting the molecular weight distribution (MWD)\n",
    "plt.figure(figsize=(10, 6))\n",
    "plt.bar(M, x, width=2000, align='center', alpha=0.7, color='b')\n",
    "plt.xlabel('Molecular Weight ($Mw_i$) g/mol')\n",
    "plt.ylabel('mole fraction ($x_i$)')\n",
    "plt.title('Molecular Weight Distribution (MWD)')\n",
    "plt.grid(True)\n",
    "plt.show()"
   ]
  },
  {
   "cell_type": "markdown",
   "id": "477e8acb-9682-496d-acb4-76fdb7644071",
   "metadata": {},
   "source": [
    "### Exercise: Molecular Weight Distribution\n",
    "\n",
    "- Compute and print the weight average molecular weight $\\overline{M}_w$ using NumPy\n",
    "- Compute and print the Polydispersity index $\\text{PDI} $\n",
    "- Compute and print the degree of polymerization $\\text{DP}$\n"
   ]
  },
  {
   "cell_type": "code",
   "execution_count": 17,
   "id": "2481f6d2-ddde-4c39-8b1e-b9424831204d",
   "metadata": {},
   "outputs": [
    {
     "ename": "NameError",
     "evalue": "name 'Mw' is not defined",
     "output_type": "error",
     "traceback": [
      "\u001b[0;31m---------------------------------------------------------------------------\u001b[0m",
      "\u001b[0;31mNameError\u001b[0m                                 Traceback (most recent call last)",
      "Cell \u001b[0;32mIn[17], line 3\u001b[0m\n\u001b[1;32m      1\u001b[0m \u001b[38;5;66;03m# Computing Mn and Mw\u001b[39;00m\n\u001b[1;32m      2\u001b[0m Mn \u001b[38;5;241m=\u001b[39m np\u001b[38;5;241m.\u001b[39msum(x\u001b[38;5;241m*\u001b[39mM)\n\u001b[0;32m----> 3\u001b[0m \u001b[43mMw\u001b[49m \u001b[38;5;66;03m# <- compute the weight average Mw here using numpy\u001b[39;00m\n\u001b[1;32m      4\u001b[0m \u001b[38;5;28mprint\u001b[39m(\u001b[38;5;124mf\u001b[39m\u001b[38;5;124m\"\u001b[39m\u001b[38;5;124mMn: \u001b[39m\u001b[38;5;132;01m{\u001b[39;00mMn\u001b[38;5;132;01m:\u001b[39;00m\u001b[38;5;124m.1f\u001b[39m\u001b[38;5;132;01m}\u001b[39;00m\u001b[38;5;124m g/mol and Mw: \u001b[39m\u001b[38;5;132;01m{\u001b[39;00mMw\u001b[38;5;132;01m:\u001b[39;00m\u001b[38;5;124m.1f\u001b[39m\u001b[38;5;132;01m}\u001b[39;00m\u001b[38;5;124m g(mol\u001b[39m\u001b[38;5;124m\"\u001b[39m)\n",
      "\u001b[0;31mNameError\u001b[0m: name 'Mw' is not defined"
     ]
    }
   ],
   "source": [
    "# Computing Mn and Mw\n",
    "Mn = np.sum(x*M)\n",
    "Mw # <- compute the weight average Mw here using numpy\n",
    "print(f\"Mn: {Mn:.1f} g/mol and Mw: {Mw:.1f} g(mol\")"
   ]
  },
  {
   "cell_type": "code",
   "execution_count": null,
   "id": "14911d69-939a-4bbe-945b-2f446c9868d9",
   "metadata": {},
   "outputs": [],
   "source": [
    "\n",
    "PDI # <- Computing the polydispersity \n",
    "print(f\"Polydispersity index: {PDI:.1f}\")"
   ]
  },
  {
   "cell_type": "code",
   "execution_count": null,
   "id": "b5e2d1f3",
   "metadata": {},
   "outputs": [],
   "source": [
    "DP # <- Computing the degree of polymerization \n",
    "print(f\"Degree of polymerization: {DP:.1f}\")    "
   ]
  },
  {
   "cell_type": "markdown",
   "id": "305984a4-3698-4718-bd7f-f2fdaeaf8bdd",
   "metadata": {},
   "source": [
    "### Plotting with Matplotlib\n",
    "\n",
    "In matplotlib, one can often use either Python's lists or NumPy's arrays.  \n",
    "The plot functions can take both data types.\n",
    "It is however recommended to use arrays.\n"
   ]
  },
  {
   "cell_type": "code",
   "execution_count": 18,
   "id": "77d9729a-7939-45d6-b820-3649bd7233cc",
   "metadata": {},
   "outputs": [],
   "source": [
    "import numpy as np\n",
    "import matplotlib.pyplot as plt"
   ]
  },
  {
   "cell_type": "code",
   "execution_count": 19,
   "id": "617a0f37-f95f-448d-8053-00d81ac148eb",
   "metadata": {},
   "outputs": [
    {
     "data": {
      "text/plain": [
       "[<matplotlib.lines.Line2D at 0x75cc4493f990>]"
      ]
     },
     "execution_count": 19,
     "metadata": {},
     "output_type": "execute_result"
    },
    {
     "data": {
      "image/png": "[encoded data removed]",
      "text/plain": [
       "<Figure size 640x480 with 1 Axes>"
      ]
     },
     "metadata": {},
     "output_type": "display_data"
    }
   ],
   "source": [
    "x = np.array([-5,-4,-3,-2,-1,0,1,2,3,4,5])\n",
    "y = x**3\n",
    "plt.title('Line Plot')\n",
    "plt.plot(x,y)"
   ]
  },
  {
   "cell_type": "code",
   "execution_count": 20,
   "id": "b55b10a7-39a2-46d5-9a0f-881478795907",
   "metadata": {},
   "outputs": [
    {
     "data": {
      "image/png": "[encoded data removed]",
      "text/plain": [
       "<Figure size 640x480 with 1 Axes>"
      ]
     },
     "metadata": {},
     "output_type": "display_data"
    }
   ],
   "source": [
    "plt.scatter(x, y)\n",
    "plt.title('Scatter Plot')\n",
    "plt.show()"
   ]
  },
  {
   "cell_type": "code",
   "execution_count": 21,
   "id": "7549c8de-1d5c-4c7d-99db-5442d1651eb7",
   "metadata": {},
   "outputs": [
    {
     "data": {
      "image/png": "[encoded data removed]",
      "text/plain": [
       "<Figure size 640x480 with 1 Axes>"
      ]
     },
     "metadata": {},
     "output_type": "display_data"
    }
   ],
   "source": [
    "categories = ['A', 'B', 'C']\n",
    "values = [10, 20, 15]\n",
    "plt.bar(categories, values)\n",
    "plt.title('Bar Plot')\n",
    "plt.show()"
   ]
  },
  {
   "cell_type": "code",
   "execution_count": 22,
   "id": "10c15437-e7aa-471c-862e-14e3d8c8dd71",
   "metadata": {},
   "outputs": [
    {
     "data": {
      "image/png": "[encoded data removed]",
      "text/plain": [
       "<Figure size 640x480 with 1 Axes>"
      ]
     },
     "metadata": {},
     "output_type": "display_data"
    }
   ],
   "source": [
    "data = [1, 2, 2, 3, 3, 3, 4, 4, 4, 4]\n",
    "plt.hist(data, bins=4)\n",
    "plt.title('Histogram')\n",
    "plt.show()"
   ]
  },
  {
   "cell_type": "code",
   "execution_count": 23,
   "id": "b82b3a04-4869-49d7-ab37-66d4bc3cdf0f",
   "metadata": {},
   "outputs": [
    {
     "data": {
      "image/png": "[encoded data removed]",
      "text/plain": [
       "<Figure size 640x480 with 1 Axes>"
      ]
     },
     "metadata": {},
     "output_type": "display_data"
    }
   ],
   "source": [
    "data = [[19, 27, 28, 29, 30, 31, 32, 33, 34, 35, 37, 39, 40], [10, 27, 28, 29, 50, 31, 32, 33, 34, 35, 37, 39, 40]]\n",
    "plt.boxplot(data)\n",
    "plt.title('Box Plot')\n",
    "plt.show()"
   ]
  },
  {
   "cell_type": "code",
   "execution_count": 24,
   "id": "6353ed59-c622-479b-bf75-20447a36b980",
   "metadata": {},
   "outputs": [
    {
     "data": {
      "image/png": "[encoded data removed]",
      "text/plain": [
       "<Figure size 640x480 with 1 Axes>"
      ]
     },
     "metadata": {},
     "output_type": "display_data"
    }
   ],
   "source": [
    "sizes = [30, 20, 50]\n",
    "labels = ['A', 'B', 'C']\n",
    "plt.pie(sizes, labels=labels)\n",
    "plt.title('Pie Chart')\n",
    "plt.show()"
   ]
  },
  {
   "cell_type": "code",
   "execution_count": 25,
   "id": "bd76689e-14d7-49c3-af01-3ca4914d1293",
   "metadata": {},
   "outputs": [
    {
     "data": {
      "image/png": "[encoded data removed]",
      "text/plain": [
       "<Figure size 640x480 with 2 Axes>"
      ]
     },
     "metadata": {},
     "output_type": "display_data"
    }
   ],
   "source": [
    "import numpy as np\n",
    "\n",
    "matrix_data = np.array([[1, 2, 3], [4, 5, 6], [7, 8, 9]])\n",
    "plt.imshow(matrix_data, cmap='viridis')\n",
    "plt.colorbar()\n",
    "plt.title('Heatmap')\n",
    "plt.show()"
   ]
  },
  {
   "cell_type": "markdown",
   "id": "91b06af2-5191-4a2c-bbef-5a1f8cdf8b0c",
   "metadata": {},
   "source": [
    "## Example: First order decay reaction\n",
    "\n",
    "A first order reaction is a reaction where the rate depends on the concentration of the reactant at time $t$.\n",
    "Examples include:\n",
    "- Decomposition of a single reactant\n",
    "- Nuclear decay\n",
    "\n",
    "The rate of a first order reaction is given by:\n",
    "\n",
    "#### Rate Law\n",
    "$ \\frac{d[A]}{dt} = k[A] $\n",
    "\n",
    "with $k$ being the rate constant and $[A]$ being the concentration of the reactant at time $t$.\n",
    "\n",
    "Solving this differential equation gives the integrated rate law:\n",
    "\n",
    "$ [A] = [A]_0 e^{-kt} $\n",
    "\n",
    "### Exercise: First order decay reaction\n",
    "\n",
    "- Compute the concentration at time t for the first plot using numpy `np.exp` function\n",
    "- Compute the concentration of the reactant at time $t$ for different rate constants\n",
    "- Plot the concentration vs time for different rate constants\n",
    "- (Bonus) Plot the concentration vs time for different initial concentrations  \n",
    "\n",
    "- (Bonus) Determine the half-life of the reaction by iterating over the time vector and finding the time when the concentration is half of the initial concentration (Note: usually this is not done numerically but analytically, i.e. by directly solving the integrated rate law for $t_{1/2}$)\n"
   ]
  },
  {
   "cell_type": "code",
   "execution_count": 6,
   "id": "a59bd52d-a740-4d51-8886-6da34e7d86ec",
   "metadata": {},
   "outputs": [
    {
     "data": {
      "text/plain": [
       "array([ 0.        ,  0.52631579,  1.05263158,  1.57894737,  2.10526316,\n",
       "        2.63157895,  3.15789474,  3.68421053,  4.21052632,  4.73684211,\n",
       "        5.26315789,  5.78947368,  6.31578947,  6.84210526,  7.36842105,\n",
       "        7.89473684,  8.42105263,  8.94736842,  9.47368421, 10.        ])"
      ]
     },
     "execution_count": 6,
     "metadata": {},
     "output_type": "execute_result"
    }
   ],
   "source": [
    "# define the initial concentration and the rate constant\n",
    "A0, k = 10, 0.5\n",
    "# define the time vector from 0 to 10 seconds in 20 steps\n",
    "t = np.linspace(0,10,20)\n",
    "t"
   ]
  },
  {
   "cell_type": "code",
   "execution_count": 7,
   "id": "d6a97b00-578a-4592-bb12-a12d5be887e2",
   "metadata": {},
   "outputs": [],
   "source": [
    "# compute the concentration at time t\n",
    "A # <- compute the concentration at time t here"
   ]
  },
  {
   "cell_type": "code",
   "execution_count": 8,
   "id": "f947306f-9671-4c8c-951c-7ff1c411831d",
   "metadata": {},
   "outputs": [
    {
     "data": {
      "text/plain": [
       "Text(0, 0.5, '[A] / mol.dm^-3')"
      ]
     },
     "execution_count": 8,
     "metadata": {},
     "output_type": "execute_result"
    },
    {
     "data": {
      "image/png": "[encoded data removed]",
      "text/plain": [
       "<Figure size 640x480 with 1 Axes>"
      ]
     },
     "metadata": {},
     "output_type": "display_data"
    }
   ],
   "source": [
    "# plot the concentration vs time\n",
    "plt.plot(t,A,c='m',lw=1, ls=':', marker='o')\n",
    "plt.xlabel('t/s')\n",
    "plt.ylabel('[A] / mol.dm^-3')"
   ]
  },
  {
   "cell_type": "code",
   "execution_count": 10,
   "id": "8c21ea52-74ee-4d8a-96dd-95dcc9733481",
   "metadata": {},
   "outputs": [
    {
     "name": "stderr",
     "output_type": "stream",
     "text": [
      "/tmp/ipykernel_511755/454111363.py:12: UserWarning: No artists with labels found to put in legend.  Note that artists whose label start with an underscore are ignored when legend() is called with no argument.\n",
      "  plt.legend()\n"
     ]
    },
    {
     "data": {
      "text/plain": [
       "<matplotlib.legend.Legend at 0x744c940121a0>"
      ]
     },
     "execution_count": 10,
     "metadata": {},
     "output_type": "execute_result"
    },
    {
     "data": {
      "image/png": "[encoded data removed]",
      "text/plain": [
       "<Figure size 640x480 with 1 Axes>"
      ]
     },
     "metadata": {},
     "output_type": "display_data"
    }
   ],
   "source": [
    "# plot the concentration vs time for different rate constants\n",
    "A0 = 10\n",
    "rate_constants = [0.2, 0.4 ,2] # define the rate constants\n",
    "t = np.linspace(0,20,15)\n",
    "\n",
    "# <- loop over the rate constants with a for loop\n",
    "    # <- compute the concentration at time t\n",
    "    # plot the concentration vs time    \n",
    "    # plt.plot(t,A,lw=1, ls=':',  marker='o', label=f\"k={k} s-1\")\n",
    "plt.xlabel('t/s')\n",
    "plt.ylabel('[A] / mol.dm^-3')\n",
    "plt.legend()"
   ]
  },
  {
   "cell_type": "markdown",
   "id": "abb25b7c-68d0-4305-8899-c41dd5400bc3",
   "metadata": {},
   "source": [
    "## Review: Vectors, Matrices and Linear Algebra"
   ]
  },
  {
   "cell_type": "markdown",
   "id": "fec42b9d-22bb-44a9-9aae-764a3acf8018",
   "metadata": {},
   "source": [
    "### Vector Addition\n",
    "If **a** and **b** are vectors, their addition is given by:\n",
    "$ \\mathbf{a} + \\mathbf{b} = \\begin{bmatrix} a_1 \\\\ a_2 \\\\ a_3 \\end{bmatrix} + \\begin{bmatrix} b_1 \\\\ b_2 \\\\ b_3 \\end{bmatrix} = \\begin{bmatrix} a_1 + b_1 \\\\ a_2 + b_2 \\\\ a_3 + b_3 \\end{bmatrix} $\n",
    "\n",
    "### Vector Subtraction\n",
    "If **a** and **b** are vectors, their subtraction is given by:\n",
    "$ \\mathbf{a} - \\mathbf{b} = \\begin{bmatrix} a_1 \\\\ a_2 \\\\ a_3 \\end{bmatrix} - \\begin{bmatrix} b_1 \\\\ b_2 \\\\ b_3 \\end{bmatrix} = \\begin{bmatrix} a_1 - b_1 \\\\ a_2 - b_2 \\\\ a_3 - b_3 \\end{bmatrix} $\n",
    "\n",
    "### Scalar Multiplication\n",
    "If **a** is a vector and **c** is a scalar, their multiplication is given by:\n",
    "$ c \\mathbf{a} = c \\begin{bmatrix} a_1 \\\\ a_2 \\\\ a_3 \\end{bmatrix} = \\begin{bmatrix} c a_1 \\\\ c a_2 \\\\ c a_3 \\end{bmatrix} $\n",
    "\n",
    "### Element-wise (Hadamard) Multiplication\n",
    "If **a** and **b** are vectors, their element-wise multiplication is given by:\n",
    "$ \\mathbf{a} \\circ \\mathbf{b} = \\begin{bmatrix} a_1 \\\\ a_2 \\\\ a_3 \\end{bmatrix} \\circ \\begin{bmatrix} b_1 \\\\ b_2 \\\\ b_3 \\end{bmatrix} = \\begin{bmatrix} a_1 b_1 \\\\ a_2 b_2 \\\\ a_3 b_3 \\end{bmatrix} $\n",
    "\n",
    "\n",
    "### Dot Product\n",
    "If **a** and **b** are vectors, their dot product is given by:\n",
    "$ \\mathbf{a} \\cdot \\mathbf{b} = a_1 b_1 + a_2 b_2 + a_3 b_3 $\n",
    "\n",
    "### Cross Product\n",
    "If **a** and **b** are vectors, their cross product is given by:\n",
    "$ \\mathbf{a} \\times \\mathbf{b} =  \\begin{bmatrix}\n",
    "a_2 b_3 - a_3 b_2 \\\\\n",
    "a_3 b_1 - a_1 b_3 \\\\\n",
    "a_1 b_2 - a_2 b_1\n",
    "\\end{bmatrix} $\n"
   ]
  },
  {
   "cell_type": "code",
   "execution_count": null,
   "id": "1e0f7aa9-2d74-4f45-9364-c3c0a7f9dd5f",
   "metadata": {},
   "outputs": [],
   "source": [
    "a = np.array([4,0,8])\n",
    "b = np.array([-2,1,3])\n",
    "a+b # vector addition: a+b=[4-2,0+1,8+3]"
   ]
  },
  {
   "cell_type": "code",
   "execution_count": null,
   "id": "69b83c68-0aa6-4898-9e6e-d20f6c214e10",
   "metadata": {},
   "outputs": [],
   "source": [
    "a-b # vector subtraction: a-b=[4--2,0-1,8-3]"
   ]
  },
  {
   "cell_type": "code",
   "execution_count": null,
   "id": "b0fd96cc-fc37-462f-a3d2-aa2aab4cebb1",
   "metadata": {},
   "outputs": [],
   "source": [
    "a*b # element wise multiplication: a*b=[4*-2,0*1,8*3]"
   ]
  },
  {
   "cell_type": "code",
   "execution_count": null,
   "id": "dcf4352f-c91e-4cf9-926d-aeb348ec7f66",
   "metadata": {},
   "outputs": [],
   "source": [
    "c = 5 # scalar multiplication: c*a=[5*4,5*0,5*8]\n",
    "c * a"
   ]
  },
  {
   "cell_type": "code",
   "execution_count": null,
   "id": "3c1421f0-8bf9-4951-ae46-f22563458cb9",
   "metadata": {},
   "outputs": [],
   "source": [
    "a@b # dot product: a@b=4*-2 + 0*1 + 8*4 = 24"
   ]
  },
  {
   "cell_type": "code",
   "execution_count": null,
   "id": "840c12c5-2e90-4c47-a8df-f059dcd07c9f",
   "metadata": {},
   "outputs": [],
   "source": [
    "a.dot(b)"
   ]
  },
  {
   "cell_type": "markdown",
   "id": "500c886b-ad55-411f-bfe5-5fa8d1f710b9",
   "metadata": {},
   "source": [
    "### Row and column vectors\n"
   ]
  },
  {
   "cell_type": "code",
   "execution_count": null,
   "id": "e98fb191-77e8-4676-abb2-72f7d7d09599",
   "metadata": {},
   "outputs": [],
   "source": [
    "v_1D = np.array([1,2,3,4])\n",
    "# shape: 4 entries\n",
    "v_1D.shape "
   ]
  },
  {
   "cell_type": "code",
   "execution_count": null,
   "id": "ee4c3694-7d3a-4534-bf20-336e78a1d8b4",
   "metadata": {},
   "outputs": [],
   "source": [
    "# Creating a 2D row vector\n",
    "v_row = np.array([[1, 2, 3, 4]])\n",
    " # shape: 1 row and 4 columns\n",
    "v_row.shape"
   ]
  },
  {
   "cell_type": "code",
   "execution_count": null,
   "id": "04225558-a1bf-4502-ad69-1b2fa2eb3ca6",
   "metadata": {},
   "outputs": [],
   "source": [
    "# Creating a column vector\n",
    "v_column = np.array([[1], [2], [3], [4]])\n",
    "v_column"
   ]
  },
  {
   "cell_type": "code",
   "execution_count": null,
   "id": "67882c0d-5005-4273-a317-8d27602689e3",
   "metadata": {},
   "outputs": [],
   "source": [
    "v_column.shape"
   ]
  },
  {
   "cell_type": "code",
   "execution_count": null,
   "id": "2913a21f-3bb5-41b7-9ca7-8adbc3c4c6f0",
   "metadata": {},
   "outputs": [],
   "source": [
    "v_column.T"
   ]
  },
  {
   "cell_type": "markdown",
   "id": "57d3118e-b7c6-4b25-b61e-c6262eff8bd4",
   "metadata": {},
   "source": [
    "### Matrices"
   ]
  },
  {
   "cell_type": "code",
   "execution_count": null,
   "id": "de09f327-200d-4b58-b2ec-510abf1857bf",
   "metadata": {},
   "outputs": [],
   "source": [
    "# creation of a matrix from a list of lists\n",
    "M = np.array([[1,2,3],[4,5,6],[7,8,9]])\n",
    "M"
   ]
  },
  {
   "cell_type": "code",
   "execution_count": null,
   "id": "f1832476-5aa0-4f90-9b74-93999c7d09f9",
   "metadata": {},
   "outputs": [],
   "source": [
    "# creation from reshaping a 1D array:\n",
    "M = np.array([1,2,3,4,5,6,7,8,9])\n",
    "M.reshape((3,3))"
   ]
  },
  {
   "cell_type": "code",
   "execution_count": null,
   "id": "f2f45281-27b4-416f-bfd5-de8db692fc0f",
   "metadata": {},
   "outputs": [],
   "source": [
    "# so-called identity matrix\n",
    "np.eye(3)"
   ]
  },
  {
   "cell_type": "markdown",
   "id": "89c62f2a-0c58-4c64-9297-3ef0073d9619",
   "metadata": {},
   "source": [
    "### Tensors"
   ]
  },
  {
   "cell_type": "code",
   "execution_count": null,
   "id": "0df2df71-0566-4e9c-804e-8814e0c59bca",
   "metadata": {},
   "outputs": [],
   "source": [
    "# 3-dimensional Tensor\n",
    "tensor_3d = np.array([\n",
    "    [\n",
    "        [1, 2],\n",
    "        [3, 4]\n",
    "    ],\n",
    "    [\n",
    "        [5, 6],\n",
    "        [7, 8]\n",
    "    ]\n",
    "])\n",
    "print(\"3D Tensor:\\n\", tensor_3d)"
   ]
  },
  {
   "cell_type": "code",
   "execution_count": null,
   "id": "6f2f272b-ef39-45e8-b009-bfe06ef55553",
   "metadata": {},
   "outputs": [],
   "source": [
    "tensor_3d.shape"
   ]
  },
  {
   "cell_type": "markdown",
   "id": "e23689d7-a257-4f09-8c71-1f5868d72cb6",
   "metadata": {},
   "source": [
    "### Vector Matrix Multiplication\n",
    "\n",
    "Each element of the resulting vector is calculated as the dot product of the corresponding row of the matrix and the vector:  \n",
    "\n",
    "$\n",
    "\\mathbf{A} \\mathbf{v} = \\begin{bmatrix}\n",
    "1 & 4 & 7 \\\\\n",
    "2 & 5 & 8\n",
    "\\end{bmatrix}\n",
    "\\begin{bmatrix}\n",
    "1 \\\\\n",
    "2 \\\\\n",
    "3\n",
    "\\end{bmatrix}\n",
    "$\n",
    "\n",
    "$\n",
    "\\begin{bmatrix}\n",
    "(1 \\cdot 1) + (4 \\cdot 2) + (7 \\cdot 3) \\\\\n",
    "(2 \\cdot 1) + (5 \\cdot 2) + (8 \\cdot 3)\n",
    "\\end{bmatrix}\n",
    "$\n",
    "\n",
    "Performing the calculations:\n",
    "\n",
    "$\n",
    "\\begin{bmatrix}\n",
    "1 + 8 + 21 \\\\\n",
    "2 + 10 + 24\n",
    "\\end{bmatrix}\n",
    "= \\begin{bmatrix}\n",
    "30 \\\\\n",
    "36\n",
    "\\end{bmatrix}\n",
    "$"
   ]
  },
  {
   "cell_type": "code",
   "execution_count": null,
   "id": "e4f10405-f325-4c9a-a039-dd57a4315ee1",
   "metadata": {},
   "outputs": [],
   "source": [
    "# Define the vector and the matrix\n",
    "v = np.array([1, 2, 3])\n",
    "A = np.array([\n",
    "    [1, 4, 7],\n",
    "    [2, 5, 8]\n",
    "])\n",
    "A,v"
   ]
  },
  {
   "cell_type": "code",
   "execution_count": null,
   "id": "7667bfd2-2c81-4a56-8b04-f86642bb290f",
   "metadata": {},
   "outputs": [],
   "source": [
    "\n",
    "# Perform the multiplication\n",
    "u = np.dot(A, v)\n",
    "u"
   ]
  },
  {
   "cell_type": "markdown",
   "id": "daf98557-5c64-44ad-b1e2-09ea179d081a",
   "metadata": {},
   "source": [
    "### Linear Algebra functions\n",
    "\n",
    "Calculating with matrices and vectors"
   ]
  },
  {
   "cell_type": "code",
   "execution_count": null,
   "id": "ae9806ad-1062-406e-b062-13cf72f79a86",
   "metadata": {},
   "outputs": [],
   "source": [
    "# magnitude of a vector\n",
    "a = np.array([1,2])\n",
    "np.linalg.norm(a) # sqrt(1^2+2^2)"
   ]
  },
  {
   "cell_type": "code",
   "execution_count": null,
   "id": "1f33d245-7f5f-4ee5-bcf6-dfa1991d9537",
   "metadata": {},
   "outputs": [],
   "source": [
    "A = np.array([[2,0,-1],[-2,0,2],[1,-1,0]])\n",
    "A"
   ]
  },
  {
   "cell_type": "code",
   "execution_count": null,
   "id": "5df9b995-bb9c-4ce3-a14c-9d373c1bd109",
   "metadata": {},
   "outputs": [],
   "source": [
    "# inverse of a matrix\n",
    "B = np.linalg.inv(A)\n",
    "B"
   ]
  },
  {
   "cell_type": "code",
   "execution_count": null,
   "id": "7b212f9a-f1f1-4426-ba08-b6d50cd80b94",
   "metadata": {},
   "outputs": [],
   "source": [
    "B.dot(A)"
   ]
  },
  {
   "cell_type": "markdown",
   "id": "c200f3ec-6842-4e24-8d79-86d227917393",
   "metadata": {},
   "source": [
    "### Solving a set of linear equations\n",
    "#### using a 3x3 Matrix and a Vector\n",
    "\n",
    "Consider the following system of linear equations with 3 equations and 3 unknowns $x,y,z$:\n",
    "\n",
    "$\n",
    "\\begin{align*}\n",
    "2x + 3y + z &= 1 \\\\\n",
    "4x + y + 2z &= 2 \\\\\n",
    "3x + 2y + 3z &= 3\n",
    "\\end{align*}\n",
    "$\n",
    "\n",
    "This can be represented in matrix form as:\n",
    "\n",
    "$\n",
    "\\mathbf{A} \\mathbf{x} = \\mathbf{b}\n",
    "$\n",
    "\n",
    "Where:\n",
    "\n",
    "$\n",
    "\\mathbf{A} = \\begin{bmatrix}\n",
    "2 & 3 & 1 \\\\\n",
    "4 & 1 & 2 \\\\\n",
    "3 & 2 & 3\n",
    "\\end{bmatrix}, \\quad\n",
    "\\mathbf{x} = \\begin{bmatrix}\n",
    "x \\\\\n",
    "y \\\\\n",
    "z\n",
    "\\end{bmatrix}, \\quad\n",
    "\\mathbf{b} = \\begin{bmatrix}\n",
    "1 \\\\\n",
    "2 \\\\\n",
    "3\n",
    "\\end{bmatrix}\n",
    "$\n",
    "\n",
    "We can solve this easily using linear algebra functionality in NumPy"
   ]
  },
  {
   "cell_type": "code",
   "execution_count": null,
   "id": "265c14da-d984-435c-bc55-97e6bc7f6ad9",
   "metadata": {},
   "outputs": [],
   "source": [
    "A = np.array([\n",
    "    [2, 3, 1],\n",
    "    [4, 1, 2],\n",
    "    [3, 2, 3]\n",
    "])\n",
    "\n",
    "# Define the vector b\n",
    "b = np.array([1, 2, 3])\n",
    "\n",
    "# Solve for x using numpy.linalg.solve\n",
    "x = np.linalg.solve(A, b)\n",
    "x"
   ]
  },
  {
   "cell_type": "markdown",
   "id": "b8cf3fc7-9161-4a47-a36b-1a5dc9729ce0",
   "metadata": {},
   "source": [
    "### Eigenvalues and vectors"
   ]
  },
  {
   "cell_type": "code",
   "execution_count": null,
   "id": "2d3fb48b-2556-482f-8e1e-f77b173bf335",
   "metadata": {},
   "outputs": [],
   "source": [
    "A = np.array([[1,2],[3,0]])\n",
    "A"
   ]
  },
  {
   "cell_type": "code",
   "execution_count": null,
   "id": "d719058d-7370-49c9-b96d-1c64bf6ed986",
   "metadata": {},
   "outputs": [],
   "source": [
    "v, P = np.linalg.eig(A) # eigenvalues v and eigenvectors P\n",
    "v, P"
   ]
  },
  {
   "cell_type": "code",
   "execution_count": null,
   "id": "52694733-9cf3-440d-b3a8-1253b37686a1",
   "metadata": {},
   "outputs": [],
   "source": [
    "P[0],P[1] # eigenvector 1 and 2"
   ]
  },
  {
   "cell_type": "code",
   "execution_count": null,
   "id": "d60ac65f-3564-48ed-9704-0770fabb0375",
   "metadata": {},
   "outputs": [],
   "source": [
    "A.dot(P)"
   ]
  },
  {
   "cell_type": "code",
   "execution_count": null,
   "id": "1229c8a9-f52f-4815-ab3a-c658b8e7ee38",
   "metadata": {},
   "outputs": [],
   "source": [
    "v * P"
   ]
  },
  {
   "cell_type": "markdown",
   "id": "2f3ba1c9-4d65-4a28-944a-50481fc3fce3",
   "metadata": {},
   "source": [
    "### Example: Balancing a redox equations\n",
    "\n",
    "Oxidation of Fe(II) to Fe(III) using an acid (pH-dependent)\n",
    "\n",
    "$$\\require{mhchem}$$\n",
    "$$\\ce{aFe^2+ + bH_2O_2 + cH+->dFe3+ + eH_2O}$$\n",
    "\n",
    "The stoichiometry and the total charge need to be balanced, leading to 4 equations:\n",
    "\n",
    "| Element | Equation       |\n",
    "|---------|----------------|\n",
    "| Fe      | a = d          |\n",
    "| H       | 2b + c = 2e    |\n",
    "| O       | 2b = e         |\n",
    "| Charge  | 2a + c = 3d  \n",
    "\n",
    "We have 5 unknowns in 4 equations, so the problem is underdetermined. We can set a = d = 1.\n",
    "\n",
    "### Set of linear equations\n",
    "\n",
    "1. $ a - d = 0 $\n",
    "2. $ 2b + c - 2e = 0 $\n",
    "3. $ 2b - e = 0 $\n",
    "4. $ 2a + c - 3d = 0$\n",
    "5. $a=1$\n",
    "\n",
    "Matrix form:\n",
    "\n",
    "$\n",
    "\\begin{pmatrix}\n",
    "1 & 0 & 0 & -1 & 0 \\\\\n",
    "0 & 2 & 1 & 0 & -2 \\\\\n",
    "0 & 2 & 0 & 0 & -1 \\\\\n",
    "2 & 0 & 1 & -3 & 0 \\\\\n",
    "1 & 0 & 0 & 0 & 0 \\\\\n",
    "\\end{pmatrix}\n",
    "\\begin{pmatrix}\n",
    "a \\\\\n",
    "b \\\\\n",
    "c \\\\\n",
    "d \\\\\n",
    "e \\\\\n",
    "\\end{pmatrix}\n",
    "=\n",
    "\\begin{pmatrix}\n",
    "0 \\\\\n",
    "0 \\\\\n",
    "0 \\\\\n",
    "0 \\\\\n",
    "1 \\\\\n",
    "\\end{pmatrix}\n",
    "$|\n",
    "    |\n",
    "   |\n"
   ]
  },
  {
   "cell_type": "code",
   "execution_count": null,
   "id": "9f88cda9-0693-4651-8a4d-7f56facdf025",
   "metadata": {},
   "outputs": [],
   "source": [
    "# Define the coefficient matrix A\n",
    "A = np.array([\n",
    "    [1, 0, 0, -1, 0],\n",
    "    [0, 2, 1, 0, -2],\n",
    "    [0, 2, 0, 0, -1],\n",
    "    [2, 0, 1, -3, 0],\n",
    "    [1, 0, 0, 0, 0]\n",
    "])\n",
    "x = np.array([0, 0, 0, 0,1])\n",
    "A,x"
   ]
  },
  {
   "cell_type": "code",
   "execution_count": null,
   "id": "4e1520c6-a515-4ecf-baec-9c0ac5ad374c",
   "metadata": {},
   "outputs": [],
   "source": [
    "r = np.linalg.solve(A,x) # scale with factor 2\n",
    "r"
   ]
  },
  {
   "cell_type": "markdown",
   "id": "bd467c2d-4ab0-439d-ab34-63e11919cdfb",
   "metadata": {},
   "source": [
    "#### Final redox equation\n",
    "\n",
    "which can be scaled with a factor of 2:  \n",
    "$$\\require{mhchem}$$\n",
    "$$\\ce{1Fe^2+ + 0.5H_2O_2 + 1H+->1Fe3+ + 1H_2O}$$  \n",
    "\n",
    "$$\\ce{2Fe^2+ + 1H_2O_2 + 2H+->2Fe3+ + 2H_2O}$$"
   ]
  },
  {
   "cell_type": "code",
   "execution_count": null,
   "id": "851c5d9e-4af4-48e1-b580-cb496698389c",
   "metadata": {},
   "outputs": [],
   "source": []
  }
 ],
 "metadata": {
  "kernelspec": {
   "display_name": "Python 3 (ipykernel)",
   "language": "python",
   "name": "python3"
  },
  "language_info": {
   "codemirror_mode": {
    "name": "ipython",
    "version": 3
   },
   "file_extension": ".py",
   "mimetype": "text/x-python",
   "name": "python",
   "nbconvert_exporter": "python",
   "pygments_lexer": "ipython3",
   "version": "3.10.13"
  }
 },
 "nbformat": 4,
 "nbformat_minor": 5
}
