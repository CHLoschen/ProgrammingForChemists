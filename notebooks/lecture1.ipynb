{
 "cells": [
  {
   "cell_type": "markdown",
   "id": "a16aa715-6517-4849-af5b-1c3a1894faaf",
   "metadata": {},
   "source": [
    "## Python Programming with Jupyter Notebooks\n",
    "\n",
    "**Import Features of Jupyter**\n",
    "\n",
    "- Interactive Data Analysis\n",
    "\n",
    "- Reproducibility\n",
    "\n",
    "- Visualization Capabilities\n",
    "\n",
    "- Mathematical equations\n",
    "\n",
    "- Documentation\n",
    "  \n",
    "- Collaboration and Sharing\n",
    "\n",
    "### Resources\n",
    "- [Official Jupyter Documentation](https://jupyter.org/)\n",
    "- [Jupyter Tutorial](https://jupyter-tutorial.readthedocs.io/de/latest/notebook/index.html)\n",
    "- [Jupyter Lab Documentation](https://jupyterlab.readthedocs.io/)\n",
    "\n",
    "\n",
    "### Essential Jupyter Shortcuts\n",
    "- `Shift + Enter`: Run cell and move to next\n",
    "- `Ctrl + Enter`: Run cell and stay\n",
    "- `A`: Insert cell above\n",
    "- `B`: Insert cell below\n",
    "- `M`: Convert to markdown\n",
    "- `Y`: Convert to code\n",
    "- `D,D`: Delete cell\n"
   ]
  },
  {
   "cell_type": "code",
   "execution_count": 1,
   "id": "621fd83d-9abe-47b5-913e-7424eedae100",
   "metadata": {},
   "outputs": [
    {
     "data": {
      "text/plain": [
       "4"
      ]
     },
     "execution_count": 1,
     "metadata": {},
     "output_type": "execute_result"
    }
   ],
   "source": [
    "a = 2+2\n",
    "a"
   ]
  },
  {
   "cell_type": "code",
   "execution_count": null,
   "id": "6ac08974-a0d7-45b8-bf27-11d2aa8c75a6",
   "metadata": {},
   "outputs": [],
   "source": [
    "print(\"sum:\",(5+3*2))"
   ]
  },
  {
   "cell_type": "code",
   "execution_count": null,
   "id": "8b7454d4-76dc-463c-971e-9c5365719ed5",
   "metadata": {},
   "outputs": [],
   "source": [
    "print(\"Hallo\")"
   ]
  },
  {
   "cell_type": "code",
   "execution_count": null,
   "id": "f9513d2d-b7a6-43a0-a20a-e20d8f8ca6d9",
   "metadata": {},
   "outputs": [],
   "source": [
    "# Installing a new library\n",
    "!pip install matplotlib"
   ]
  },
  {
   "cell_type": "code",
   "execution_count": null,
   "id": "4f2f2198-45df-4ee2-a2b7-2e6ccfd79c37",
   "metadata": {},
   "outputs": [],
   "source": [
    "from matplotlib import pyplot as plt\n",
    "import numpy as np\n",
    "\n",
    "# Generate 100 random data points along 3 dimensions\n",
    "x, y, scale = np.random.randn(3, 100)\n",
    "fig, ax = plt.subplots()\n",
    "\n",
    "# Map each onto a scatterplot we'll create with Matplotlib\n",
    "ax.scatter(x=x, y=y, c=scale, s=np.abs(scale)*500)\n",
    "ax.set(title=\"Some random data, created with JupyterLab!\")\n",
    "plt.show()"
   ]
  },
  {
   "cell_type": "markdown",
   "id": "9f81db4f",
   "metadata": {},
   "source": [
    "\n",
    "### Markdown Features in Jupyter\n",
    "\n",
    "#### Text Formatting\n",
    "- *Italics* or _italics_\n",
    "- **Bold** or __bold__\n",
    "- `code`\n",
    "\n",
    "\n",
    "#### Chemical Equations\n",
    "Using LaTeX:  \n",
    "  \n",
    "$K_c = \\frac{[C]^c[D]^d}{[A]^a[B]^b}$\n",
    "\n",
    "#### Tables\n",
    "| Molecule | Mass (g/mol) | State |\n",
    "|----------|-------------|--------|\n",
    "| H₂O      | 18.015      | liquid |\n",
    "| CO₂      | 44.009      | gas    |"
   ]
  }
 ],
 "metadata": {
  "kernelspec": {
   "display_name": "Python 3 (ipykernel)",
   "language": "python",
   "name": "python3"
  },
  "language_info": {
   "codemirror_mode": {
    "name": "ipython",
    "version": 3
   },
   "file_extension": ".py",
   "mimetype": "text/x-python",
   "name": "python",
   "nbconvert_exporter": "python",
   "pygments_lexer": "ipython3",
   "version": "3.10.13"
  }
 },
 "nbformat": 4,
 "nbformat_minor": 5
}
