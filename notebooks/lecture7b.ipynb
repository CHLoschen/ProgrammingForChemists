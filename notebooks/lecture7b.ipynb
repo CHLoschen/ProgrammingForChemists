{
 "cells": [
  {
   "cell_type": "markdown",
   "id": "fa5dcf61-7107-4181-9ea6-7f668fabc041",
   "metadata": {},
   "source": [
    "## Python Programming for Chemists\n",
    "\n",
    "## Pandas\n",
    "\n",
    "Pandas(https://pandas.pydata.org/) is a library for manipulating and analyzing tabular data.\n",
    "\n",
    "You may have to install the pandas library first:"
   ]
  },
  {
   "cell_type": "code",
   "execution_count": null,
   "id": "1378f5f4-1e2b-4e3e-85ac-11aebb9e05d1",
   "metadata": {},
   "outputs": [],
   "source": [
    "#!pip install -U pandas \n",
    "!pip install numpy==1.26.4\n"
   ]
  },
  {
   "cell_type": "code",
   "execution_count": null,
   "id": "2715562d-c3ea-4e48-8171-ad66def7c3ef",
   "metadata": {},
   "outputs": [],
   "source": [
    "import pandas as pd\n",
    "data = {\n",
    "    'Compound': ['Water', 'Ethanol', 'Acetone', 'Methanol', 'Benzene'],\n",
    "    'Molecular_Weight': [18.015, 46.068, 58.080, 32.042, 78.113],\n",
    "    'Boiling_Point_C': [100.0, 78.37, 56.05, 64.7, 80.1]\n",
    "}\n",
    "df = pd.DataFrame(data)\n",
    "df"
   ]
  },
  {
   "cell_type": "code",
   "execution_count": null,
   "id": "bebd751f-804a-4b21-badb-c5acf2d2eaaa",
   "metadata": {},
   "outputs": [],
   "source": [
    "print(\"Average Molecular Weight [g/mol]:\", df['Molecular_Weight'].mean())\n",
    "print(\"Average Boiling Point (°C):\", df['Boiling_Point_C'].mean())\n",
    "print(\"Compounds with Boiling Point >= 60°C:\")\n",
    "print(df[df['Boiling_Point_C'] >= 60])"
   ]
  },
  {
   "cell_type": "markdown",
   "id": "507e36d0-a7f1-4839-af4d-37b9656b10fa",
   "metadata": {},
   "source": [
    "#### Series"
   ]
  },
  {
   "cell_type": "code",
   "execution_count": null,
   "id": "471696bf-6900-4e9e-bcd2-012921627f77",
   "metadata": {},
   "outputs": [],
   "source": [
    "DHc = pd.Series([-890, -1560, -2220, -2878, -3537]) # can be create similar to a NumPy array\n",
    "DHc"
   ]
  },
  {
   "cell_type": "code",
   "execution_count": null,
   "id": "04d964cf",
   "metadata": {},
   "outputs": [],
   "source": [
    "DHc.values"
   ]
  },
  {
   "cell_type": "code",
   "execution_count": null,
   "id": "3d615e3c-1b0f-4ae8-99d5-0497ffc9b74e",
   "metadata": {},
   "outputs": [],
   "source": [
    "list(DHc.index) # per default the index is a RangeIndex for saving memory, can be turned into a list"
   ]
  },
  {
   "cell_type": "code",
   "execution_count": null,
   "id": "dde6089f-0c3e-4b68-bdb9-9763d85bdc94",
   "metadata": {},
   "outputs": [],
   "source": [
    "# it can be initialized with an index\n",
    "DHc = pd.Series([-890, -1560, -2220, -2878, -3537], index=[\"CH4\",\"C2H6\",\"C3H8\",\"C4H10\",\"C5H12\"])\n",
    "DHc"
   ]
  },
  {
   "cell_type": "code",
   "execution_count": null,
   "id": "319900eb-603a-4191-aae1-9e639c9e4013",
   "metadata": {},
   "outputs": [],
   "source": [
    "# it can be initialized from a dictionary\n",
    "data = {\n",
    "    \"CH4\": -890,\n",
    "    \"C2H6\": -1560,\n",
    "    \"C3H8\": -2220,\n",
    "    \"C4H10\": -2878,\n",
    "    \"C5H12\": -3537\n",
    "}\n",
    "DHc = pd.Series(data)\n",
    "DHc"
   ]
  },
  {
   "cell_type": "markdown",
   "id": "1ac5bbcc-675e-408a-8717-a38fd5c2a68c",
   "metadata": {},
   "source": [
    "#### Indexing"
   ]
  },
  {
   "cell_type": "code",
   "execution_count": null,
   "id": "e340ee58-969f-4fff-8786-57bc2f33c156",
   "metadata": {},
   "outputs": [],
   "source": [
    "DHc[\"CH4\"]"
   ]
  },
  {
   "cell_type": "code",
   "execution_count": null,
   "id": "22348c74-de00-42e1-b878-0ab0bcca143b",
   "metadata": {},
   "outputs": [],
   "source": [
    "DHc[[\"CH4\",\"C2H6\",\"C5H12\"]]"
   ]
  },
  {
   "cell_type": "code",
   "execution_count": null,
   "id": "d734b22a-0ef7-4b64-97ac-43879be517aa",
   "metadata": {},
   "outputs": [],
   "source": [
    "DHc.iloc[[0,1,4]] # iloc for (integer) location"
   ]
  },
  {
   "cell_type": "code",
   "execution_count": null,
   "id": "e0526500-5f85-4722-a909-bda15d50b7eb",
   "metadata": {},
   "outputs": [],
   "source": [
    "#DHc.loc[[0,1,4]] # please note the difference between the index position and the (integer based) position"
   ]
  },
  {
   "cell_type": "code",
   "execution_count": null,
   "id": "956e06d7-e67a-49e5-8ae2-c9aeba155bd9",
   "metadata": {},
   "outputs": [],
   "source": [
    "DHc = pd.Series([-890, -1560, -2220, -2878, -3537]) # can be create similar to a NumPy array\n",
    "DHc.loc[[0,1,4]] # loc for index location"
   ]
  },
  {
   "cell_type": "markdown",
   "id": "63944c1b-a31c-4b46-a1ba-af87eb0a5c05",
   "metadata": {},
   "source": [
    "#### Operations on Series "
   ]
  },
  {
   "cell_type": "code",
   "execution_count": null,
   "id": "4034e505-2fe9-4477-b67d-0e6b62b7d553",
   "metadata": {},
   "outputs": [],
   "source": [
    "DHc = DHc / [16,30,44,58,72]\n",
    "DHc.name = \"Enthalpy of combustion /kJ/g-1\"\n",
    "DHc"
   ]
  },
  {
   "cell_type": "code",
   "execution_count": null,
   "id": "e1536e35-06e9-4c23-af2b-e3e0a202a005",
   "metadata": {},
   "outputs": [],
   "source": [
    "abs(DHc)>50 # creates a boolean Series object"
   ]
  },
  {
   "cell_type": "code",
   "execution_count": null,
   "id": "9644103c-4199-4f8a-baa1-d1f912b7b42e",
   "metadata": {},
   "outputs": [],
   "source": [
    "DHc[abs(DHc)>50] # This can be used to index to the original series"
   ]
  },
  {
   "cell_type": "code",
   "execution_count": null,
   "id": "131bf56c-1ba4-4df0-a3e9-2325281093dc",
   "metadata": {},
   "outputs": [],
   "source": [
    "DHc.sort_values() # sorting"
   ]
  },
  {
   "cell_type": "code",
   "execution_count": null,
   "id": "74fd6b92-8724-4abf-91b8-8039eb3e6827",
   "metadata": {},
   "outputs": [],
   "source": [
    "DHc.sort_values(ascending=False)"
   ]
  },
  {
   "cell_type": "code",
   "execution_count": null,
   "id": "89ddd1d9-d4b8-43e8-be08-9d5796a07559",
   "metadata": {},
   "outputs": [],
   "source": [
    "DHc.values # to get back the NumPy array"
   ]
  },
  {
   "cell_type": "markdown",
   "id": "cb3384d2-bece-4433-8f85-6531ece179ae",
   "metadata": {},
   "source": [
    "### DataFrame\n",
    "\n",
    "A DataFrame object can be thought of a set of Series columns having the same index."
   ]
  },
  {
   "cell_type": "code",
   "execution_count": null,
   "id": "568b8b12-8f07-410b-8ec1-7f2d51704c8f",
   "metadata": {},
   "outputs": [],
   "source": [
    "import pandas as pd\n",
    "data = {\n",
    "    'SMILES': ['C', 'CCO', 'CC(=O)C', 'C1=CC=CC=C1', 'CC(=O)O'],\n",
    "    'Compound': ['Methane', 'Ethanol', 'Acetone', 'Benzene', 'Acetic Acid'],\n",
    "    'Molecular_Weight': [16.04, 46.07, 58.08, 78.11, 60.05],\n",
    "    'Melting_Point_C': [-182.5, -114.1, -95.4, 5.5, 16.6],\n",
    "    'Boiling_Point_C': [-161.5, 78.37, 56.05, 80.1, 118.1]\n",
    "}\n",
    "\n",
    "df = pd.DataFrame(data)\n",
    "df.set_index('SMILES', inplace=True)\n",
    "\n",
    "# Display the DataFrame\n",
    "print(df)\n"
   ]
  },
  {
   "cell_type": "code",
   "execution_count": null,
   "id": "5a3cd2c7-6bdc-42c8-9aeb-2158574cf17b",
   "metadata": {},
   "outputs": [],
   "source": [
    "df.index"
   ]
  },
  {
   "cell_type": "code",
   "execution_count": null,
   "id": "38c3df45-8774-4c06-a0ec-1f367d8325c7",
   "metadata": {},
   "outputs": [],
   "source": [
    "df.rename({'Compound':'Molecule','Molecular_Weight':'MW'},axis=1,inplace=True)\n",
    "df"
   ]
  },
  {
   "cell_type": "markdown",
   "id": "bfe0a6f6-ffb7-423b-965e-4c80e5bfc143",
   "metadata": {},
   "source": [
    "#### Accessing rows, columns and cells"
   ]
  },
  {
   "cell_type": "code",
   "execution_count": null,
   "id": "b1854c0b-7fbd-4a83-9c68-4f2a66999d58",
   "metadata": {},
   "outputs": [],
   "source": [
    "df[\"MW\"]"
   ]
  },
  {
   "cell_type": "code",
   "execution_count": null,
   "id": "73374cc7-ab00-491c-ac17-a08864bef064",
   "metadata": {},
   "outputs": [],
   "source": [
    "type(df[\"MW\"])"
   ]
  },
  {
   "cell_type": "code",
   "execution_count": null,
   "id": "25bae795-6589-407d-b7fd-ac3a18e6a70a",
   "metadata": {},
   "outputs": [],
   "source": [
    "df[\"MW\"][\"CCO\"] # chained indexing, is ok for getting values but not for setting values"
   ]
  },
  {
   "cell_type": "code",
   "execution_count": null,
   "id": "135989b2-cb1f-4c5c-b1d5-3005de74342d",
   "metadata": {},
   "outputs": [],
   "source": [
    "df[\"MW\"][\"CCO\"]  = 46.0"
   ]
  },
  {
   "cell_type": "code",
   "execution_count": null,
   "id": "9c0622df-78cd-49d7-a299-faed866c07a4",
   "metadata": {},
   "outputs": [],
   "source": [
    "# better use loc or iloc for setting values\n",
    "df.loc[\"CCO\"]"
   ]
  },
  {
   "cell_type": "code",
   "execution_count": null,
   "id": "199f4284-6b34-4a70-85b0-58f8847063bb",
   "metadata": {},
   "outputs": [],
   "source": [
    "df.loc[\"CCO\",\"MW\"] # use the second index for the column"
   ]
  },
  {
   "cell_type": "code",
   "execution_count": null,
   "id": "11725aa7-ca12-42c4-b2ab-d54aa61944cb",
   "metadata": {},
   "outputs": [],
   "source": [
    "df.loc[\"CCO\",\"MW\"] = 46.07"
   ]
  },
  {
   "cell_type": "code",
   "execution_count": null,
   "id": "fb5a7ed2-cb4d-426f-899f-e48b275f6709",
   "metadata": {},
   "outputs": [],
   "source": [
    "df.loc[df.MW>50] # loc can be used for indexing"
   ]
  },
  {
   "cell_type": "code",
   "execution_count": null,
   "id": "ce374b85-c84e-4119-b487-111d9b3b1ee7",
   "metadata": {},
   "outputs": [],
   "source": [
    "df.iloc[2] # iloc is used for integer/position indexing "
   ]
  },
  {
   "cell_type": "code",
   "execution_count": null,
   "id": "f2c26888-ec73-471f-9ad8-7c407a8d5f04",
   "metadata": {},
   "outputs": [],
   "source": [
    "df.iloc[1:-1] # slicing is also possible"
   ]
  },
  {
   "cell_type": "code",
   "execution_count": null,
   "id": "213a3c7c-e18b-4409-a32f-194e3146f27f",
   "metadata": {},
   "outputs": [],
   "source": [
    "df.iloc[:,1:-1] # all rows second until last-1 column"
   ]
  },
  {
   "cell_type": "code",
   "execution_count": null,
   "id": "6104b722-f708-434d-95f4-3d6bbbdd7b57",
   "metadata": {},
   "outputs": [],
   "source": [
    "df.drop(\"CCO\") # drop a row, default axis=0"
   ]
  },
  {
   "cell_type": "code",
   "execution_count": null,
   "id": "121ef655-b55f-4d3a-a463-fd7fb88394fd",
   "metadata": {},
   "outputs": [],
   "source": [
    "df.drop(\"MW\", axis=1) # drop a column, species the axis"
   ]
  },
  {
   "cell_type": "code",
   "execution_count": null,
   "id": "23848c29-7303-4c95-9b2e-25627ae3d21b",
   "metadata": {},
   "outputs": [],
   "source": [
    "# adding columns\n",
    "df[\"chemical_formula\"] = [\"CH4\", \"C2H6O\", \"C3H6O\", \"C6H6\", \"C2H4O2\"]\n",
    "df"
   ]
  },
  {
   "cell_type": "code",
   "execution_count": null,
   "id": "c54a0789-9984-48a8-81a5-80744b674292",
   "metadata": {},
   "outputs": [],
   "source": [
    "s = pd.Series({\"C\":\"CH4\",\"CCO\":\"C2H6O\",\"CC(=O)O\":\"C2H4O2\", \"CCCC\": \"C4H10\"})\n",
    "s"
   ]
  },
  {
   "cell_type": "code",
   "execution_count": null,
   "id": "2354176b-88d9-4cb0-960f-d51b33f112c9",
   "metadata": {},
   "outputs": [],
   "source": [
    "df[\"chemical_formula_new\"] = s # note how the index is used to match the entries, missing values are NaN. Note how the value for CCCC is ignored\n",
    "df"
   ]
  },
  {
   "cell_type": "code",
   "execution_count": null,
   "id": "05c79adc-dc8a-4f5a-a707-22ea7cad5ee4",
   "metadata": {},
   "outputs": [],
   "source": [
    "# DataFrames can be joined using merge or join method using the index or some common column\n",
    "data1 = {\n",
    "    'MW': [16.04, 46.07, 58.08, 78.11, 60.05],\n",
    "    'Melting_Point_C': [-182.5, -114.1, -95.4, 5.5, 16.6]\n",
    "}\n",
    "df1 = pd.DataFrame(data1,index = ['C', 'CCO', 'CC(=O)C', 'C1=CC=CC=C1', 'CC(=O)O'] )\n",
    "df1"
   ]
  },
  {
   "cell_type": "code",
   "execution_count": null,
   "id": "c81e4dc2-b895-4ddc-911d-64da7309911f",
   "metadata": {},
   "outputs": [],
   "source": [
    "data2 = {\n",
    "    'Molecule': ['Methane', 'Ethanol', 'Acetone', 'Benzene', 'Acetic Acid'],\n",
    "    'Boiling_Point_C': [-161.5, 78.37, 56.05, 80.1, 118.1],\n",
    "    'chemical_formula': ['CH4', 'C2H6O', 'C3H6O', 'C6H6', 'C2H4O2']\n",
    "}\n",
    "df2 = pd.DataFrame(data2,index=['C', 'CCO', 'CC(=O)C', 'C1=CC=CC=C1', 'CC(=O)O'])\n",
    "df2"
   ]
  },
  {
   "cell_type": "code",
   "execution_count": null,
   "id": "b6e69416-7313-4abe-8a2b-321b5989147d",
   "metadata": {},
   "outputs": [],
   "source": [
    "df1.join(df2)"
   ]
  },
  {
   "cell_type": "markdown",
   "id": "9524b59f-385b-4e84-bb08-9e8668cc49d3",
   "metadata": {},
   "source": [
    "### Large data & statistics\n",
    "\n",
    "Pandas becomes really useful for larger datasets, e.g download the following csv from github containing predicted and experimental solubility data directly into a DataFrame! \n"
   ]
  },
  {
   "cell_type": "code",
   "execution_count": null,
   "id": "ffe729b3-a14c-4097-afa0-3c8ddd1594dd",
   "metadata": {},
   "outputs": [],
   "source": [
    "import pandas as pd\n",
    "import io\n",
    "import requests\n",
    "\n",
    "url = \"https://raw.githubusercontent.com/deepchem/deepchem/refs/heads/master/datasets/delaney-processed.csv\"\n",
    "s = requests.get(url).content\n",
    "df = pd.read_csv(io.StringIO(s.decode('utf-8')))\n",
    "df"
   ]
  },
  {
   "cell_type": "code",
   "execution_count": null,
   "id": "7ab75e7d-d695-4b85-8cbf-30c1f3307945",
   "metadata": {},
   "outputs": [],
   "source": [
    "# Get basic info about the dataset\n",
    "df.info()"
   ]
  },
  {
   "cell_type": "markdown",
   "id": "9c43ccb4-1f5e-42ab-9cc4-c36d940023d6",
   "metadata": {},
   "source": [
    "#### Statistics"
   ]
  },
  {
   "cell_type": "code",
   "execution_count": null,
   "id": "37890101-b681-4190-9976-b608d28070ad",
   "metadata": {},
   "outputs": [],
   "source": [
    "# Get statistics of the numerical values\n",
    "df.describe()"
   ]
  },
  {
   "cell_type": "code",
   "execution_count": null,
   "id": "eb31e34d-aa20-4638-98a4-060598abf708",
   "metadata": {},
   "outputs": [],
   "source": [
    "import numpy as np\n",
    "df_numeric = df.select_dtypes(include=np.number)\n",
    "df_numeric"
   ]
  },
  {
   "cell_type": "code",
   "execution_count": null,
   "id": "dbe4c0e5-7366-4df4-99ad-8a3069dda319",
   "metadata": {},
   "outputs": [],
   "source": [
    "# get the average values\n",
    "df_numeric.mean()"
   ]
  },
  {
   "cell_type": "code",
   "execution_count": null,
   "id": "9a90c2f6-e688-4738-b3d7-89480cf6f6c6",
   "metadata": {},
   "outputs": [],
   "source": [
    "# get the standard deviatoin\n",
    "df_numeric.std()"
   ]
  },
  {
   "cell_type": "code",
   "execution_count": null,
   "id": "e12262bc-36bd-4a62-bd3c-1cfd289cc724",
   "metadata": {},
   "outputs": [],
   "source": [
    "# normalize the data\n",
    "df_normalized =(df_numeric-df_numeric.min())/(df_numeric.max()-df_numeric.min())"
   ]
  },
  {
   "cell_type": "code",
   "execution_count": null,
   "id": "a668e480-50e4-4931-97d2-541d8d7e41b6",
   "metadata": {},
   "outputs": [],
   "source": [
    "df_normalized.describe()"
   ]
  },
  {
   "cell_type": "markdown",
   "id": "6abbddf7-e7bd-4e34-868b-c1f5e7b46b84",
   "metadata": {},
   "source": [
    "#### Vizualisation \n"
   ]
  },
  {
   "cell_type": "code",
   "execution_count": null,
   "id": "b65c616b-a52e-47bf-96d6-736cafb5a7e4",
   "metadata": {},
   "outputs": [],
   "source": [
    "df_numeric.hist()"
   ]
  },
  {
   "cell_type": "markdown",
   "id": "379667ac-5a01-44f0-aab0-6a84ec4243a8",
   "metadata": {},
   "source": [
    "#### Vizualisation with Plotly\n",
    "!pip install plotly"
   ]
  },
  {
   "cell_type": "code",
   "execution_count": null,
   "id": "1004d1eb-07f7-4f22-813f-b594c2009fc5",
   "metadata": {},
   "outputs": [],
   "source": [
    "import plotly.express as px\n",
    "fig = px.scatter(df, x=\"measured log solubility in mols per litre\", y=\"ESOL predicted log solubility in mols per litre\")\n",
    "fig.show()"
   ]
  },
  {
   "cell_type": "code",
   "execution_count": null,
   "id": "2b375d3d-4068-4649-a8cf-0dd2955a8ebe",
   "metadata": {},
   "outputs": [],
   "source": [
    "fig = px.scatter(df, x=\"measured log solubility in mols per litre\", y=\"Molecular Weight\")\n",
    "fig.show()"
   ]
  },
  {
   "cell_type": "markdown",
   "id": "868b6fd9-355c-409c-895e-a7a2fedf0454",
   "metadata": {},
   "source": [
    "#### Metrics"
   ]
  },
  {
   "cell_type": "code",
   "execution_count": null,
   "id": "23367c6c-3f46-4707-a7ed-161705fd3b0d",
   "metadata": {},
   "outputs": [],
   "source": [
    "# Compute the absolute errors\n",
    "df['absolute_error'] = abs(df['measured log solubility in mols per litre'] - df['ESOL predicted log solubility in mols per litre'])\n",
    "\n",
    "# Compute the Mean Absolute Error (MAE)\n",
    "mae = df['absolute_error'].mean()\n",
    "\n",
    "print(f'Mean Absolute Error (MAE):{mae:.2f}')"
   ]
  },
  {
   "cell_type": "code",
   "execution_count": null,
   "id": "88e9bfc4-9191-42a7-9481-4e75d1cf8a44",
   "metadata": {},
   "outputs": [],
   "source": []
  }
 ],
 "metadata": {
  "kernelspec": {
   "display_name": "Python 3 (ipykernel)",
   "language": "python",
   "name": "python3"
  },
  "language_info": {
   "codemirror_mode": {
    "name": "ipython",
    "version": 3
   },
   "file_extension": ".py",
   "mimetype": "text/x-python",
   "name": "python",
   "nbconvert_exporter": "python",
   "pygments_lexer": "ipython3",
   "version": "3.10.13"
  }
 },
 "nbformat": 4,
 "nbformat_minor": 5
}
