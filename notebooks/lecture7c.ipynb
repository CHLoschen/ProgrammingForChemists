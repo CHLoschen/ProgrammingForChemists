{
 "cells": [
  {
   "cell_type": "markdown",
   "id": "492efa14-91e5-435c-81e1-a226e641cee1",
   "metadata": {},
   "source": [
    "## Object oriented programming"
   ]
  },
  {
   "cell_type": "markdown",
   "id": "636b4f15-5dd9-4ac0-a735-7591f5d540dd",
   "metadata": {},
   "source": [
    "### Review: Dot Operator in Python\n",
    "\n",
    "The dot (.) operator in Python is used to access attributes (variables) and methods (functions) within objects or modules.\n",
    "\n",
    "1) Accessing variables (attributes):\n",
    "\n",
    "```Python\n",
    "import math\n",
    "print(math.pi)  # Accessing the constant 'pi' from the math module\n",
    "```\n",
    "\n",
    "2) Accessing functions (methods):\n",
    "   \n",
    "```Python\n",
    "import math\n",
    "a = math.sqrt(16)  # Calling the 'sqrt' method from the math module\n",
    "```\n",
    "\n",
    "**Note**: Attributes are like variables attached to “objects”, and methods are like functions inside objects.   \n",
    "Think of objects as “meta-variables” organizing variables and functions at a single location. \n"
   ]
  },
  {
   "cell_type": "markdown",
   "id": "57cd5898-1d74-4ac3-8d08-21bfbfd96c62",
   "metadata": {},
   "source": [
    "### Creating our own objects"
   ]
  },
  {
   "cell_type": "code",
   "execution_count": null,
   "id": "abbd3ef6-1742-4a8e-aa94-125d258842d4",
   "metadata": {},
   "outputs": [],
   "source": [
    "#  class i.e. containing the rules/blue print about an so-called object\n",
    "class Car:\n",
    "    # built-in function for creating an object / initializer\n",
    "    def __init__(self, make, model, color):  \n",
    "        self.make = make        # Attribute\n",
    "        self.model = model      # Attribute\n",
    "        self.color = color      # Attribute\n",
    "\n",
    "    def start_engine(self):     # Method\n",
    "        print(f\"The {self.color} {self.make} {self.model} engine has started.\")"
   ]
  },
  {
   "cell_type": "code",
   "execution_count": null,
   "id": "3f131f1d-9c63-4f89-b9f9-78f83e62265a",
   "metadata": {},
   "outputs": [],
   "source": [
    "my_car = Car(\"Toyota\", \"Corolla\", \"red\") # this is where the object is created\n",
    "my_car.start_engine()  "
   ]
  },
  {
   "cell_type": "code",
   "execution_count": null,
   "id": "f00ebf9f-c8ed-4ad8-94f7-dd786dbef748",
   "metadata": {},
   "outputs": [],
   "source": [
    "your_car = Car(\"VW\", \"Golf\", \"yellow\") # this is where anotherobject is created\n",
    "your_car.start_engine()"
   ]
  },
  {
   "cell_type": "code",
   "execution_count": null,
   "id": "275593d7-a5c4-4a74-a512-038132e8e51e",
   "metadata": {},
   "outputs": [],
   "source": [
    "type(my_car) # shows the class"
   ]
  },
  {
   "cell_type": "code",
   "execution_count": null,
   "id": "68bc0149-fcda-4309-8794-160cfaf4de17",
   "metadata": {},
   "outputs": [],
   "source": [
    "my_car # shows the object at its place in memory"
   ]
  },
  {
   "cell_type": "markdown",
   "id": "46b91e00-a45b-4886-9446-b3b34c53a0be",
   "metadata": {},
   "source": [
    "#### Attributes"
   ]
  },
  {
   "cell_type": "code",
   "execution_count": null,
   "id": "9f370a3a-e93b-4f25-b5ba-91a2fc985158",
   "metadata": {},
   "outputs": [],
   "source": [
    "# accessing attributes\n",
    "your_car.model"
   ]
  },
  {
   "cell_type": "code",
   "execution_count": null,
   "id": "8a2e9b18-e1c9-42b6-972f-a7cb112f8a73",
   "metadata": {},
   "outputs": [],
   "source": [
    "# setting attributes\n",
    "my_car.make = \"ferrari\"\n",
    "my_car.model = \"testarossa\"\n",
    "my_car.color = \"red\"\n",
    "my_car.start_engine()"
   ]
  },
  {
   "cell_type": "code",
   "execution_count": null,
   "id": "c48ba684-3e68-46df-a312-b1fb6d1cf3e8",
   "metadata": {},
   "outputs": [],
   "source": [
    "# create and set a new attribute (not defined in the class template!!!)\n",
    "my_car.age = 10"
   ]
  },
  {
   "cell_type": "code",
   "execution_count": null,
   "id": "63e86e2b-ace4-4c74-9ae9-ac3e5ab14afe",
   "metadata": {},
   "outputs": [],
   "source": [
    "# this is only valid for the other object\n",
    "your_car.age"
   ]
  },
  {
   "cell_type": "code",
   "execution_count": null,
   "id": "5b84adf0-3129-4690-83dc-648f3ff1b38f",
   "metadata": {},
   "outputs": [],
   "source": [
    "# we can also store objects in objects\n",
    "your_car.next_car = my_car"
   ]
  },
  {
   "cell_type": "code",
   "execution_count": null,
   "id": "64762cc2-3099-4b98-ade3-1eaa0a3c5a04",
   "metadata": {},
   "outputs": [],
   "source": [
    "your_car.next_car.color = \"blue\"\n",
    "my_car.start_engine()"
   ]
  },
  {
   "cell_type": "markdown",
   "id": "aeca3d21-0654-4340-8a91-8097d12b9807",
   "metadata": {},
   "source": [
    "#### Methods / Initialization"
   ]
  },
  {
   "cell_type": "code",
   "execution_count": null,
   "id": "31225454-0d95-4a52-943e-6128dfdd7c63",
   "metadata": {},
   "outputs": [],
   "source": [
    "# __init__ is a special Python function\n",
    "class Cat:\n",
    "    def __init__(self,name):\n",
    "        self.name = name # Attribute\n",
    "    def show_name(self):\n",
    "        print(self.name)"
   ]
  },
  {
   "cell_type": "code",
   "execution_count": null,
   "id": "b5ebf0b9-5717-4384-b13f-b74961e073e8",
   "metadata": {},
   "outputs": [],
   "source": [
    "furball = Cat(\"Garfield\")"
   ]
  },
  {
   "cell_type": "code",
   "execution_count": null,
   "id": "32427bbd-6012-450b-a2d9-be6e0d056eb9",
   "metadata": {},
   "outputs": [],
   "source": [
    "furball.show_name()"
   ]
  },
  {
   "cell_type": "markdown",
   "id": "3ecfc10f-ba67-4383-b718-b69fe7190bec",
   "metadata": {},
   "source": [
    "#### Inheritance\n",
    "\n",
    "We define a parent class called `Car` and a base class called `Mini`"
   ]
  },
  {
   "cell_type": "code",
   "execution_count": null,
   "id": "316e2d3b-9fea-42aa-8b00-002e9c3bfca3",
   "metadata": {},
   "outputs": [],
   "source": [
    "class Car():\n",
    "    def exclaim(self):\n",
    "        print(\"I am a car!\")\n",
    "class Mini(Car):\n",
    "    pass"
   ]
  },
  {
   "cell_type": "code",
   "execution_count": null,
   "id": "b52fe665-f594-4622-b4bb-f778010ff848",
   "metadata": {},
   "outputs": [],
   "source": [
    "issubclass(Mini, Car) # built-in check using issubclass() "
   ]
  },
  {
   "cell_type": "code",
   "execution_count": null,
   "id": "cb279efd-9546-4ca8-b042-4ce9a4142562",
   "metadata": {},
   "outputs": [],
   "source": [
    "# Lets build some objects\n",
    "some_car = Car()\n",
    "some_mini = Mini()"
   ]
  },
  {
   "cell_type": "code",
   "execution_count": null,
   "id": "e220ffc4-4c95-4eec-a64f-4b7295e0bf3a",
   "metadata": {},
   "outputs": [],
   "source": [
    "some_car.exclaim()"
   ]
  },
  {
   "cell_type": "code",
   "execution_count": null,
   "id": "c53995aa-cdfc-454e-9dc4-e4dc6758319d",
   "metadata": {},
   "outputs": [],
   "source": [
    "type(some_mini)"
   ]
  },
  {
   "cell_type": "code",
   "execution_count": null,
   "id": "b92a8adc-9ef7-4d60-b4f0-e6767bbcedcb",
   "metadata": {},
   "outputs": [],
   "source": [
    "# we can use the method from Car now!!\n",
    "some_mini.exclaim()"
   ]
  },
  {
   "cell_type": "markdown",
   "id": "60e6fde8-2baf-476b-9a56-d889c0a38861",
   "metadata": {},
   "source": [
    "#### Overriding/adding a method"
   ]
  },
  {
   "cell_type": "code",
   "execution_count": null,
   "id": "7cf5504c-6974-4021-8342-9cca77177ad6",
   "metadata": {},
   "outputs": [],
   "source": [
    "# overriding exclaim method\n",
    "class Mini(Car):\n",
    "    def exclaim(sef):\n",
    "        print(\"I am a mini, but also a car!\")"
   ]
  },
  {
   "cell_type": "code",
   "execution_count": null,
   "id": "5427d3e7-769f-4777-b68b-2bcdf2c9d693",
   "metadata": {},
   "outputs": [],
   "source": [
    "some_car = Car()\n",
    "some_mini = Mini()\n",
    "some_car.exclaim()\n",
    "some_mini.exclaim()"
   ]
  },
  {
   "cell_type": "code",
   "execution_count": null,
   "id": "7fc7bc6b-2e6f-4d06-a686-ee75e9df87fa",
   "metadata": {},
   "outputs": [],
   "source": [
    "# adding a new method to Mini\n",
    "class Mini(Car):\n",
    "    def exclaim(self):\n",
    "        print(\"I am a mini, but also a car!\")\n",
    "    def open_top(self):\n",
    "        print(\"Opening the top.\")"
   ]
  },
  {
   "cell_type": "code",
   "execution_count": null,
   "id": "bec367e7-45f6-455f-9866-75cfe42cf33b",
   "metadata": {},
   "outputs": [],
   "source": [
    "# we have to re-create the object\n",
    "some_car = Car()\n",
    "some_mini = Mini()"
   ]
  },
  {
   "cell_type": "code",
   "execution_count": null,
   "id": "15a06743-405e-46a5-8e55-4cf372dcdeaf",
   "metadata": {},
   "outputs": [],
   "source": [
    "some_mini.open_top()"
   ]
  },
  {
   "cell_type": "code",
   "execution_count": null,
   "id": "e52da37d-2b91-4ccb-b9e6-8a460bdd8f91",
   "metadata": {},
   "outputs": [],
   "source": [
    "some_car.open_top() # what might happen here?"
   ]
  },
  {
   "cell_type": "markdown",
   "id": "71c7f3d3-0479-40a0-8fc2-61181f0376c4",
   "metadata": {},
   "source": [
    "### Getting help from your parent with super()\n",
    "\n",
    "As example we will store chemical/organic compounds"
   ]
  },
  {
   "cell_type": "code",
   "execution_count": null,
   "id": "dcd31828-f8d4-414c-800a-0aebf4ee25c1",
   "metadata": {},
   "outputs": [],
   "source": [
    "# Definition of the base class\n",
    "class Compound:\n",
    "    def __init__(self, name):\n",
    "        self.name = name\n",
    "\n",
    "    def display_info(self):\n",
    "        print(f\"Compound Name: {self.name}\")"
   ]
  },
  {
   "cell_type": "code",
   "execution_count": null,
   "id": "5e59a432-a92c-4bab-a390-29c3b758bb24",
   "metadata": {},
   "outputs": [],
   "source": [
    "water = Compound(\"Water\")\n",
    "water.display_info()"
   ]
  },
  {
   "cell_type": "code",
   "execution_count": null,
   "id": "1794605f-7c04-4055-93a5-c23cffdbc362",
   "metadata": {},
   "outputs": [],
   "source": [
    "# Definition of the child class with additional capabilities\n",
    "# Note we reference the parent class with the super() function\n",
    "class OrganicCompound(Compound):\n",
    "    def __init__(self, name, carbon_count):\n",
    "        # Call the base class initializer using super()\n",
    "        super().__init__(name)\n",
    "        self.carbon_count = carbon_count\n",
    "\n",
    "    def display_info(self):\n",
    "        # Call the display_info method of the base class using super()\n",
    "        super().display_info() # call the parent display_info \n",
    "        print(f\"Carbon Count: {self.carbon_count}\")\n",
    "\n",
    "# Create an instance of OrganicCompound\n",
    "ethanol = OrganicCompound(\"Ethanol\", 2)\n",
    "\n",
    "# Display the information\n",
    "ethanol.display_info()"
   ]
  },
  {
   "cell_type": "markdown",
   "id": "2a2c0606-fd78-455d-b912-61c875d95b66",
   "metadata": {},
   "source": [
    "#### Multiple inheritance"
   ]
  },
  {
   "cell_type": "code",
   "execution_count": null,
   "id": "4295ea02-937b-4752-b367-bc6706039c5c",
   "metadata": {},
   "outputs": [],
   "source": [
    "class Animal:\n",
    "    def says(self):\n",
    "        return \"I can speak!\"\n",
    "        \n",
    "class Horse(Animal):\n",
    "    def says(self):\n",
    "        return \"Wiiiaah!\"\n",
    "\n",
    "class Donkey(Animal):\n",
    "    def says(self):\n",
    "        return \"Iaaah!\"\n",
    "\n",
    "# Maultier\n",
    "class Mule(Donkey,Horse):\n",
    "    pass\n",
    "\n",
    "# Maulesel\n",
    "class Hinny(Horse,Donkey):\n",
    "    pass"
   ]
  },
  {
   "cell_type": "code",
   "execution_count": null,
   "id": "a6b72b48-a707-4312-b9e9-41c7094de0ad",
   "metadata": {},
   "outputs": [],
   "source": [
    "Mule.mro()"
   ]
  },
  {
   "cell_type": "code",
   "execution_count": null,
   "id": "a5bcf3d2-c6a8-445c-86b9-6cfe2ca8afb2",
   "metadata": {},
   "outputs": [],
   "source": [
    "Hinny.mro()"
   ]
  },
  {
   "cell_type": "code",
   "execution_count": null,
   "id": "bdabd485-038a-43b5-9269-f614c1b71d31",
   "metadata": {},
   "outputs": [],
   "source": [
    "mule = Mule()\n",
    "mule.says()"
   ]
  },
  {
   "cell_type": "code",
   "execution_count": null,
   "id": "5951b3c4-6d4f-4e8f-98a1-65a4868fb236",
   "metadata": {},
   "outputs": [],
   "source": [
    "hinny = Hinny()\n",
    "hinny.says()"
   ]
  },
  {
   "cell_type": "markdown",
   "id": "87ea2eeb-a231-44f7-b0c1-eb7f35f78a54",
   "metadata": {},
   "source": [
    "### Attribute Access"
   ]
  },
  {
   "cell_type": "code",
   "execution_count": null,
   "id": "af1f76ce-fdb1-4e81-b48d-29ad41f728b5",
   "metadata": {},
   "outputs": [],
   "source": [
    "class ChemicalElement:\n",
    "    def __init__(self,atomic_number):\n",
    "        self._atomic_number = atomic_number  # The underscore indicates its private\n",
    "    # Getter method for atomic_number\n",
    "    @property\n",
    "    def atomic_number(self):\n",
    "        return self._atomic_number\n",
    "\n",
    "    # Setter method for atomic_number\n",
    "    @atomic_number.setter\n",
    "    def atomic_number(self, value):\n",
    "        assert value>0 # some additional functionality\n",
    "        self._atomic_number = value\n",
    "\n",
    "    def display_info(self):\n",
    "        print(f\"Atomic Number: {self.atomic_number} \")"
   ]
  },
  {
   "cell_type": "code",
   "execution_count": null,
   "id": "d6152e2d-ebc1-4d85-96a1-f42c11558f59",
   "metadata": {},
   "outputs": [],
   "source": [
    "oxygen = ChemicalElement( 7)\n",
    "# Access the atomic_number using the getter\n",
    "print(\"Initial Atomic Number:\", oxygen.atomic_number)\n",
    "# Modify the atomic_number using the setter\n",
    "oxygen.atomic_number = 8\n",
    "# Access the atomic_number using the getter\n",
    "print(\"Final Atomic Number:\", oxygen.atomic_number)"
   ]
  },
  {
   "cell_type": "code",
   "execution_count": null,
   "id": "7cd20c26-d827-4f20-b2c9-abe04d1eb655",
   "metadata": {},
   "outputs": [],
   "source": [
    "oxygen.atomic_number = -8 # What happens here?"
   ]
  },
  {
   "cell_type": "code",
   "execution_count": null,
   "id": "6c097e98-2cb0-422b-9b6b-db490e4785f5",
   "metadata": {},
   "outputs": [],
   "source": [
    "class ChemicalElement:\n",
    "    def __init__(self,atomic_number):\n",
    "        self.__atomic_number = atomic_number  # double underscore: hidden!\n",
    "    \n",
    "    @property\n",
    "    def atomic_number(self):\n",
    "        return self.__atomic_number\n",
    "\n",
    "    @atomic_number.setter\n",
    "    def atomic_number(self, value):\n",
    "        assert value>0\n",
    "        self.__atomic_number = value\n"
   ]
  },
  {
   "cell_type": "code",
   "execution_count": null,
   "id": "a4b1c245-de5a-4a5d-952c-e77ac51ceeff",
   "metadata": {},
   "outputs": [],
   "source": [
    "oxygen = ChemicalElement(8)\n",
    "oxygen.__atomic_numer"
   ]
  },
  {
   "cell_type": "code",
   "execution_count": null,
   "id": "191a1aa2-985e-47ef-90bb-0ea7eb739445",
   "metadata": {},
   "outputs": [],
   "source": [
    "# use the getter\n",
    "oxygen.atomic_number"
   ]
  },
  {
   "cell_type": "code",
   "execution_count": null,
   "id": "e7db90b3-99a5-4cdb-a40f-9548f4e5019a",
   "metadata": {},
   "outputs": [],
   "source": [
    "# attrinbute is hidding but hacking is possible\n",
    "oxygen._ChemicalElement__atomic_number = -1"
   ]
  },
  {
   "cell_type": "code",
   "execution_count": null,
   "id": "7a627cd3-a447-494c-a9a3-aa1594f3492d",
   "metadata": {},
   "outputs": [],
   "source": [
    "oxygen.atomic_number"
   ]
  },
  {
   "cell_type": "markdown",
   "id": "4b93d910-d59c-4473-a875-68ee89c14564",
   "metadata": {},
   "source": [
    "#### Method types - class and static methods"
   ]
  },
  {
   "cell_type": "code",
   "execution_count": null,
   "id": "70fdbfcd-157a-4884-b19b-5335cc8cc1ac",
   "metadata": {},
   "outputs": [],
   "source": [
    "# a class method affects the class and all of its objects\n",
    "class A():\n",
    "    count = 0\n",
    "    def __init__(self):\n",
    "        A.count += 1\n",
    "    def exclaim(self):\n",
    "        print(\"I am an A\")\n",
    "    @classmethod\n",
    "    def count_kids(cls):\n",
    "        print(f\"A has {A.count} little objects\")"
   ]
  },
  {
   "cell_type": "code",
   "execution_count": null,
   "id": "40865fc0-3a69-4569-9b5e-6c510d3b5a35",
   "metadata": {},
   "outputs": [],
   "source": [
    "easy_a = A()\n",
    "breezy_a = A()\n",
    "wheezy_a = A()\n",
    "A.count_kids() # note where using the name of the class (run this cell twice)"
   ]
  },
  {
   "cell_type": "code",
   "execution_count": null,
   "id": "e25eb659-b024-450b-afea-05232695659e",
   "metadata": {},
   "outputs": [],
   "source": [
    "# a static method does not affect the class or its objects\n",
    "class A():\n",
    "    @staticmethod\n",
    "    def print_info():\n",
    "        print(\"This is class A!\")"
   ]
  },
  {
   "cell_type": "code",
   "execution_count": null,
   "id": "3720e386-aeeb-44f4-9326-b9538c1274ef",
   "metadata": {},
   "outputs": [],
   "source": [
    "A.print_info() # no object need to access this method"
   ]
  },
  {
   "cell_type": "markdown",
   "id": "e502735a-4629-482c-979a-40f5fc08f131",
   "metadata": {},
   "source": [
    "### Magic methods"
   ]
  },
  {
   "cell_type": "code",
   "execution_count": null,
   "id": "a8321adb-8520-42e7-aa98-4b099674194d",
   "metadata": {},
   "outputs": [],
   "source": [
    "class Molecule:\n",
    "    def __init__(self, name, atoms):\n",
    "        self.name = name\n",
    "        self.atoms = atoms\n",
    "\n",
    "    # __str__ method to define the string representation of the object\n",
    "    def __str__(self):\n",
    "        return f\"Molecule: {self.name}, Atoms: {', '.join(self.atoms)}\"\n",
    "\n",
    "    # __len__ method to define the length (number of atoms in the molecule)\n",
    "    def __len__(self):\n",
    "        return len(self.atoms)\n",
    "\n",
    "# Create an instance of Molecule\n",
    "ethanol = Molecule(\"Ethanol\", [\"C\", \"C\", \"O\", \"H\", \"H\", \"H\", \"H\", \"H\", \"H\"])\n",
    "print(ethanol)\n",
    "len(ethanol)"
   ]
  },
  {
   "cell_type": "markdown",
   "id": "e78c7f3b-636e-4fd6-a1e4-9ebd9b1a57c5",
   "metadata": {},
   "source": [
    "#### Commonly Used Python Magic Methods\n",
    "\n",
    "- `__init__(self, ...)`: \n",
    "  - Called when an instance of a class is created. Used for initializing the object.  \n",
    "  \n",
    "- `__str__(self)`:\n",
    "  - Called by `str()` and `print()` to get the string representation of an object.\n",
    "  \n",
    "- `__repr__(self)`:\n",
    "  - Called by `repr()` It should return a string that ideally could be used to recreate the object.\n",
    "  \n",
    "- `__len__(self)`:\n",
    "  - Called by `len()` to return the length of an object.\n",
    "  \n",
    "- `__getitem__(self, key)`:\n",
    "  - Called to retrieve an item using indexing (`object[key]`).\n",
    "  \n",
    "- `__setitem__(self, key, value)`:\n",
    "  - Called to set an item using indexing (`object[key] = value`).\n",
    "  \n",
    "- `__delitem__(self, key)`:\n",
    "  - Called to delete an item using the `del` keyword (`del object[key]`).\n",
    "  \n",
    "- `__iter__(self)`:\n",
    "  - Called by `iter()` to return an iterator for an object.\n",
    "  \n",
    "- `__next__(self)`:\n",
    "  - Called by `next()` to get the next item from an iterator.\n",
    "  \n",
    "- `__call__(self, ...)`:\n",
    "  - Called when the object is called as a function.\n",
    "  \n",
    "- `__enter__(self)`:\n",
    "  - Called when entering a context (used with `with` statements).\n",
    "  \n",
    "- `__exit__(self, exc_type, exc_val, exc_tb)`:\n",
    "  - Called when exiting a context (used with `with` statements).\n",
    "  \n",
    "- `__add__(self, other)`:\n",
    "  - Called by the `+` operator to add two objects.\n",
    "  \n",
    "- `__sub__(self, other)`:\n",
    "  - Called by the `-` operator to subtract one object from another.\n",
    "  \n",
    "- `__mul__(self, other)`:\n",
    "  - Called by the `*` operator to multiply two objects.\n",
    "  \n",
    "- `__truediv__(self, other)`:\n",
    "  - Called by the `/` operator for division.\n",
    "  \n",
    "- `__eq__(self, other)`:\n",
    "  - Called by the `==` operator to compare two objects for equality.\n",
    "  \n",
    "- `__lt__(self, other)`:\n",
    "  - Called by the `<` operator to compare if one object is less than another.\n",
    "  \n",
    "- `__le__(self, other)`:\n",
    "  - Called by the `<=` operator to compare if one object is less than or equal to another."
   ]
  },
  {
   "cell_type": "markdown",
   "id": "895240d4-ac6e-45e8-9dbf-27d3fa144696",
   "metadata": {},
   "source": [
    "### Composition\n",
    "\n",
    "* Atom Class:\n",
    "\n",
    "Represents a single atom with an element (e.g., \"Hydrogen\") and an atomic_number (e.g., 1 for Hydrogen).\n",
    "\n",
    "* Molecule Class:\n",
    "\n",
    "Represents a molecule, which is composed of multiple Atom objects.\n",
    "The add_atom method allows adding Atom objects to the molecule.\n"
   ]
  },
  {
   "cell_type": "code",
   "execution_count": null,
   "id": "2533a75a-bbcb-4985-ad6e-29a938ab9724",
   "metadata": {},
   "outputs": [],
   "source": [
    "class Atom:\n",
    "    def __init__(self, element, atomic_number):\n",
    "        self.element = element\n",
    "        self.atomic_number = atomic_number"
   ]
  },
  {
   "cell_type": "code",
   "execution_count": null,
   "id": "c4b5c840-9ecd-43af-95b9-8c0986029ce1",
   "metadata": {},
   "outputs": [],
   "source": [
    "class Molecule:\n",
    "    def __init__(self, name):\n",
    "        self.name = name\n",
    "        self.atoms = []  # A molecule is composed of multiple atoms\n",
    "\n",
    "    def add_atom(self, atom):\n",
    "        self.atoms.append(atom)"
   ]
  },
  {
   "cell_type": "code",
   "execution_count": null,
   "id": "92ab7236-4685-483e-bf4e-2e32a409359d",
   "metadata": {},
   "outputs": [],
   "source": [
    "# Create some atoms\n",
    "hydrogen = Atom(\"Hydrogen\", 1)\n",
    "oxygen = Atom(\"Oxygen\", 8)\n",
    "\n",
    "# Create a molecule and add atoms to it\n",
    "water = Molecule(\"Water\")\n",
    "water.add_atom(hydrogen)\n",
    "water.add_atom(hydrogen)  # Water has two hydrogen atoms\n",
    "water.add_atom(oxygen)"
   ]
  },
  {
   "cell_type": "code",
   "execution_count": null,
   "id": "20eaac79-b959-4b25-b4ab-2edf02c6fa2c",
   "metadata": {},
   "outputs": [],
   "source": [
    "water.atoms"
   ]
  },
  {
   "cell_type": "markdown",
   "id": "5b391b38-4253-42f3-8179-92106b8a1f76",
   "metadata": {},
   "source": [
    "### Python modules\n",
    "\n",
    "Export the molecule and the atom class into a file called `molecule.py`\n",
    "(restart the kernel recommended to avoid confusion)"
   ]
  },
  {
   "cell_type": "code",
   "execution_count": null,
   "id": "084cac22-f6ab-49b8-bbca-4570692f415e",
   "metadata": {},
   "outputs": [],
   "source": [
    "!cat molecule.py"
   ]
  },
  {
   "cell_type": "code",
   "execution_count": null,
   "id": "5c9847f6-3dca-4139-9538-0d8ad31a1205",
   "metadata": {},
   "outputs": [],
   "source": [
    "import molecule"
   ]
  },
  {
   "cell_type": "code",
   "execution_count": null,
   "id": "26b96943-55a5-4fac-b034-dabf44948496",
   "metadata": {},
   "outputs": [],
   "source": [
    "# Create some atoms\n",
    "hydrogen = molecule.Atom(\"Hydrogen\", 1)\n",
    "h2 = molecule.Molecule(\"H2\")\n",
    "h2.add_atom(hydrogen)\n",
    "h2.add_atom(hydrogen)"
   ]
  },
  {
   "cell_type": "code",
   "execution_count": null,
   "id": "fc6075b3-55d3-4607-84d1-f4dbaaf47f34",
   "metadata": {},
   "outputs": [],
   "source": [
    "# import module with another name\n",
    "import molecule as m\n",
    "hydrogen = m.Atom(\"Hydrogen\", 1)"
   ]
  },
  {
   "cell_type": "code",
   "execution_count": null,
   "id": "deedaee6-0ef1-4595-a302-28a05643d93a",
   "metadata": {},
   "outputs": [],
   "source": [
    "# import only what you want\n",
    "from molecule import Atom\n",
    "hydrogen = Atom(\"Hydrogen\", 1)"
   ]
  },
  {
   "cell_type": "markdown",
   "id": "57275644-884a-4565-8f3c-04e1ad8aed84",
   "metadata": {},
   "source": [
    "### Useful built-in Python modules"
   ]
  },
  {
   "cell_type": "code",
   "execution_count": null,
   "id": "b63626d3-3dc0-4889-9201-28d2b5e09f8f",
   "metadata": {},
   "outputs": [],
   "source": [
    "#default dict\n",
    "from collections import defaultdict\n",
    "\n",
    "def return_my_default():\n",
    "    return -1\n",
    "\n",
    "inventory = defaultdict(return_my_default)\n",
    "inventory['B'] = 1\n",
    "inventory['A']"
   ]
  },
  {
   "cell_type": "code",
   "execution_count": null,
   "id": "db963825-39b5-4ded-80eb-e6450b2a29a6",
   "metadata": {},
   "outputs": [],
   "source": [
    "# Counter\n",
    "from collections import Counter\n",
    "breakfast = [\"spam\",\"eggs\",\"spam\",\"spam\"]\n",
    "Counter(breakfast)"
   ]
  },
  {
   "cell_type": "code",
   "execution_count": null,
   "id": "dc965699-3a0e-4557-8153-ccf58fa81f4f",
   "metadata": {},
   "outputs": [],
   "source": [
    "# itertools\n",
    "from itertools import combinations, permutations\n",
    "for item in combinations(['A','B','C'],2):\n",
    "    print(item)"
   ]
  },
  {
   "cell_type": "code",
   "execution_count": null,
   "id": "48695fd5-7f1e-4d96-8a20-fb4a19841291",
   "metadata": {},
   "outputs": [],
   "source": [
    "for item in permutations(['A','B','C'],2):\n",
    "    print(item)"
   ]
  },
  {
   "cell_type": "code",
   "execution_count": null,
   "id": "1b455dab-52bb-481e-83ed-1eaa38c0f9aa",
   "metadata": {},
   "outputs": [],
   "source": [
    "# Random -  # run these cells several times\n",
    "from random import choice, random, randint\n",
    "choice([1,4,'apples','oranges','Huhu',\"\"])"
   ]
  },
  {
   "cell_type": "code",
   "execution_count": null,
   "id": "b2c5bf39-cdb8-45a6-be34-aa7c68a91715",
   "metadata": {},
   "outputs": [],
   "source": [
    "random()"
   ]
  },
  {
   "cell_type": "code",
   "execution_count": null,
   "id": "74a180e9-47c9-4246-8616-ca1a8f2202de",
   "metadata": {},
   "outputs": [],
   "source": [
    "randint(25,30)"
   ]
  }
 ],
 "metadata": {
  "kernelspec": {
   "display_name": "Python 3 (ipykernel)",
   "language": "python",
   "name": "python3"
  },
  "language_info": {
   "codemirror_mode": {
    "name": "ipython",
    "version": 3
   },
   "file_extension": ".py",
   "mimetype": "text/x-python",
   "name": "python",
   "nbconvert_exporter": "python",
   "pygments_lexer": "ipython3",
   "version": "3.11.11"
  }
 },
 "nbformat": 4,
 "nbformat_minor": 5
}
