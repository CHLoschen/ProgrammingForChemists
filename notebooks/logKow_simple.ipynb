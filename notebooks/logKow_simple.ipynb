{
 "cells": [
  {
   "cell_type": "markdown",
   "id": "20fec0ec-0531-4255-9cf2-4a9bf7fcb625",
   "metadata": {},
   "source": [
    "## Computing and Visualizing logP for Acetaminophen (Paracetamol)\n",
    "\n",
    "### Introduction\n",
    "\n",
    "The **octanol-water partition coefficient (logP or logKow)** is a measure of the hydrophobicity of a molecule. It can be calculated by summing the contributions of individual functional groups in the molecule. In this example, we compute the logP for [paracetamol](https://pubchem.ncbi.nlm.nih.gov/compound/Acetaminophen), which contains three distinct functional groups:\n",
    "- **Aromatic Ring (C6H5):** Increases logP due to its hydrophobic nature.\n",
    "- **Hydroxy Group (-OH):** Decreases logP as it is hydrophilic.\n",
    "- **Amide Group (-CONH):** Moderately decreases logP as it is slightly hydrophilic.\n",
    "\n",
    "The total logP is calculated as the sum of these contributions.\n",
    "\n",
    "---\n",
    "\n",
    "### Functional Group Contributions\n",
    "\n",
    "We define the contributions of the groups as follows:\n",
    "- **Aromatic Ring (C6H5):** `+1.5`\n",
    "- **Hydroxy Group (-OH):** `-0.7`\n",
    "- **Amide Group (-CONH):** `-0.4`\n",
    "\n",
    "Using these contributions, we compute the total logP:\n",
    "$$\n",
    "\\text{logP (Acetaminophen)} = 1.5 + (-0.7) + (-0.4) = 0.4\n",
    "$$\n",
    "\n"
   ]
  },
  {
   "cell_type": "code",
   "execution_count": null,
   "id": "54713e73-fb32-4372-bb18-9de91fe9e6bc",
   "metadata": {},
   "outputs": [],
   "source": [
    "!pip install matplotlib"
   ]
  },
  {
   "cell_type": "code",
   "execution_count": null,
   "id": "dd12f0dc-2c47-4339-adc3-3b8c23f65255",
   "metadata": {},
   "outputs": [],
   "source": [
    "import matplotlib.pyplot as plt\n",
    "\n",
    "# Contributions for acetaminophen\n",
    "group_contributions = {\n",
    "    'Aromatic Ring (C6H5)': 1.5,   # Contribution of the benzene ring\n",
    "    'Hydroxy (-OH)': -0.7,         # Contribution of the hydroxyl group\n",
    "    'Amide (-CONH)': -0.4          # Contribution of the amide group\n",
    "}\n",
    "\n",
    "# Calculate total logP\n",
    "total_logP = sum(group_contributions.values())\n",
    "\n",
    "# Plotting\n",
    "plt.figure(figsize=(8, 5))\n",
    "plt.bar(group_contributions.keys(), group_contributions.values())\n",
    "plt.axhline(0, color='grey', linewidth=0.8, linestyle='--')\n",
    "plt.title(f'LogP Contributions for Acetaminophen (Total logP = {total_logP:.2f})')\n",
    "plt.xlabel('Functional Groups')\n",
    "plt.ylabel('Contribution to logP')\n",
    "plt.grid(axis='y', linestyle='--', alpha=0.7)\n",
    "plt.show()"
   ]
  },
  {
   "cell_type": "code",
   "execution_count": null,
   "id": "247eb936-a8f5-4037-98d7-5fdd23867e76",
   "metadata": {},
   "outputs": [],
   "source": []
  }
 ],
 "metadata": {
  "kernelspec": {
   "display_name": "Python 3 (ipykernel)",
   "language": "python",
   "name": "python3"
  },
  "language_info": {
   "codemirror_mode": {
    "name": "ipython",
    "version": 3
   },
   "file_extension": ".py",
   "mimetype": "text/x-python",
   "name": "python",
   "nbconvert_exporter": "python",
   "pygments_lexer": "ipython3",
   "version": "3.11.11"
  }
 },
 "nbformat": 4,
 "nbformat_minor": 5
}
