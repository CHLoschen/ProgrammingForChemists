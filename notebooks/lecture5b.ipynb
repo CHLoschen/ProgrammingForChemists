{
 "cells": [
  {
   "cell_type": "markdown",
   "id": "ff7ba47b-da80-4138-a798-d17183c2cbf3",
   "metadata": {},
   "source": [
    "## Python Programming for Chemists: NumPy & Graph Plotting"
   ]
  },
  {
   "cell_type": "markdown",
   "id": "9b9bd986-15a1-4d5c-92c9-c695c1b3608d",
   "metadata": {},
   "source": [
    "### Numpy arrays\n",
    "\n",
    "A **NumPy array** is a list (1D) or grid (2D, nD) of values indexed by integers. \n",
    "It is optimized for numerical computations.\n",
    "\n",
    "- Supports **multi-dimensional** arrays (1D, 2D, etc.).\n",
    "- **Faster** than Python lists for numerical operations because it is implemented in C.\n",
    "- Supports **vectorized operations**, meaning operations apply to the entire array without explicit loops.\n",
    "\n",
    "  \n",
    "A 1D NumPy array can be thought of as a mathematical vector:\n",
    "\n",
    "$\n",
    "\\mathbf{v} = \\begin{bmatrix} 1 \\\\ 2 \\\\ 3\\\\ 4 \\\\5\\end{bmatrix}\n",
    "$\n",
    "\n"
   ]
  },
  {
   "cell_type": "code",
   "execution_count": null,
   "id": "a406ba8c-43dc-45c7-a8ca-ca3c8bd314cb",
   "metadata": {},
   "outputs": [],
   "source": [
    "import numpy as np\n",
    "# Create a NumPy array\n",
    "array = np.array([1, 2, 3, 4, 5])\n",
    "array"
   ]
  },
  {
   "cell_type": "code",
   "execution_count": null,
   "id": "4a40c4ee-8231-4f99-9fd2-ae8b8161ca6f",
   "metadata": {},
   "outputs": [],
   "source": [
    "# Perform a (vectorized) operation (no for loop!)\n",
    "squared_array = array ** 2\n",
    "print(squared_array) "
   ]
  },
  {
   "cell_type": "markdown",
   "id": "fffc223c-f770-460c-bc25-f95d2b5b780a",
   "metadata": {},
   "source": [
    "### Example: \n",
    "Computing the values for \n",
    "$ y = sin(x)$ for  10 values of x between 0 and $2\\pi$ in pure Python\n",
    "\n"
   ]
  },
  {
   "cell_type": "code",
   "execution_count": null,
   "id": "88849386-93a9-4a49-8963-13afdc4c7ef0",
   "metadata": {},
   "outputs": [],
   "source": [
    "# pure python\n",
    "import math\n",
    "xvals, yvals = [],[]\n",
    "n = 10\n",
    "x = 0\n",
    "dx = 2* math.pi / (n-1) \n",
    "print(dx)\n",
    "for i in range(n):\n",
    "    x = i *dx\n",
    "    xvals.append(x)\n",
    "    yvals.append(math.sin(x))"
   ]
  },
  {
   "cell_type": "markdown",
   "id": "3c912e3e",
   "metadata": {},
   "source": [
    "And now the same with NumPy"
   ]
  },
  {
   "cell_type": "code",
   "execution_count": null,
   "id": "a057b1f1-72ac-4c8e-81d0-6dbc89f32320",
   "metadata": {},
   "outputs": [],
   "source": [
    "\n",
    "# using numpy\n",
    "import numpy as np\n",
    "x = np.linspace(0,2*np.pi,10)\n",
    "x # numpy array created"
   ]
  },
  {
   "cell_type": "code",
   "execution_count": null,
   "id": "ac239383-df46-4428-b207-6adde3de94f4",
   "metadata": {
    "scrolled": true
   },
   "outputs": [],
   "source": [
    "y = np.sin(x) # vectorized operation (no for loop!)\n",
    "y"
   ]
  },
  {
   "cell_type": "code",
   "execution_count": null,
   "id": "c2c617d8-ac5d-4b8f-8bc5-7c2140b46354",
   "metadata": {},
   "outputs": [],
   "source": [
    "import matplotlib.pyplot as plt # we will look into matplotlib later!\n",
    "plt.scatter(x,y)"
   ]
  },
  {
   "cell_type": "markdown",
   "id": "0c13bf87-5d43-415a-8d6e-709bace12977",
   "metadata": {},
   "source": [
    "### Creating arrays\n",
    "\n",
    "Arrays are mostly created using the `np.array` function using a Python list."
   ]
  },
  {
   "cell_type": "code",
   "execution_count": null,
   "id": "7391e917-c70d-457e-aff2-a600c07ae125",
   "metadata": {},
   "outputs": [],
   "source": [
    "# From a Python list, like a vector\n",
    "numbers = [1,9,7,5]\n",
    "arr = np.array(numbers)\n",
    "arr"
   ]
  },
  {
   "cell_type": "code",
   "execution_count": null,
   "id": "3de42f36-5c14-4ebd-b4fb-7012fb78fa83",
   "metadata": {},
   "outputs": [],
   "source": [
    "# Using linspace\n",
    "arr = np.linspace(start=0,stop=2,num=4)\n",
    "arr"
   ]
  },
  {
   "cell_type": "code",
   "execution_count": null,
   "id": "c9531a4b-002a-47c6-aa52-e96a6fc0ee67",
   "metadata": {},
   "outputs": [],
   "source": [
    "# From a Python list of lists with 2 rows and 4 columns, like a matrix\n",
    "numbers = [[1,9,7,5],[2,3,9,8]]\n",
    "arr = np.array(numbers)\n",
    "arr"
   ]
  },
  {
   "cell_type": "code",
   "execution_count": null,
   "id": "6105d156-cc87-474c-9fc6-6c7f1ce1d93b",
   "metadata": {},
   "outputs": [],
   "source": [
    "# creating all 0's with 2 rows and 3 columns\n",
    "arr = np.zeros((2,3))\n",
    "arr"
   ]
  },
  {
   "cell_type": "code",
   "execution_count": null,
   "id": "12374aad-7898-4886-80e3-1e835f1c5fc2",
   "metadata": {},
   "outputs": [],
   "source": [
    "# creating all 1's with 2 rows and 3 columns\n",
    "arr = np.ones((2,3))\n",
    "arr"
   ]
  },
  {
   "cell_type": "markdown",
   "id": "6ff88da0-ee8a-4420-99d4-28d99997e8a6",
   "metadata": {},
   "source": [
    "### Vectorization\n",
    "\n",
    "Vectorization is the process of applying operations to entire arrays without explicit loops."
   ]
  },
  {
   "cell_type": "code",
   "execution_count": null,
   "id": "4d757964-9ccb-4622-98f0-961e206a9de5",
   "metadata": {},
   "outputs": [],
   "source": [
    "arr = np.array([[1,9,7,5],[2,3,9,8]])\n",
    "arr"
   ]
  },
  {
   "cell_type": "code",
   "execution_count": null,
   "id": "c209df41-cce8-4d93-927b-558fbdc58f4b",
   "metadata": {},
   "outputs": [],
   "source": [
    "arr * 2"
   ]
  },
  {
   "cell_type": "code",
   "execution_count": null,
   "id": "48356a24-3b48-48eb-b115-d64509810475",
   "metadata": {},
   "outputs": [],
   "source": [
    "1 / arr"
   ]
  },
  {
   "cell_type": "code",
   "execution_count": null,
   "id": "56cec293-6e77-40a0-90f0-eed9104d5a0f",
   "metadata": {},
   "outputs": [],
   "source": [
    "np.log(arr)"
   ]
  },
  {
   "cell_type": "code",
   "execution_count": null,
   "id": "efe5abd4-eda7-462e-8c7d-688aabb60ad1",
   "metadata": {},
   "outputs": [],
   "source": [
    "# giving the data type of an array\n",
    "arr.dtype"
   ]
  },
  {
   "cell_type": "code",
   "execution_count": null,
   "id": "802865e6-15b8-4917-85a8-692769284b35",
   "metadata": {},
   "outputs": [],
   "source": [
    "np.log(arr).dtype"
   ]
  },
  {
   "cell_type": "markdown",
   "id": "ad4d6be2-dd0e-4c50-8074-82558b39073c",
   "metadata": {},
   "source": [
    "### Indexing \n",
    "\n",
    "Indexing is the process of accessing elements of an array using their indices / positions.\n"
   ]
  },
  {
   "cell_type": "code",
   "execution_count": null,
   "id": "e51179ad-c6d0-46c9-950c-fae0db0d91cc",
   "metadata": {},
   "outputs": [],
   "source": [
    "# 1D array\n",
    "arr = np.array([2,3,9,8])\n",
    "arr[0]"
   ]
  },
  {
   "cell_type": "code",
   "execution_count": null,
   "id": "01a9f16c-68f7-450d-a229-f4571f397431",
   "metadata": {},
   "outputs": [],
   "source": [
    "# 2D array\n",
    "arr = np.array([[1,9,7,5],[2,3,9,8]])\n",
    "arr[1]"
   ]
  },
  {
   "cell_type": "code",
   "execution_count": null,
   "id": "685c426f-a5af-4a99-a494-d19ffefe0a9d",
   "metadata": {},
   "outputs": [],
   "source": [
    "arr[1,3]"
   ]
  },
  {
   "cell_type": "markdown",
   "id": "cd9fdcf8-d13e-4632-92fb-4e45560756f2",
   "metadata": {},
   "source": [
    "### Reshaping\n",
    "\n",
    "Reshaping is the process of changing the shape of an array, i.e. the number of rows and columns."
   ]
  },
  {
   "cell_type": "code",
   "execution_count": null,
   "id": "e2878ac0-f5cd-4f4f-8d1b-df4d04b36460",
   "metadata": {},
   "outputs": [],
   "source": [
    "arr = np.array([[1,9,7,5],[2,3,9,8]])\n",
    "arr.shape# gives the shape of an array: 2 rows 4 columns"
   ]
  },
  {
   "cell_type": "code",
   "execution_count": null,
   "id": "a5085503-b55d-4ad5-bac4-df816b17ff60",
   "metadata": {},
   "outputs": [],
   "source": [
    "arr "
   ]
  },
  {
   "cell_type": "code",
   "execution_count": null,
   "id": "b7ee0061-bd46-40ef-ac36-c5d149677999",
   "metadata": {},
   "outputs": [],
   "source": [
    "arr.reshape((4,2)) # now 4 rows 2 columns"
   ]
  },
  {
   "cell_type": "markdown",
   "id": "37a8e005-7993-4921-9b05-fa95ea4efebe",
   "metadata": {},
   "source": [
    "### Slicing\n",
    "\n",
    "A slicing is the process of accessing a subset or a part of an array.\n"
   ]
  },
  {
   "cell_type": "code",
   "execution_count": null,
   "id": "685a89b7-50aa-4c3d-94d4-40e59f39040f",
   "metadata": {},
   "outputs": [],
   "source": [
    "# Slicing\n",
    "A = np.array([[1,1,1,1],[2,2,2,2],[3,3,3,3]])\n",
    "A"
   ]
  },
  {
   "cell_type": "code",
   "execution_count": null,
   "id": "e7c02075-e9a5-41a3-9254-2b1f8e5418ef",
   "metadata": {},
   "outputs": [],
   "source": [
    "A[:2] # first two rows and all columns"
   ]
  },
  {
   "cell_type": "code",
   "execution_count": null,
   "id": "616cd84e-d990-4e2a-a6f4-5dc73a64b695",
   "metadata": {},
   "outputs": [],
   "source": [
    "A[:,:2] # all rows and first 2 columns"
   ]
  },
  {
   "cell_type": "code",
   "execution_count": null,
   "id": "cd4d5afe-c2ec-4cc6-83f3-a2670c5c9e10",
   "metadata": {},
   "outputs": [],
   "source": [
    "A[:-1,:-1] # all elements except the last row and column"
   ]
  },
  {
   "cell_type": "code",
   "execution_count": null,
   "id": "0e824817-b426-4614-8ae0-4eca60c4bc33",
   "metadata": {},
   "outputs": [],
   "source": [
    "# striding with ::\n",
    "b = np.array([1,2,3,4,5,6,7,8])\n",
    "b[::2]"
   ]
  },
  {
   "cell_type": "code",
   "execution_count": null,
   "id": "68b2d9e3-d53d-4bbf-bd52-588c2c9304ac",
   "metadata": {},
   "outputs": [],
   "source": [
    "B = A[:,1] # Slicing just creates a view\n",
    "B"
   ]
  },
  {
   "cell_type": "code",
   "execution_count": null,
   "id": "018e0ebc-e8fd-4d18-b23c-e01ba9619db0",
   "metadata": {},
   "outputs": [],
   "source": [
    "A[0,1] = 5\n",
    "A"
   ]
  },
  {
   "cell_type": "code",
   "execution_count": null,
   "id": "3cedc4f5-3302-40a2-be22-b5b84217fd85",
   "metadata": {},
   "outputs": [],
   "source": [
    "B # the element in B was also changed!"
   ]
  },
  {
   "cell_type": "markdown",
   "id": "0045c362-c623-4584-b363-08d1ee21e73e",
   "metadata": {},
   "source": [
    "### Array aggregation / summarization\n",
    "\n",
    "Aggregation functions are used to summarize and reduce data in arrays.\n"
   ]
  },
  {
   "cell_type": "code",
   "execution_count": null,
   "id": "e8f85e8c-2cb7-4715-badf-fc38765836c5",
   "metadata": {},
   "outputs": [],
   "source": [
    "A = np.array([1,2,3,4,5])\n",
    "A"
   ]
  },
  {
   "cell_type": "code",
   "execution_count": null,
   "id": "45852aec-5a7a-4fef-902d-fa374d9c491f",
   "metadata": {},
   "outputs": [],
   "source": [
    "np.sum(A) # or np.sum(A)"
   ]
  },
  {
   "cell_type": "code",
   "execution_count": null,
   "id": "e1b041d2-b349-4f8a-a72b-3abe598de002",
   "metadata": {},
   "outputs": [],
   "source": [
    "A.mean() # or np.mean(A)"
   ]
  },
  {
   "cell_type": "code",
   "execution_count": null,
   "id": "802c24c3-4751-4049-8fe9-405b8074739b",
   "metadata": {},
   "outputs": [],
   "source": [
    "A.max() # or np.max(A)"
   ]
  },
  {
   "cell_type": "code",
   "execution_count": null,
   "id": "63ac60db-1578-4149-87d5-01889718e36c",
   "metadata": {},
   "outputs": [],
   "source": [
    "# For getting the index of the max argument\n",
    "np.argmax(A)"
   ]
  },
  {
   "cell_type": "code",
   "execution_count": null,
   "id": "b8b7fda8-189f-4d9c-9a58-1917485ea58c",
   "metadata": {},
   "outputs": [],
   "source": [
    "A = np.array([[10,3,5,7,9],[2,4,6,8,10]])\n",
    "A,np.max(A)"
   ]
  },
  {
   "cell_type": "code",
   "execution_count": null,
   "id": "e41b8cf0-78ba-4a1d-8578-a1d5f6ec95c9",
   "metadata": {},
   "outputs": [],
   "source": [
    "# For N-dimensional arrays specify the axis\n",
    "np.min(A,axis=0) # min along cols"
   ]
  },
  {
   "cell_type": "code",
   "execution_count": null,
   "id": "07730d7d-7ec5-41dc-a940-6b4503348a2b",
   "metadata": {},
   "outputs": [],
   "source": [
    "np.min(A,axis=1) # min along rows"
   ]
  },
  {
   "cell_type": "markdown",
   "id": "82a9a08c-6d60-4908-af64-bf51f91c1ddc",
   "metadata": {},
   "source": [
    "### NaN (Not a Number)\n",
    "\n",
    "NaN (Not a Number) is a special value in NumPy that represents missing or undefined data."
   ]
  },
  {
   "cell_type": "code",
   "execution_count": null,
   "id": "01032cdb-926a-4d47-a60d-079eda17d362",
   "metadata": {},
   "outputs": [],
   "source": [
    "a = np.log(-1) # log shoud always be >0\n",
    "a"
   ]
  },
  {
   "cell_type": "code",
   "execution_count": null,
   "id": "dee16b7b-1f47-43e3-887f-2cd1ed20f676",
   "metadata": {},
   "outputs": [],
   "source": [
    "arr = [4,16,25,-1] # sqrt of -1 is nan here\n",
    "arr = np.sqrt(arr)\n",
    "arr"
   ]
  },
  {
   "cell_type": "code",
   "execution_count": null,
   "id": "e6d45e06-ba85-4ba0-9689-2bbe101ba041",
   "metadata": {},
   "outputs": [],
   "source": [
    "np.max(arr) # does not work!"
   ]
  },
  {
   "cell_type": "code",
   "execution_count": null,
   "id": "6774341b-4da9-4c8c-af82-1c84760c4f0d",
   "metadata": {},
   "outputs": [],
   "source": [
    "np.nanmax(arr)"
   ]
  },
  {
   "cell_type": "code",
   "execution_count": null,
   "id": "0d2737dc-0195-43eb-9c15-057e88f3c701",
   "metadata": {},
   "outputs": [],
   "source": [
    "np.nanmean(arr)"
   ]
  },
  {
   "cell_type": "code",
   "execution_count": null,
   "id": "bc656e2d-6072-4521-ab8d-9ee17b2de9b6",
   "metadata": {},
   "outputs": [],
   "source": [
    "np.isnan(a)"
   ]
  },
  {
   "cell_type": "markdown",
   "id": "58dfb8b3-0ac9-4d71-a122-6fb111027cbd",
   "metadata": {},
   "source": [
    "### Boolean arrays\n",
    "\n",
    "Boolean arrays are arrays of boolean values (True or False)."
   ]
  },
  {
   "cell_type": "code",
   "execution_count": null,
   "id": "39ae528f-c9a6-4936-84d3-b985bacafa24",
   "metadata": {},
   "outputs": [],
   "source": [
    "arr = np.asarray([1 , 5, -1 , 3, -10, 0])\n",
    "arr>=0"
   ]
  },
  {
   "cell_type": "code",
   "execution_count": null,
   "id": "6d4b34c8-cee9-473d-a82f-8c1456008b1e",
   "metadata": {},
   "outputs": [],
   "source": [
    "arr==5"
   ]
  },
  {
   "cell_type": "code",
   "execution_count": null,
   "id": "8150b8bf-2f71-4ecd-8059-2cb55866c7bf",
   "metadata": {},
   "outputs": [],
   "source": [
    "arr**2 > 0 "
   ]
  },
  {
   "cell_type": "code",
   "execution_count": null,
   "id": "7ffc119e-94b9-43fd-9112-9f3962a83e6a",
   "metadata": {},
   "outputs": [],
   "source": [
    "(arr > 1) & (arr <5) # AND"
   ]
  },
  {
   "cell_type": "code",
   "execution_count": null,
   "id": "1e6ecda9-3731-4940-a316-2d3c2e4dfaff",
   "metadata": {},
   "outputs": [],
   "source": [
    "(arr < 1) | (arr >5) #OR"
   ]
  },
  {
   "cell_type": "code",
   "execution_count": null,
   "id": "aebb1ab3-211b-4333-873f-ba9f72b9aac1",
   "metadata": {},
   "outputs": [],
   "source": [
    "~(arr == 1)"
   ]
  },
  {
   "cell_type": "code",
   "execution_count": null,
   "id": "493ca90e-14ef-4a5b-ba5c-ae412b4526b9",
   "metadata": {},
   "outputs": [],
   "source": [
    "np.sum(arr<0)  # can be summed: True = 1 False = 0"
   ]
  },
  {
   "cell_type": "markdown",
   "id": "2dcc6926-3b87-4837-a7cd-2a6948bc68bf",
   "metadata": {},
   "source": [
    "## Exercise: Molecular Weight Distribution\n",
    "\n",
    "Assume we have a molecular weight distribution of a polymer sample e.g. polyurethane: \n",
    "\n",
    "\n",
    "| Mw$_{i}$ g/mol | mole fraction (x$_{i}$) |\n",
    "|-----------------------------|--------------------|\n",
    "| 0    - 4000                 | 0.00             |\n",
    "| 4000 - 8000                 | 0.05              |\n",
    "| 8000 - 12000                 | 0.15               |\n",
    "| 12000 - 16000                 | 0.20              |\n",
    "| 16000 - 20000                 | 0.30               |\n",
    "| 20000 - 24000                 | 0.20               |\n",
    "| 24000 - 28000                 | 0.10               |\n",
    "| 28000 - 32000                 | 0.03               |\n",
    "\n",
    "\n",
    "\n",
    "We would like to estimate: \n",
    "\n",
    "* Number Average Molecular Weight $\\overline{M}_n$:\n",
    "\n",
    "$$\n",
    "\\overline{M}_n = \\sum{x_i M_i}\n",
    "$$\n",
    "\n",
    "* Weight Average Molecular Weight $\\overline{M}_w$):\n",
    "\n",
    "$$\n",
    "\\overline{M}_w= \\frac{\\sum x_i M_i^2}{\\sum x_i M_i} \n",
    "$$\n",
    "\n",
    "* Polydispersity Index (PDI):\n",
    "\n",
    "$$\n",
    "\\text{PDI} = \\frac{\\overline{M}_w}{\\overline{M}_n}\n",
    "$$\n",
    "\n",
    "* Degree of Polymerization (DP) and the degree of polymerization from the monomer weight:\n",
    " \n",
    "$$\n",
    "\\text{DP} = \\frac{\\overline{M}_n}{M_0}\n",
    "$$\n",
    "\n",
    "where:\n",
    "- $ x_i=N_i / N_{total} $ is the mole fraction\n",
    "- $ N_i $ is the number of molecules with molecular weight $ M_i $.\n",
    "- $ M_0 $ is the molecular weight of the repeating unit (monomer), in this case 56 g/mol.\n",
    "\n",
    "## Tasks\n",
    "\n",
    "Compute the following quantities using numpy arrays:\n",
    "\n",
    "-  the weight averaged molecular weight $\\overline{M}_w$)\n",
    "-  the polydispersity index\n",
    "-  the degree of polymerization"
   ]
  },
  {
   "cell_type": "code",
   "execution_count": null,
   "id": "71662749-df00-4ea6-8d82-5c83e9b80c2e",
   "metadata": {},
   "outputs": [],
   "source": [
    "import numpy as np\n",
    "# Use the center of the molecular weight ranges (Mw_i)\n",
    "M = np.array([\n",
    "    (0 + 4000) / 2,\n",
    "    (4000 + 8000) / 2,\n",
    "    (8000 + 12000) / 2,\n",
    "    (12000 + 16000) / 2,\n",
    "    (16000 + 20000) / 2,\n",
    "    (20000 + 24000) / 2,\n",
    "    (24000 + 28000) / 2,\n",
    "    (28000 + 32000) / 2,\n",
    "])\n",
    "# Mole fractions (x_i)\n",
    "x = np.array([0.0, 0.05, 0.15, 0.20, 0.30, 0.20, 0.10, 0.03])\n",
    "print(\"M:\", M)\n",
    "print(\"x:\", x)"
   ]
  },
  {
   "cell_type": "code",
   "execution_count": null,
   "id": "ef32f8bc-ced1-43d0-a0c6-0cfe5bd69585",
   "metadata": {},
   "outputs": [],
   "source": [
    "import matplotlib.pyplot as plt\n",
    "# Plotting the molecular weight distribution (MWD)\n",
    "plt.figure(figsize=(10, 6))\n",
    "plt.bar(M, x, width=2000, align='center', alpha=0.7, color='b')\n",
    "plt.xlabel('Molecular Weight ($Mw_i$) g/mol')\n",
    "plt.ylabel('mole fraction ($x_i$)')\n",
    "plt.title('Molecular Weight Distribution (MWD)')\n",
    "plt.grid(False)\n",
    "plt.show()"
   ]
  },
  {
   "cell_type": "markdown",
   "id": "477e8acb-9682-496d-acb4-76fdb7644071",
   "metadata": {},
   "source": [
    "### Exercise: Molecular Weight Distribution\n",
    "\n",
    "- Compute and print the weight average molecular weight $\\overline{M}_w$ using NumPy\n",
    "- Compute and print the Polydispersity index $\\text{PDI} $\n",
    "- Compute and print the degree of polymerization $\\text{DP}$\n"
   ]
  },
  {
   "cell_type": "code",
   "execution_count": null,
   "id": "2481f6d2-ddde-4c39-8b1e-b9424831204d",
   "metadata": {},
   "outputs": [],
   "source": [
    "# Computing Mn and Mw\n",
    "Mn = np.sum(x*M)\n",
    "Mw # <- compute the MW here\n",
    "print(f\"Mn: {Mn:.1f} g/mol and Mw: {Mw:.1f} g(mol\")"
   ]
  },
  {
   "cell_type": "code",
   "execution_count": null,
   "id": "14911d69-939a-4bbe-945b-2f446c9868d9",
   "metadata": {},
   "outputs": [],
   "source": [
    "PDI # <- compute the polydispersity index here\n",
    "print(f\"Polydispersity index: {PDI:.1f}\")"
   ]
  },
  {
   "cell_type": "code",
   "execution_count": null,
   "id": "b5e2d1f3",
   "metadata": {},
   "outputs": [],
   "source": [
    "DP  # <- Computing the degree of polymerization \n",
    "print(f\"Degree of polymerization: {DP:.1f}\")    "
   ]
  },
  {
   "cell_type": "markdown",
   "id": "305984a4-3698-4718-bd7f-f2fdaeaf8bdd",
   "metadata": {},
   "source": [
    "## Plotting with Matplotlib\n",
    "\n",
    "In matplotlib, one can often use either Python's lists or NumPy's arrays.  \n",
    "The plot functions can take both data types.\n",
    "It is however recommended to use arrays to make use of the vectorized operations of NumPy.\n"
   ]
  },
  {
   "cell_type": "code",
   "execution_count": null,
   "id": "77d9729a-7939-45d6-b820-3649bd7233cc",
   "metadata": {},
   "outputs": [],
   "source": [
    "import numpy as np\n",
    "import matplotlib.pyplot as plt"
   ]
  },
  {
   "cell_type": "code",
   "execution_count": null,
   "id": "617a0f37-f95f-448d-8053-00d81ac148eb",
   "metadata": {},
   "outputs": [],
   "source": [
    "x = np.array([-5,-4,-3,-2,-1,0,1,2,3,4,5])\n",
    "y = x**3\n",
    "plt.title('Line Plot')\n",
    "plt.plot(x,y)"
   ]
  },
  {
   "cell_type": "code",
   "execution_count": null,
   "id": "b55b10a7-39a2-46d5-9a0f-881478795907",
   "metadata": {},
   "outputs": [],
   "source": [
    "plt.scatter(x, y)\n",
    "plt.title('Scatter Plot')\n",
    "plt.show()"
   ]
  },
  {
   "cell_type": "code",
   "execution_count": null,
   "id": "7549c8de-1d5c-4c7d-99db-5442d1651eb7",
   "metadata": {},
   "outputs": [],
   "source": [
    "categories = ['A', 'B', 'C']\n",
    "values = [10, 20, 15]\n",
    "plt.bar(categories, values)\n",
    "plt.title('Bar Plot')\n",
    "plt.show()"
   ]
  },
  {
   "cell_type": "code",
   "execution_count": null,
   "id": "10c15437-e7aa-471c-862e-14e3d8c8dd71",
   "metadata": {},
   "outputs": [],
   "source": [
    "data = [1, 2, 2, 3, 3, 3, 4, 4, 4, 4]\n",
    "plt.hist(data, bins=4)\n",
    "plt.title('Histogram')\n",
    "plt.show()"
   ]
  },
  {
   "cell_type": "code",
   "execution_count": null,
   "id": "b82b3a04-4869-49d7-ab37-66d4bc3cdf0f",
   "metadata": {},
   "outputs": [],
   "source": [
    "data = [[19, 27, 28, 29, 30, 31, 32, 33, 34, 35, 37, 39, 40], [10, 27, 28, 29, 50, 31, 32, 33, 34, 35, 37, 39, 40]]\n",
    "plt.boxplot(data)\n",
    "plt.title('Box Plot')\n",
    "plt.show()"
   ]
  },
  {
   "cell_type": "code",
   "execution_count": null,
   "id": "6353ed59-c622-479b-bf75-20447a36b980",
   "metadata": {},
   "outputs": [],
   "source": [
    "sizes = [30, 20, 50]\n",
    "labels = ['A', 'B', 'C']\n",
    "plt.pie(sizes, labels=labels)\n",
    "plt.title('Pie Chart')\n",
    "plt.show()"
   ]
  },
  {
   "cell_type": "code",
   "execution_count": null,
   "id": "bd76689e-14d7-49c3-af01-3ca4914d1293",
   "metadata": {},
   "outputs": [],
   "source": [
    "import numpy as np\n",
    "\n",
    "matrix_data = np.array([[1, 2, 3], [4, 5, 6], [7, 8, 9]])\n",
    "plt.imshow(matrix_data, cmap='viridis')\n",
    "plt.colorbar()\n",
    "plt.title('Heatmap')\n",
    "plt.show()"
   ]
  },
  {
   "cell_type": "markdown",
   "id": "91b06af2-5191-4a2c-bbef-5a1f8cdf8b0c",
   "metadata": {},
   "source": [
    "## Exercise: First order decay reaction\n",
    "\n",
    "A first order reaction is a reaction where the rate depends on the concentration of the reactant at time $t$.\n",
    "Examples include:\n",
    "- Decomposition of a single reactant\n",
    "- Nuclear decay\n",
    "\n",
    "The rate of a first order reaction is given by:\n",
    "\n",
    "#### Rate Law\n",
    "$ \\frac{d[A]}{dt} = k[A] $\n",
    "\n",
    "with $k$ being the rate constant and $[A]$ being the concentration of the reactant at time $t$.\n",
    "\n",
    "Solving this differential equation gives the integrated rate law:\n",
    "\n",
    "$ [A] = [A]_0 e^{-kt} $\n",
    "\n",
    "### Tasks\n",
    "\n",
    "- Compute the concentration at time t for the first plot using numpy `np.exp` function\n",
    "- Compute the concentration of the reactant at time $t$ for different rate constants\n",
    "- Plot the concentration vs time for different rate constants\n",
    "- (Bonus) Plot the concentration vs time for different initial concentrations  \n",
    "\n",
    "- (Bonus) Determine the half-life of the reaction by iterating over the time vector and finding the time when the concentration is half of the initial concentration (Note: usually this is not done numerically but analytically, i.e. by directly solving the integrated rate law for $t_{1/2}$)\n"
   ]
  },
  {
   "cell_type": "code",
   "execution_count": null,
   "id": "a59bd52d-a740-4d51-8886-6da34e7d86ec",
   "metadata": {},
   "outputs": [],
   "source": [
    "# define the initial concentration and the rate constant\n",
    "A0, k = 10, 0.5\n",
    "# define the time vector from 0 to 10 seconds in 20 steps\n",
    "t = np.linspace(0,10,20)\n",
    "t"
   ]
  },
  {
   "cell_type": "code",
   "execution_count": null,
   "id": "d6a97b00-578a-4592-bb12-a12d5be887e2",
   "metadata": {},
   "outputs": [],
   "source": [
    "# compute the concentration at time t\n",
    "A # <- compute the concentration at time t here"
   ]
  },
  {
   "cell_type": "code",
   "execution_count": null,
   "id": "f947306f-9671-4c8c-951c-7ff1c411831d",
   "metadata": {},
   "outputs": [],
   "source": [
    "# plot the concentration vs time\n",
    "plt.plot(t,A,c='m',lw=1, ls=':', marker='o')\n",
    "plt.xlabel('t/s')\n",
    "plt.ylabel('[A] / mol.dm^-3')"
   ]
  },
  {
   "cell_type": "code",
   "execution_count": null,
   "id": "8c21ea52-74ee-4d8a-96dd-95dcc9733481",
   "metadata": {},
   "outputs": [],
   "source": [
    "# plot the concentration vs time for different rate constants\n",
    "A0 = 10\n",
    "rate_constants = [0.2, 0.4 ,2] # define the rate constants\n",
    "t = np.linspace(0,20,15)\n",
    "\n",
    "# <- loop over the rate constants with a for loop\n",
    "    # <- compute the concentration at time t\n",
    "    # plot the concentration vs time    \n",
    "    # plt.plot(t,A,lw=1, ls=':',  marker='o', label=f\"k={k} s-1\")\n",
    "plt.xlabel('t/s')\n",
    "plt.ylabel('[A] / mol.dm^-3')\n",
    "plt.legend()"
   ]
  }
 ],
 "metadata": {
  "kernelspec": {
   "display_name": "Python 3 (ipykernel)",
   "language": "python",
   "name": "python3"
  },
  "language_info": {
   "codemirror_mode": {
    "name": "ipython",
    "version": 3
   },
   "file_extension": ".py",
   "mimetype": "text/x-python",
   "name": "python",
   "nbconvert_exporter": "python",
   "pygments_lexer": "ipython3",
   "version": "3.11.11"
  }
 },
 "nbformat": 4,
 "nbformat_minor": 5
}
