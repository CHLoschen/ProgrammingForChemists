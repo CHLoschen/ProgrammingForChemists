{
 "cells": [
  {
   "cell_type": "markdown",
   "id": "448dfcba-df82-491c-ae07-8e101066dd33",
   "metadata": {},
   "source": [
    "# Simulation & Visualisation Examples \n",
    "\n",
    "You will need the libraries [ase](https://wiki.fysik.dtu.dk/ase/) and [nglview](https://github.com/nglviewer/nglview)\n",
    "\n",
    "e.g.: `pip install ase nglview`\n",
    "\n",
    "### Visualisation of a Protein\n",
    "\n",
    "https://www.rcsb.org/"
   ]
  },
  {
   "cell_type": "code",
   "execution_count": null,
   "id": "188c02a0-ced2-45ff-b17d-4d28015db8a6",
   "metadata": {},
   "outputs": [],
   "source": [
    "!pip install ase nglview"
   ]
  },
  {
   "cell_type": "code",
   "execution_count": null,
   "id": "5bd696e9-9aa6-4178-8940-c9bbbe7263c2",
   "metadata": {},
   "outputs": [],
   "source": [
    "import nglview\n",
    "view = nglview.show_pdbid(\"3pqr\")  # load \"3pqr\" from RCSB PDB\n",
    "view"
   ]
  },
  {
   "cell_type": "code",
   "execution_count": null,
   "id": "76009d73-d786-4206-bda6-3f8e08c1fee9",
   "metadata": {},
   "outputs": [],
   "source": [
    "def show_system(atoms):\n",
    "    v = view(atoms, viewer=\"ngl\")\n",
    "    v.view._remote_call(\"setSize\", target=\"Widget\", args=[\"700px\",\"700px\"])\n",
    "    v.view.add_ball_and_stick()\n",
    "    v.view.background=\"black\"\n",
    "    return v"
   ]
  },
  {
   "cell_type": "markdown",
   "id": "92a859b5-ec04-49f4-92b9-0c562c4623c6",
   "metadata": {},
   "source": [
    "###  Molecular Dynamics Simulation of Acetonitrile"
   ]
  },
  {
   "cell_type": "code",
   "execution_count": null,
   "id": "524d5d39-0213-43c4-b3e0-9f6fcc1f048a",
   "metadata": {},
   "outputs": [],
   "source": [
    "%%time\n",
    "# load the necessary functions and modules\n",
    "import ase.units as units\n",
    "import numpy as np\n",
    "from ase.calculators.acn import ACN\n",
    "from ase.constraints import FixLinearTriatomic\n",
    "from ase.io import Trajectory,write, read\n",
    "from ase.md import Langevin\n",
    "\n",
    "# read coorrdinates from file\n",
    "atoms = read(\"acn.xyz\") \n",
    "tag = 'acn'\n",
    "\n",
    "# set up some constraints, to accelerate dynamics\n",
    "atoms.constraints = FixLinearTriatomic(\n",
    "    triples=[(3 * i, 3 * i + 1, 3 * i + 2)\n",
    "             for i in range(27)])\n",
    "\n",
    "# define the molecular dynamics physics / rules / model\n",
    "atoms.calc = ACN(rc=np.min(np.diag(atoms.cell)) / 2)\n",
    "\n",
    "# define the simulation details, temperature, time steps, parameters, logfile name\n",
    "md = Langevin(atoms, 1 * units.fs,\n",
    "              temperature=300 * units.kB,\n",
    "              friction=0.01,\n",
    "              logfile=tag + '.log')\n",
    "\n",
    "# define a file to save the generated structures during the dynamics\n",
    "traj = Trajectory(tag + '.traj', 'w', atoms)\n",
    "md.attach(traj.write, interval=10)\n",
    "\n",
    "# start the simulation for n time steps\n",
    "md.run(200)"
   ]
  },
  {
   "cell_type": "code",
   "execution_count": null,
   "id": "78278dac-b522-40a9-97c5-9fc9528b95f2",
   "metadata": {},
   "outputs": [],
   "source": [
    "# visualization of the dynamics\n",
    "traj = Trajectory(\"acn.traj\")\n",
    "show_system(traj)"
   ]
  },
  {
   "cell_type": "code",
   "execution_count": null,
   "id": "13c324e6-b777-43bd-99eb-b885255dfc82",
   "metadata": {},
   "outputs": [],
   "source": []
  }
 ],
 "metadata": {
  "kernelspec": {
   "display_name": "Python 3 (ipykernel)",
   "language": "python",
   "name": "python3"
  },
  "language_info": {
   "codemirror_mode": {
    "name": "ipython",
    "version": 3
   },
   "file_extension": ".py",
   "mimetype": "text/x-python",
   "name": "python",
   "nbconvert_exporter": "python",
   "pygments_lexer": "ipython3",
   "version": "3.10.12"
  }
 },
 "nbformat": 4,
 "nbformat_minor": 5
}
