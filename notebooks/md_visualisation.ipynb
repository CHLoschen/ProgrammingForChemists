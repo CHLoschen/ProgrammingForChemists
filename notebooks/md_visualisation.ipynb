{
 "cells": [
  {
   "cell_type": "markdown",
   "id": "448dfcba-df82-491c-ae07-8e101066dd33",
   "metadata": {},
   "source": [
    "# Simulation & Visualisation Examples \n",
    "\n",
    "### Visualisation of a Protein\n",
    "\n",
    "https://www.rcsb.org/"
   ]
  },
  {
   "cell_type": "code",
   "execution_count": 20,
   "id": "5bd696e9-9aa6-4178-8940-c9bbbe7263c2",
   "metadata": {},
   "outputs": [
    {
     "data": {
      "application/vnd.jupyter.widget-view+json": {
       "model_id": "3c471c6701bc4e62800093bab2804aaa",
       "version_major": 2,
       "version_minor": 0
      },
      "text/plain": [
       "NGLWidget()"
      ]
     },
     "metadata": {},
     "output_type": "display_data"
    }
   ],
   "source": [
    "import nglview\n",
    "view = nglview.show_pdbid(\"3pqr\")  # load \"3pqr\" from RCSB PDB\n",
    "view"
   ]
  },
  {
   "cell_type": "code",
   "execution_count": 66,
   "id": "76009d73-d786-4206-bda6-3f8e08c1fee9",
   "metadata": {},
   "outputs": [],
   "source": [
    "def show_system(atoms):\n",
    "    v = view(atoms, viewer=\"ngl\")\n",
    "    v.view._remote_call(\"setSize\", target=\"Widget\", args=[\"700px\",\"700px\"])\n",
    "    v.view.add_ball_and_stick()\n",
    "    v.view.background=\"black\"\n",
    "    return v"
   ]
  },
  {
   "cell_type": "markdown",
   "id": "92a859b5-ec04-49f4-92b9-0c562c4623c6",
   "metadata": {},
   "source": [
    "###  Molecular Dynamics Simulation of Acetonitrile"
   ]
  },
  {
   "cell_type": "code",
   "execution_count": null,
   "id": "524d5d39-0213-43c4-b3e0-9f6fcc1f048a",
   "metadata": {},
   "outputs": [],
   "source": [
    "%%time\n",
    "import ase.units as units\n",
    "from ase.calculators.acn import ACN\n",
    "from ase.constraints import FixLinearTriatomic\n",
    "from ase.io import Trajectory,write\n",
    "from ase.md import Langevin\n",
    "\n",
    "atoms = read(\"acn.xyz\")\n",
    "atoms.constraints = FixLinearTriatomic(\n",
    "    triples=[(3 * i, 3 * i + 1, 3 * i + 2)\n",
    "             for i in range(nm)])\n",
    "tag = 'acn'\n",
    "atoms.calc = ACN(rc=np.min(np.diag(atoms.cell)) / 2)\n",
    "\n",
    "# Create Langevin object\n",
    "md = Langevin(atoms, 1 * units.fs,\n",
    "              temperature=300 * units.kB,\n",
    "              friction=0.01,\n",
    "              logfile=tag + '.log')\n",
    "\n",
    "traj = Trajectory(tag + '.traj', 'w', atoms)\n",
    "md.attach(traj.write, interval=10)\n",
    "md.run(20000)"
   ]
  },
  {
   "cell_type": "code",
   "execution_count": null,
   "id": "78278dac-b522-40a9-97c5-9fc9528b95f2",
   "metadata": {},
   "outputs": [],
   "source": [
    "traj = Trajectory(\"acn.traj\")\n",
    "show_system(traj)"
   ]
  },
  {
   "cell_type": "code",
   "execution_count": null,
   "id": "13c324e6-b777-43bd-99eb-b885255dfc82",
   "metadata": {},
   "outputs": [],
   "source": []
  }
 ],
 "metadata": {
  "kernelspec": {
   "display_name": "Python 3 (ipykernel)",
   "language": "python",
   "name": "python3"
  },
  "language_info": {
   "codemirror_mode": {
    "name": "ipython",
    "version": 3
   },
   "file_extension": ".py",
   "mimetype": "text/x-python",
   "name": "python",
   "nbconvert_exporter": "python",
   "pygments_lexer": "ipython3",
   "version": "3.10.12"
  }
 },
 "nbformat": 4,
 "nbformat_minor": 5
}
