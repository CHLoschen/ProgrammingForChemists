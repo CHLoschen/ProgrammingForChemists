{
 "cells": [
  {
   "cell_type": "markdown",
   "id": "448dfcba-df82-491c-ae07-8e101066dd33",
   "metadata": {},
   "source": [
    "# Visualisation & Simulation Examples \n",
    "\n",
    "You will need the to install the Python libraries [ase](https://wiki.fysik.dtu.dk/ase/) and [nglview](https://github.com/nglviewer/nglview)\n",
    "\n",
    "e.g.: `pip install ase nglview`\n",
    "\n",
    "**Note**: Its not expected that you understand in detail what is happening in this notebook yet. Its merely a demonstration of what can be done with a few lines of Python code.  \n",
    "However, you will understand it at the end of the lecture!\n",
    "\n",
    "### Visualisation of a Protein\n",
    "\n",
    "https://www.rcsb.org/structure/2HHB\n",
    "\n",
    "Hemoglobin is essential for oxygen transport in blood, binding oxygen in the lungs and releasing it in tissues.\n"
   ]
  },
  {
   "cell_type": "code",
   "execution_count": null,
   "id": "188c02a0-ced2-45ff-b17d-4d28015db8a6",
   "metadata": {},
   "outputs": [],
   "source": [
    "!pip install ase nglview"
   ]
  },
  {
   "cell_type": "code",
   "execution_count": null,
   "id": "5bd696e9-9aa6-4178-8940-c9bbbe7263c2",
   "metadata": {},
   "outputs": [],
   "source": [
    "import nglview\n",
    "nglview.show_pdbid(\"2HHB\")  # load \"2HHB\" from RCSB PDB"
   ]
  },
  {
   "cell_type": "markdown",
   "id": "92a859b5-ec04-49f4-92b9-0c562c4623c6",
   "metadata": {},
   "source": [
    "###  Molecular Dynamics Simulation of Acetonitrile\n",
    "\n",
    "\n",
    "A [molecular dynamics](https://en.wikipedia.org/wiki/Molecular_dynamics#:~:text=Molecular%20dynamics%20(MD)%20is%20a,%22evolution%22%20of%20the%20system.) (MD) simulates atomic and molecular movements over time by solving Newton's equations of motion, using force fields to calculate interactions.   \n",
    "It is widely used in chemical physics, materials science, and biophysics.\n"
   ]
  },
  {
   "cell_type": "code",
   "execution_count": null,
   "id": "76009d73-d786-4206-bda6-3f8e08c1fee9",
   "metadata": {},
   "outputs": [],
   "source": [
    "# load the necessary functions and modules\n",
    "import ase.units as units\n",
    "import numpy as np\n",
    "from ase.calculators.acn import ACN\n",
    "from ase.constraints import FixLinearTriatomic\n",
    "from ase.io import Trajectory,write, read\n",
    "from ase.md import Langevin\n",
    "from ase.visualize import view\n",
    "\n",
    "# helper functions for showing output of simulation\n",
    "def show_system(atoms):\n",
    "    v = view(atoms, viewer=\"ngl\")\n",
    "    v.view._remote_call(\"setSize\", target=\"Widget\", args=[\"700px\",\"700px\"])\n",
    "    v.view.add_ball_and_stick()\n",
    "    v.view.background=\"black\"\n",
    "    return v\n",
    "\n",
    "def print_energy(atoms):\n",
    "    epot = atoms.get_potential_energy()\n",
    "    ekin = atoms.get_kinetic_energy()\n",
    "    temperature = atoms.get_kinetic_energy()/len(atoms)/(1.5*units.kB)\n",
    "    print(f\"Potential Energy: {epot:.3f} Kinetic Energy: {ekin:.3f} Temperature: {temperature:.1f}\")\n"
   ]
  },
  {
   "cell_type": "code",
   "execution_count": null,
   "id": "34f4e48e-c6f8-40e2-877f-7058fe79a170",
   "metadata": {},
   "outputs": [],
   "source": [
    "#!cat acn.xyz"
   ]
  },
  {
   "cell_type": "code",
   "execution_count": null,
   "id": "524d5d39-0213-43c4-b3e0-9f6fcc1f048a",
   "metadata": {},
   "outputs": [],
   "source": [
    "%%time\n",
    "# read coorrdinates from file\n",
    "atoms = read(\"../data/acn.xyz\") \n",
    "tag = 'acn'\n",
    "\n",
    "# set up some constraints, to accelerate dynamics\n",
    "atoms.constraints = FixLinearTriatomic(\n",
    "    triples=[(3 * i, 3 * i + 1, 3 * i + 2)\n",
    "             for i in range(27)])\n",
    "\n",
    "# define the molecular dynamics physics / rules / model\n",
    "atoms.calc = ACN(rc=np.min(np.diag(atoms.cell)) / 2)\n",
    "# define the simulation details, temperature, time steps, parameters, logfile name\n",
    "md = Langevin(atoms, 1 * units.fs,\n",
    "              temperature_K=300,\n",
    "              friction=0.01,\n",
    "              logfile=tag + '.log')\n",
    "\n",
    "# define a file to save the generated structures during the dynamics\n",
    "traj = Trajectory(tag + '.traj', 'w', atoms)\n",
    "md.attach(traj.write, interval=10)\n",
    "md.attach(print_energy,interval=10,atoms=atoms)\n",
    "\n",
    "# start the simulation for n time steps\n",
    "n_steps = 2000\n",
    "md.run(n_steps)"
   ]
  },
  {
   "cell_type": "code",
   "execution_count": null,
   "id": "78278dac-b522-40a9-97c5-9fc9528b95f2",
   "metadata": {},
   "outputs": [],
   "source": [
    "# visualization of the dynamics\n",
    "traj = Trajectory(\"acn.traj\")\n",
    "show_system(traj)"
   ]
  },
  {
   "cell_type": "markdown",
   "id": "c0fb11d9-db48-47f5-b471-36f0b26a4fc2",
   "metadata": {},
   "source": [
    "### Exercise\n",
    "\n",
    "* Find the temperature parameter. Set the temperature to 100 K and observe the result.\n",
    "* The result will not be what you expect. Which parameter should be changed in addition?\n",
    "* How would you change the code to continue on the previous results?"
   ]
  },
  {
   "cell_type": "code",
   "execution_count": null,
   "id": "f8eb80f9-04e3-4f09-97b3-0f977a4ccd56",
   "metadata": {},
   "outputs": [],
   "source": []
  }
 ],
 "metadata": {
  "kernelspec": {
   "display_name": "Python 3 (ipykernel)",
   "language": "python",
   "name": "python3"
  },
  "language_info": {
   "codemirror_mode": {
    "name": "ipython",
    "version": 3
   },
   "file_extension": ".py",
   "mimetype": "text/x-python",
   "name": "python",
   "nbconvert_exporter": "python",
   "pygments_lexer": "ipython3",
   "version": "3.10.13"
  }
 },
 "nbformat": 4,
 "nbformat_minor": 5
}
