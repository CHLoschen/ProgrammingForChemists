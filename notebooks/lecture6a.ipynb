{
 "cells": [
  {
   "cell_type": "markdown",
   "id": "ff7ba47b-da80-4138-a798-d17183c2cbf3",
   "metadata": {},
   "source": [
    "# Python Programming for Chemists: Vectors, Matrices & Linear Algebra\n",
    "\n",
    "Note, that only a small part of Linear Algebra topics are discussed here.  \n",
    "For a nice introduction, see [3Blue1Brown](https://www.youtube.com/watch?v=fNk_zzaMoSs&list=PLZHQObOWTQDPD3MizzM2xVFitgF8hE_ab&index=1) and subsequent videos.\n",
    "\n",
    "Lets start with a short review of vectors, matrices and tensors.\n"
   ]
  },
  {
   "cell_type": "markdown",
   "id": "fec42b9d-22bb-44a9-9aae-764a3acf8018",
   "metadata": {},
   "source": [
    "### Vector Addition\n",
    "If **a** and **b** are vectors, their addition is given by:\n",
    "$ \\mathbf{a} + \\mathbf{b} = \\begin{bmatrix} a_1 \\\\ a_2 \\\\ a_3 \\end{bmatrix} + \\begin{bmatrix} b_1 \\\\ b_2 \\\\ b_3 \\end{bmatrix} = \\begin{bmatrix} a_1 + b_1 \\\\ a_2 + b_2 \\\\ a_3 + b_3 \\end{bmatrix} $\n",
    "\n",
    "### Vector Subtraction\n",
    "If **a** and **b** are vectors, their subtraction is given by:\n",
    "$ \\mathbf{a} - \\mathbf{b} = \\begin{bmatrix} a_1 \\\\ a_2 \\\\ a_3 \\end{bmatrix} - \\begin{bmatrix} b_1 \\\\ b_2 \\\\ b_3 \\end{bmatrix} = \\begin{bmatrix} a_1 - b_1 \\\\ a_2 - b_2 \\\\ a_3 - b_3 \\end{bmatrix} $\n",
    "\n",
    "### Scalar Multiplication\n",
    "If **a** is a vector and **c** is a scalar, their multiplication is given by:\n",
    "$ c \\mathbf{a} = c \\begin{bmatrix} a_1 \\\\ a_2 \\\\ a_3 \\end{bmatrix} = \\begin{bmatrix} c a_1 \\\\ c a_2 \\\\ c a_3 \\end{bmatrix} $\n",
    "\n",
    "### Element-wise (Hadamard) Multiplication\n",
    "If **a** and **b** are vectors, their element-wise multiplication is given by:\n",
    "$ \\mathbf{a} \\circ \\mathbf{b} = \\begin{bmatrix} a_1 \\\\ a_2 \\\\ a_3 \\end{bmatrix} \\circ \\begin{bmatrix} b_1 \\\\ b_2 \\\\ b_3 \\end{bmatrix} = \\begin{bmatrix} a_1 b_1 \\\\ a_2 b_2 \\\\ a_3 b_3 \\end{bmatrix} $\n",
    "\n",
    "\n",
    "### Dot Product\n",
    "If **a** and **b** are vectors, their dot product is given by:\n",
    "$ \\mathbf{a} \\cdot \\mathbf{b} = a_1 b_1 + a_2 b_2 + a_3 b_3 $\n",
    "\n",
    "### Cross Product\n",
    "If **a** and **b** are vectors, their cross product is given by:\n",
    "$ \\mathbf{a} \\times \\mathbf{b} =  \\begin{bmatrix}\n",
    "a_2 b_3 - a_3 b_2 \\\\\n",
    "a_3 b_1 - a_1 b_3 \\\\\n",
    "a_1 b_2 - a_2 b_1\n",
    "\\end{bmatrix} $\n"
   ]
  },
  {
   "cell_type": "code",
   "execution_count": null,
   "id": "1e0f7aa9-2d74-4f45-9364-c3c0a7f9dd5f",
   "metadata": {},
   "outputs": [],
   "source": [
    "import numpy as np\n",
    "# create 2 vectors with shape (3,)\n",
    "a = np.array([4,0,8])\n",
    "b = np.array([-2,1,3])\n",
    "# vector addition: a+b=[4-2,0+1,8+3]\n",
    "a+b "
   ]
  },
  {
   "cell_type": "code",
   "execution_count": null,
   "id": "26d9b629",
   "metadata": {},
   "outputs": [],
   "source": [
    "# shape/dimension of vector a is given as an integer tuple:\n",
    "a.shape"
   ]
  },
  {
   "cell_type": "code",
   "execution_count": null,
   "id": "69b83c68-0aa6-4898-9e6e-d20f6c214e10",
   "metadata": {},
   "outputs": [],
   "source": [
    "# vector subtraction: a-b=[4--2,0-1,8-3]\n",
    "a-b "
   ]
  },
  {
   "cell_type": "code",
   "execution_count": null,
   "id": "b0fd96cc-fc37-462f-a3d2-aa2aab4cebb1",
   "metadata": {},
   "outputs": [],
   "source": [
    " # element wise multiplication: a*b=[4*-2,0*1,8*3]\n",
    "a*b"
   ]
  },
  {
   "cell_type": "code",
   "execution_count": null,
   "id": "dcf4352f-c91e-4cf9-926d-aeb348ec7f66",
   "metadata": {},
   "outputs": [],
   "source": [
    "# scalar multiplication: c*a=[5*4,5*0,5*8]\n",
    "c = 5 \n",
    "c * a"
   ]
  },
  {
   "cell_type": "code",
   "execution_count": null,
   "id": "3c1421f0-8bf9-4951-ae46-f22563458cb9",
   "metadata": {},
   "outputs": [],
   "source": [
    "# dot product: a@b=4*-2 + 0*1 + 8*3 = -8 + 0 + 24 = 16\n",
    "a@b "
   ]
  },
  {
   "cell_type": "code",
   "execution_count": null,
   "id": "840c12c5-2e90-4c47-a8df-f059dcd07c9f",
   "metadata": {},
   "outputs": [],
   "source": [
    "# dot product: a@b=4*-2 + 0*1 + 8*4 = 24\n",
    "a.dot(b)"
   ]
  },
  {
   "cell_type": "markdown",
   "id": "500c886b-ad55-411f-bfe5-5fa8d1f710b9",
   "metadata": {},
   "source": [
    "### Row and column vectors\n"
   ]
  },
  {
   "cell_type": "code",
   "execution_count": null,
   "id": "e98fb191-77e8-4676-abb2-72f7d7d09599",
   "metadata": {},
   "outputs": [],
   "source": [
    "# 1D vector (shape: (4,))\n",
    "v_1D = np.array([1,2,3,4])\n",
    "# shape: 4 entries\n",
    "v_1D.shape "
   ]
  },
  {
   "cell_type": "code",
   "execution_count": null,
   "id": "ee4c3694-7d3a-4534-bf20-336e78a1d8b4",
   "metadata": {},
   "outputs": [],
   "source": [
    "# Row vector (shape: (1, 4))\n",
    "v_row = np.array([[1, 2, 3, 4]])\n",
    " # shape: 1 row and 4 columns\n",
    "v_row.shape"
   ]
  },
  {
   "cell_type": "code",
   "execution_count": null,
   "id": "04225558-a1bf-4502-ad69-1b2fa2eb3ca6",
   "metadata": {},
   "outputs": [],
   "source": [
    "# Column vector (shape: (4, 1))\n",
    "v_column = np.array([[1], [2], [3], [4]])\n",
    "v_column"
   ]
  },
  {
   "cell_type": "code",
   "execution_count": null,
   "id": "67882c0d-5005-4273-a317-8d27602689e3",
   "metadata": {},
   "outputs": [],
   "source": [
    "v_column.shape"
   ]
  },
  {
   "cell_type": "code",
   "execution_count": null,
   "id": "2913a21f-3bb5-41b7-9ca7-8adbc3c4c6f0",
   "metadata": {},
   "outputs": [],
   "source": [
    "v_column.T"
   ]
  },
  {
   "cell_type": "markdown",
   "id": "57d3118e-b7c6-4b25-b61e-c6262eff8bd4",
   "metadata": {},
   "source": [
    "### Matrices"
   ]
  },
  {
   "cell_type": "code",
   "execution_count": null,
   "id": "de09f327-200d-4b58-b2ec-510abf1857bf",
   "metadata": {},
   "outputs": [],
   "source": [
    "# Creation of a matrix (shape: (3, 3)) from a list of lists\n",
    "M = np.array([[1,2,3],[4,5,6],[7,8,9]])\n",
    "M"
   ]
  },
  {
   "cell_type": "code",
   "execution_count": null,
   "id": "f1832476-5aa0-4f90-9b74-93999c7d09f9",
   "metadata": {},
   "outputs": [],
   "source": [
    "# creation from reshaping a 1D array:\n",
    "M = np.array([1,2,3,4,5,6,7,8,9])\n",
    "M.reshape((3,3))"
   ]
  },
  {
   "cell_type": "code",
   "execution_count": null,
   "id": "f2f45281-27b4-416f-bfd5-de8db692fc0f",
   "metadata": {},
   "outputs": [],
   "source": [
    "# so-called identity matrix\n",
    "np.eye(3)"
   ]
  },
  {
   "cell_type": "markdown",
   "id": "89c62f2a-0c58-4c64-9297-3ef0073d9619",
   "metadata": {},
   "source": [
    "### Tensors"
   ]
  },
  {
   "cell_type": "code",
   "execution_count": null,
   "id": "0df2df71-0566-4e9c-804e-8814e0c59bca",
   "metadata": {},
   "outputs": [],
   "source": [
    "# 3-dimensional Tensor\n",
    "tensor_3d = np.array([\n",
    "    [\n",
    "        [1, 2],\n",
    "        [3, 4]\n",
    "    ],\n",
    "    [\n",
    "        [5, 6],\n",
    "        [7, 8]\n",
    "    ]\n",
    "])\n",
    "print(\"3D Tensor:\\n\", tensor_3d)"
   ]
  },
  {
   "cell_type": "code",
   "execution_count": null,
   "id": "6f2f272b-ef39-45e8-b009-bfe06ef55553",
   "metadata": {},
   "outputs": [],
   "source": [
    "tensor_3d.shape"
   ]
  },
  {
   "cell_type": "markdown",
   "id": "e23689d7-a257-4f09-8c71-1f5868d72cb6",
   "metadata": {},
   "source": [
    "### Vector Matrix Multiplication\n",
    "\n",
    "Each element of the resulting vector is calculated as the dot product of the corresponding row of the matrix and the vector:  \n",
    "\n",
    "$\n",
    "\\mathbf{A} \\mathbf{v} = \\begin{bmatrix}\n",
    "1 & 4 & 7 \\\\\n",
    "2 & 5 & 8\n",
    "\\end{bmatrix}\n",
    "\\begin{bmatrix}\n",
    "1 \\\\\n",
    "2 \\\\\n",
    "3\n",
    "\\end{bmatrix}\n",
    "$\n",
    "\n",
    "$\n",
    "\\begin{bmatrix}\n",
    "(1 \\cdot 1) + (4 \\cdot 2) + (7 \\cdot 3) \\\\\n",
    "(2 \\cdot 1) + (5 \\cdot 2) + (8 \\cdot 3)\n",
    "\\end{bmatrix}\n",
    "$\n",
    "\n",
    "Performing the calculations:\n",
    "\n",
    "$\n",
    "\\begin{bmatrix}\n",
    "1 + 8 + 21 \\\\\n",
    "2 + 10 + 24\n",
    "\\end{bmatrix}\n",
    "= \\begin{bmatrix}\n",
    "30 \\\\\n",
    "36\n",
    "\\end{bmatrix}\n",
    "$"
   ]
  },
  {
   "cell_type": "code",
   "execution_count": null,
   "id": "e4f10405-f325-4c9a-a039-dd57a4315ee1",
   "metadata": {},
   "outputs": [],
   "source": [
    "# Define vector (shape: (3,)) and matrix (shape: (2, 3))\n",
    "v = np.array([1, 2, 3])\n",
    "A = np.array([\n",
    "    [1, 4, 7],\n",
    "    [2, 5, 8]\n",
    "])\n",
    "A,v"
   ]
  },
  {
   "cell_type": "code",
   "execution_count": null,
   "id": "7667bfd2-2c81-4a56-8b04-f86642bb290f",
   "metadata": {},
   "outputs": [],
   "source": [
    "# Perform the multiplication, the result will have shape (2,)\n",
    "u = np.dot(A, v)\n",
    "u"
   ]
  },
  {
   "cell_type": "markdown",
   "id": "98d3cf64",
   "metadata": {},
   "source": [
    "### Exercise 1: Basic Vector Operations\n",
    "\n",
    "#### Tasks:\n",
    "* Create two 3D vectors and perform the following operations:\n",
    "\n",
    "$a=\\begin{bmatrix} 2 \\\\ 3 \\\\ -1 \\end{bmatrix}  b=\\begin{bmatrix} 1 \\\\ 5 \\\\ 6 \\end{bmatrix}$\n",
    "\n",
    "\n",
    "* Calculate their sum  \n",
    "* Calculate their dot product  \n",
    "* Calculate their cross product  \n",
    "* Calculate the magnitude (norm) of each vector  "
   ]
  },
  {
   "cell_type": "markdown",
   "id": "a8e68e5b",
   "metadata": {},
   "source": [
    "### Exercise 2: Work Calculation\n",
    "\n",
    "In physics, **work** is defined as the dot product of force and displacement vectors:\n",
    "\n",
    "$W = \\mathbf{F} \\cdot \\mathbf{d}$\n",
    "\n",
    "where:\n",
    "- $\\mathbf{F}$ is the force vector in Newtons (N)\n",
    "- $\\mathbf{d}$ is the displacement vector in meters (m)\n",
    "- $W$ is the work done in Joules (J)\n",
    "\n",
    "#### Task:\n",
    "A force $\\mathbf{F}$ is applied to an object, causing it to move. The work done is 5 Joule. \n",
    "Compute the length of the displacement in meters.\n",
    "\n"
   ]
  },
  {
   "cell_type": "markdown",
   "id": "c784b06c",
   "metadata": {},
   "source": [
    "## Example: Stress Tensor in Matrix Notation\n",
    "The stress on a polymer material in a mechanical test can be represented as a tensor, using a concrete example:\n",
    "\n",
    "$$\n",
    "\\mathbf{\\tau} =\n",
    "\\begin{bmatrix}\n",
    "\\tau_{11} & \\tau_{12} & \\tau_{13} \\\\\n",
    "\\tau_{21} & \\tau_{22} & \\tau_{23} \\\\\n",
    "\\tau_{31} & \\tau_{32} & \\tau_{33}\n",
    "\\end{bmatrix}\n",
    " =\n",
    "\\begin{bmatrix}\n",
    "10 & 5 & 0 \\\\\n",
    "5 & 15 & 0 \\\\\n",
    "0 & 0 & 20\n",
    "\\end{bmatrix}\n",
    "$$\n",
    "\n",
    "\n",
    "### Normal Stresses\n",
    "The normal stresses ($\\tau_{11}$, $\\tau_{22}$, $\\tau_{33}$) from the diagonal of the tensor are:\n",
    "- $\\tau_{11} = 10 \\, \\text{MPa}$: This stress acts perpendicular to the surface in the $X1$/$x$-direction .\n",
    "- $\\tau_{22} = 15 \\, \\text{MPa}$: This stress acts perpendicular to the surface in the $X2$/$y$-direction.\n",
    "- $\\tau_{33} = 20 \\, \\text{MPa}$: This stress acts perpendicular to the surface in the $X3$/$z$-direction.\n",
    "\n",
    "### Shear Stresses\n",
    "All other stresses are shear stress components:\n",
    "\n",
    "- $\\tau_{12} = \\tau_{21} = 5 \\, \\text{MPa}$: This stress acts parallel to the surface in the $X1$/$x$-direction.\n",
    "- $\\tau_{31} = \\tau_{13} = 0 \\, \\text{MPa}$: No stress parallel to the surface in the $X3$/$z$-direction.\n",
    "\n",
    "Note that $\\tau_{12} = \\tau_{21}$ and $\\tau_{13} = \\tau_{31}$ and $\\tau_{23} = \\tau_{32}$ due to the symmetry of the stress tensor.\n",
    "\n"
   ]
  },
  {
   "cell_type": "code",
   "execution_count": null,
   "id": "3ddad429",
   "metadata": {},
   "outputs": [],
   "source": [
    "#Stress tensor (shape: (3, 3))\n",
    "stress_tensor = np.array([\n",
    "    [120, 45,   0],\n",
    "    [45,  150,  0],\n",
    "    [0,   0,   180]\n",
    "])"
   ]
  },
  {
   "cell_type": "markdown",
   "id": "daf98557-5c64-44ad-b1e2-09ea179d081a",
   "metadata": {},
   "source": [
    "## Linear Algebra functions\n",
    "\n",
    "Numpy comes with a lot of useful functions used for the calculations with matrices and vectors"
   ]
  },
  {
   "cell_type": "code",
   "execution_count": null,
   "id": "ae9806ad-1062-406e-b062-13cf72f79a86",
   "metadata": {},
   "outputs": [],
   "source": [
    "# magnitude/length of a vector\n",
    "a = np.array([1,2])\n",
    "np.linalg.norm(a) # sqrt(1^2+2^2)"
   ]
  },
  {
   "cell_type": "code",
   "execution_count": null,
   "id": "56a5210f-3751-4906-97a8-eb9d9f8554ca",
   "metadata": {},
   "outputs": [],
   "source": [
    "np.sqrt(1**2+2**2)"
   ]
  },
  {
   "cell_type": "code",
   "execution_count": null,
   "id": "5df9b995-bb9c-4ce3-a14c-9d373c1bd109",
   "metadata": {},
   "outputs": [],
   "source": [
    "# inverse of a matrix\n",
    "A = np.array([[2,0,-1],[-2,0,2],[1,-1,0]])\n",
    "print(A)\n",
    "B = np.linalg.inv(A)\n",
    "B"
   ]
  },
  {
   "cell_type": "code",
   "execution_count": null,
   "id": "7b212f9a-f1f1-4426-ba08-b6d50cd80b94",
   "metadata": {},
   "outputs": [],
   "source": [
    "# dot product to verify the inverse\n",
    "B.dot(A)"
   ]
  },
  {
   "cell_type": "markdown",
   "id": "c200f3ec-6842-4e24-8d79-86d227917393",
   "metadata": {},
   "source": [
    "### Solving a set of linear equations\n",
    "#### using a 3x3 Matrix and a Vector\n",
    "\n",
    "Consider the following system of linear equations with 3 equations and 3 unknowns $x,y,z$:\n",
    "\n",
    "$\n",
    "\\begin{align}\n",
    "2x + 3y + z &= 1 \\\\\n",
    "4x + y + 2z &= 2 \\\\\n",
    "3x + 2y + 3z &= 3\n",
    "\\end{align}\n",
    "$\n",
    "\n",
    "This can be represented in matrix form as:\n",
    "\n",
    "$\n",
    "\\mathbf{A} \\mathbf{x} = \\mathbf{b}\n",
    "$\n",
    "\n",
    "Where:\n",
    "\n",
    "$\n",
    "\\mathbf{A} = \\begin{bmatrix}\n",
    "2 & 3 & 1 \\\\\n",
    "4 & 1 & 2 \\\\\n",
    "3 & 2 & 3\n",
    "\\end{bmatrix}, \\quad\n",
    "\\mathbf{x} = \\begin{bmatrix}\n",
    "x \\\\\n",
    "y \\\\\n",
    "z\n",
    "\\end{bmatrix}, \\quad\n",
    "\\mathbf{b} = \\begin{bmatrix}\n",
    "1 \\\\\n",
    "2 \\\\\n",
    "3\n",
    "\\end{bmatrix}\n",
    "$\n",
    "\n",
    "We can solve this easily using linear algebra functionality in NumPy"
   ]
  },
  {
   "cell_type": "code",
   "execution_count": null,
   "id": "265c14da-d984-435c-bc55-97e6bc7f6ad9",
   "metadata": {},
   "outputs": [],
   "source": [
    "A = np.array([\n",
    "    [2, 3, 1],\n",
    "    [4, 1, 2],\n",
    "    [3, 2, 3]\n",
    "])\n",
    "\n",
    "# Define the vector b\n",
    "b = np.array([1, 2, 3])\n",
    "\n",
    "# Solve for x using numpy.linalg.solve\n",
    "x = np.linalg.solve(A, b)\n",
    "x"
   ]
  },
  {
   "cell_type": "code",
   "execution_count": null,
   "id": "2c29651d",
   "metadata": {},
   "outputs": [],
   "source": [
    "# veryfing the solution\n",
    "A.dot(x)\n"
   ]
  },
  {
   "cell_type": "markdown",
   "id": "2f3ba1c9-4d65-4a28-944a-50481fc3fce3",
   "metadata": {},
   "source": [
    "### Example: Balancing a redox equations\n",
    "\n",
    "Oxidation of Fe(II) to Fe(III) using an acid (pH-dependent)\n",
    "\n",
    "$$\\require{mhchem}$$\n",
    "$$\\ce{aFe^2+ + bH_2O_2 + cH+->dFe^{3+} + eH_2O}$$\n",
    "\n",
    "The stoichiometry and the total charge need to be balanced, leading to 4 equations:\n",
    "\n",
    "| element | equation       |\n",
    "|---------|----------------|\n",
    "| stoichiometry Fe      | a = d          |\n",
    "| stoichiometry H       | 2b + c = 2e    |\n",
    "| stoichiometry O       | 2b = e         |\n",
    "| Total charge  | 2a + c = 3d  \n",
    "\n",
    "We have 5 unknowns in 4 equations, so the problem is underdetermined. Lets try first/assume: a = d = 1.\n",
    "\n",
    "### Set of linear equations\n",
    "\n",
    "1. $ a - d = 0 $\n",
    "2. $ 2b + c - 2e = 0 $\n",
    "3. $ 2b - e = 0 $\n",
    "4. $ 2a + c - 3d = 0$\n",
    "5. $a=1$\n",
    "\n",
    "Matrix form:\n",
    "\n",
    "$\n",
    "\\begin{pmatrix}\n",
    "1 & 0 & 0 & -1 & 0 \\\\\n",
    "0 & 2 & 1 & 0 & -2 \\\\\n",
    "0 & 2 & 0 & 0 & -1 \\\\\n",
    "2 & 0 & 1 & -3 & 0 \\\\\n",
    "1 & 0 & 0 & 0 & 0 \\\\\n",
    "\\end{pmatrix}\n",
    "\\begin{pmatrix}\n",
    "a \\\\\n",
    "b \\\\\n",
    "c \\\\\n",
    "d \\\\\n",
    "e \\\\\n",
    "\\end{pmatrix}\n",
    "=\n",
    "\\begin{pmatrix}\n",
    "0 \\\\\n",
    "0 \\\\\n",
    "0 \\\\\n",
    "0 \\\\\n",
    "1 \\\\\n",
    "\\end{pmatrix}\n",
    "$\n"
   ]
  },
  {
   "cell_type": "code",
   "execution_count": null,
   "id": "9f88cda9-0693-4651-8a4d-7f56facdf025",
   "metadata": {},
   "outputs": [],
   "source": [
    "# Define the coefficient matrix A\n",
    "A = np.array([\n",
    "    [1, 0, 0, -1, 0],\n",
    "    [0, 2, 1, 0, -2],\n",
    "    [0, 2, 0, 0, -1],\n",
    "    [2, 0, 1, -3, 0],\n",
    "    [1, 0, 0, 0, 0]\n",
    "])\n",
    "x = np.array([0, 0, 0, 0,1])\n",
    "A,x"
   ]
  },
  {
   "cell_type": "code",
   "execution_count": null,
   "id": "4e1520c6-a515-4ecf-baec-9c0ac5ad374c",
   "metadata": {},
   "outputs": [],
   "source": [
    "# solve the system of linear equations\n",
    "r = np.linalg.solve(A,x) \n",
    "# we can scale the solution with a factor of 2\n",
    "r_final = r * 2\n",
    "print(f\"The solution is a: {r_final[0]:.2f}, b: {r_final[1]:.2f}, c: {r_final[2]:.2f}, d: {r_final[3]:.2f}, e: {r_final[4]:.2f}\")\n"
   ]
  },
  {
   "cell_type": "code",
   "execution_count": null,
   "id": "c2bac1d5",
   "metadata": {
    "jupyter": {
     "source_hidden": true
    }
   },
   "outputs": [],
   "source": [
    "# verify the solution\n",
    "A.dot(r)"
   ]
  },
  {
   "cell_type": "markdown",
   "id": "bd467c2d-4ab0-439d-ab34-63e11919cdfb",
   "metadata": {},
   "source": [
    "#### Final redox equation\n",
    "\n",
    "which can be scaled with a factor of 2:  \n",
    "$$\\require{mhchem}$$\n",
    "$$\\ce{1Fe^2+ + 0.5H_2O_2 + 1H+->1Fe3+ + 1H_2O}$$  \n",
    "\n",
    "$$\\ce{2Fe^2+ + 1H_2O_2 + 2H+->2Fe3+ + 2H_2O}$$"
   ]
  },
  {
   "cell_type": "markdown",
   "id": "b8cf3fc7-9161-4a47-a36b-1a5dc9729ce0",
   "metadata": {},
   "source": [
    "### Eigenvalues and vectors\n",
    "\n",
    " Eigenvalues and eigenvectors are fundamental concepts in linear algebra. For a square matrix $\\mathbf{A}$, an eigenvector $\\mathbf{v}$ is a non-zero vector that, when multiplied by $\\mathbf{A}$, results in a scalar multiple of itself:\n",
    " \n",
    " $\\mathbf{A}\\mathbf{v} = \\lambda\\mathbf{v}$\n",
    " \n",
    " where $\\lambda$ is called the eigenvalue corresponding to eigenvector $\\mathbf{v}$. This equation can be rewritten as:\n",
    " \n",
    " $(\\mathbf{A} - \\lambda\\mathbf{I})\\mathbf{v} = \\mathbf{0}$\n",
    " \n",
    " where $\\mathbf{I}$ is the identity matrix. For this equation to have non-trivial solutions, the determinant must be zero:\n",
    " \n",
    " $\\det(\\mathbf{A} - \\lambda\\mathbf{I}) = 0$\n",
    " \n",
    " This is called the characteristic equation, and its solutions are the eigenvalues of $\\mathbf{A}$.\n",
    "\n",
    " See also: https://www.youtube.com/watch?v=PFDu9oVAE-g\n",
    "\n"
   ]
  },
  {
   "cell_type": "code",
   "execution_count": null,
   "id": "2d3fb48b-2556-482f-8e1e-f77b173bf335",
   "metadata": {},
   "outputs": [],
   "source": [
    "A = np.array([[1,2],[3,0]])\n",
    "A"
   ]
  },
  {
   "cell_type": "code",
   "execution_count": null,
   "id": "d719058d-7370-49c9-b96d-1c64bf6ed986",
   "metadata": {},
   "outputs": [],
   "source": [
    "v, P = np.linalg.eig(A) # eigenvalues v and eigenvectors P\n",
    "v, P"
   ]
  },
  {
   "cell_type": "code",
   "execution_count": null,
   "id": "52694733-9cf3-440d-b3a8-1253b37686a1",
   "metadata": {},
   "outputs": [],
   "source": [
    "P[0],P[1] # eigenvector 1 and 2"
   ]
  },
  {
   "cell_type": "code",
   "execution_count": null,
   "id": "d60ac65f-3564-48ed-9704-0770fabb0375",
   "metadata": {},
   "outputs": [],
   "source": [
    "A.dot(P)"
   ]
  },
  {
   "cell_type": "code",
   "execution_count": null,
   "id": "1229c8a9-f52f-4815-ab3a-c658b8e7ee38",
   "metadata": {},
   "outputs": [],
   "source": [
    "v * P"
   ]
  },
  {
   "cell_type": "markdown",
   "id": "7981e0d2",
   "metadata": {},
   "source": []
  }
 ],
 "metadata": {
  "kernelspec": {
   "display_name": "Python 3 (ipykernel)",
   "language": "python",
   "name": "python3"
  },
  "language_info": {
   "codemirror_mode": {
    "name": "ipython",
    "version": 3
   },
   "file_extension": ".py",
   "mimetype": "text/x-python",
   "name": "python",
   "nbconvert_exporter": "python",
   "pygments_lexer": "ipython3",
   "version": "3.10.13"
  }
 },
 "nbformat": 4,
 "nbformat_minor": 5
}
